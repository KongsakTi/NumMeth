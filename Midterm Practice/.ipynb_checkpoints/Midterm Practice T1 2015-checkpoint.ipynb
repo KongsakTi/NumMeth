{
 "cells": [
  {
   "cell_type": "markdown",
   "metadata": {},
   "source": [
    "###Instruction\n",
    " - There are 8 problems. 100 Points each. The full score is 720.\n",
    " - Work in your notebook.\n",
    " - You may show your work on a separate sheet of A4. I'll also check there for partial credit. If you just give you answer without justification and it's wrong I can't give you any partial credit. Make sure you mark which question the scribble belongs to.\n",
    " - You may ask me for python syntax or matplotlib question. But, you know you can use shift-tab or ? for documentation.\n",
    " - Make sure your code works in order doing Kernel-->restart and then Cell--> Run All. Make sure what appears in the ouput is what you expect"
   ]
  },
  {
   "cell_type": "code",
   "execution_count": 1,
   "metadata": {
    "collapsed": true
   },
   "outputs": [],
   "source": [
    "%matplotlib inline\n",
    "import numpy as np\n",
    "from matplotlib import pyplot as plt\n",
    "import math"
   ]
  },
  {
   "cell_type": "markdown",
   "metadata": {},
   "source": [
    "###Problem 1)(100) 25 each."
   ]
  },
  {
   "cell_type": "markdown",
   "metadata": {},
   "source": [
    "1.1) Find first 3 **non-zero** terms taylor series expansion of\n",
    "$$ f(x) = e^{x} $$ around $x=0$."
   ]
  },
  {
   "cell_type": "markdown",
   "metadata": {
    "collapsed": true
   },
   "source": [
    "$$ a_0 = f(0) = 1 $$\n",
    "$$ a_1 = f^1(0) = 1 $$\n",
    "$$ a_2 = f^2(0) = 1 $$\n"
   ]
  },
  {
   "cell_type": "code",
   "execution_count": 15,
   "metadata": {
    "collapsed": true
   },
   "outputs": [],
   "source": [
    "fac = lambda x: x * fac(x - 1) if x != 0 else 1"
   ]
  },
  {
   "cell_type": "code",
   "execution_count": 16,
   "metadata": {
    "collapsed": false
   },
   "outputs": [],
   "source": [
    "f = lambda x, a: sum([a[i] * x**i / fac(i) for i in xrange(len(a))])"
   ]
  },
  {
   "cell_type": "code",
   "execution_count": 17,
   "metadata": {
    "collapsed": true
   },
   "outputs": [],
   "source": [
    "ais = [1, 1, 1]"
   ]
  },
  {
   "cell_type": "code",
   "execution_count": null,
   "metadata": {
    "collapsed": false
   },
   "outputs": [],
   "source": []
  },
  {
   "cell_type": "markdown",
   "metadata": {},
   "source": [
    "1.2) Use the taylor above to estimate $$e^{0.1}$$."
   ]
  },
  {
   "cell_type": "code",
   "execution_count": 19,
   "metadata": {
    "collapsed": false
   },
   "outputs": [
    {
     "data": {
      "text/plain": [
       "1.105"
      ]
     },
     "execution_count": 19,
     "metadata": {},
     "output_type": "execute_result"
    }
   ],
   "source": [
    "f(0.1, ais)"
   ]
  },
  {
   "cell_type": "markdown",
   "metadata": {},
   "source": [
    "1.3) What is the bound on **truncation error** for the estimate you got in 1.2)?"
   ]
  },
  {
   "cell_type": "code",
   "execution_count": 32,
   "metadata": {
    "collapsed": false
   },
   "outputs": [
    {
     "name": "stdout",
     "output_type": "stream",
     "text": [
      "0.000184195153013 1.10518419515 1.10517091808\n"
     ]
    }
   ],
   "source": [
    "def calError_w(x):\n",
    "    def calError(n):\n",
    "        n = n + 1.\n",
    "        return  np.exp(x) * (x**n)/fac(n)\n",
    "    return calError\n",
    "\n",
    "calError = calError_w(0.1)\n",
    "\n",
    "print calError(2), calError(2) + f(0.1, ais), np.exp(0.1)"
   ]
  },
  {
   "cell_type": "markdown",
   "metadata": {},
   "source": [
    "1.4) How many **non-zero** terms do I need such that the bound **truncation error** is less than $10^{-7}$?"
   ]
  },
  {
   "cell_type": "code",
   "execution_count": 36,
   "metadata": {
    "collapsed": false
   },
   "outputs": [
    {
     "name": "stdout",
     "output_type": "stream",
     "text": [
      "4\n"
     ]
    }
   ],
   "source": [
    "i = 0\n",
    "while calError(i) > 1e-7:\n",
    "    i += 1\n",
    "print i"
   ]
  },
  {
   "cell_type": "markdown",
   "metadata": {},
   "source": [
    "###Problem 2) (100)"
   ]
  },
  {
   "cell_type": "markdown",
   "metadata": {},
   "source": [
    "2.1) Use bisection method to find **all solutions** of\n",
    "\n",
    "$$ \\sin(x^2)/x^2 = 0.1 $$\n",
    "\n",
    "for $x>0.1$. See pic below.\n",
    "\n",
    "Make sure your answers are at most $10^{-4}$ away from the actual solution."
   ]
  },
  {
   "cell_type": "code",
   "execution_count": 37,
   "metadata": {
    "collapsed": false
   },
   "outputs": [
    {
     "data": {
      "image/png": "[encoded data removed]",
      "text/plain": [
       "<matplotlib.figure.Figure at 0x110891bd0>"
      ]
     },
     "metadata": {},
     "output_type": "display_data"
    }
   ],
   "source": [
    "def f(x):\n",
    "    return math.sin(x**2)/(x**2)\n",
    "x = np.linspace(0.1,20,1000)\n",
    "fx = [f(xx) for xx in x]\n",
    "plt.plot(x,fx, 'r')\n",
    "plt.axhline(0.1)\n",
    "plt.grid()"
   ]
  },
  {
   "cell_type": "code",
   "execution_count": 110,
   "metadata": {
    "collapsed": false
   },
   "outputs": [
    {
     "data": {
      "text/plain": [
       "(-0.05, 0.05)"
      ]
     },
     "execution_count": 110,
     "metadata": {},
     "output_type": "execute_result"
    },
    {
     "data": {
      "image/png": "[encoded data removed]",
      "text/plain": [
       "<matplotlib.figure.Figure at 0x1108e1710>"
      ]
     },
     "metadata": {},
     "output_type": "display_data"
    }
   ],
   "source": [
    "def f_new(x):\n",
    "    return math.sin(x**2)/(x**2) - 0.1\n",
    "\n",
    "def findInt_wrapper(cal):\n",
    "    def findInt(fm, to):    \n",
    "        mid = (fm + to)/2.\n",
    "        while np.abs(cal(mid)) > 1e-10 and (to - fm) > 1e-10:\n",
    "            if cal(mid) < 0 and cal(fm) > 0:\n",
    "                to = mid\n",
    "            else:\n",
    "                fm = mid\n",
    "            mid = (fm + to)/2.\n",
    "        return mid\n",
    "    return findInt\n",
    "\n",
    "findInt = findInt_wrapper(f_new)\n",
    "\n",
    "x = np.linspace(0.1,20,1000)\n",
    "fx = [f_new(xx) for xx in x]\n",
    "plt.plot(x,fx, 'r')\n",
    "plt.axhline(0)\n",
    "plt.grid()\n",
    "plt.xlim(1, 4)\n",
    "plt.ylim(-0.05, 0.05)\n"
   ]
  },
  {
   "cell_type": "code",
   "execution_count": 116,
   "metadata": {
    "collapsed": false
   },
   "outputs": [
    {
     "data": {
      "text/plain": [
       "(-0.05, 0.05)"
      ]
     },
     "execution_count": 116,
     "metadata": {},
     "output_type": "execute_result"
    },
    {
     "data": {
      "image/png": "[encoded data removed]",
      "text/plain": [
       "<matplotlib.figure.Figure at 0x110c23950>"
      ]
     },
     "metadata": {},
     "output_type": "display_data"
    }
   ],
   "source": [
    "xs = [(1.5, 2), (2.5, 2.65), (2.6, 3.1)]\n",
    "x_ints = [ findInt( xs[i][0], xs[i][1] ) for i in xrange(len(xs)) ]\n",
    "\n",
    "x = np.linspace(0.1,20,1000)\n",
    "fx = [f_new(xx) for xx in x]\n",
    "plt.plot(x,fx, 'r')\n",
    "\n",
    "for x_int in x_ints:\n",
    "    plt.axvline(x_int, color = 'green', ls='--')\n",
    "plt.axhline(0)\n",
    "plt.grid()\n",
    "plt.xlim(1, 4)\n",
    "plt.ylim(-0.05, 0.05)\n",
    "# plt.ylim(-1e-4, 1e-4)"
   ]
  },
  {
   "cell_type": "code",
   "execution_count": 117,
   "metadata": {
    "collapsed": false
   },
   "outputs": [
    {
     "data": {
      "text/plain": [
       "[1.6888877684250474, 2.6499999999650754, 2.9022756474092604]"
      ]
     },
     "execution_count": 117,
     "metadata": {},
     "output_type": "execute_result"
    }
   ],
   "source": [
    "x_ints"
   ]
  },
  {
   "cell_type": "markdown",
   "metadata": {},
   "source": [
    "###Problem 3) (100)"
   ]
  },
  {
   "cell_type": "markdown",
   "metadata": {
    "collapsed": true
   },
   "source": [
    "3.1) (90 points) Use Newton's method to find intersection of the following two lines.\n",
    "\n",
    "$$f(x) = x^2 + 1$$\n",
    "\n",
    "$$g(x) = x^3$$\n",
    "\n",
    "Any **decent** result from Newton's method will get your full credit. You **must** use Newton's method. No credit will be given to any other method. "
   ]
  },
  {
   "cell_type": "code",
   "execution_count": 118,
   "metadata": {
    "collapsed": false
   },
   "outputs": [
    {
     "data": {
      "image/png": "[encoded data removed]",
      "text/plain": [
       "<matplotlib.figure.Figure at 0x1108e3410>"
      ]
     },
     "metadata": {},
     "output_type": "display_data"
    }
   ],
   "source": [
    "def f(x):\n",
    "    return x**2 + 1\n",
    "def g(x):\n",
    "    return x**3\n",
    "x = np.linspace(0,2,100)\n",
    "fx = [f(xx) for xx in x]\n",
    "gx = [g(xx) for xx in x]\n",
    "plt.plot(x,fx)\n",
    "plt.plot(x,gx)\n",
    "plt.grid()"
   ]
  },
  {
   "cell_type": "code",
   "execution_count": 123,
   "metadata": {
    "collapsed": false
   },
   "outputs": [
    {
     "data": {
      "text/plain": [
       "<matplotlib.lines.Line2D at 0x110a3e410>"
      ]
     },
     "execution_count": 123,
     "metadata": {},
     "output_type": "execute_result"
    },
    {
     "data": {
      "image/png": "[encoded data removed]",
      "text/plain": [
       "<matplotlib.figure.Figure at 0x1109cd150>"
      ]
     },
     "metadata": {},
     "output_type": "display_data"
    }
   ],
   "source": [
    "find_int = lambda x:  g(x) - f(x)\n",
    "\n",
    "x = np.linspace(0,2,100)\n",
    "fx = [find_int(xx) for xx in x]\n",
    "plt.plot(x,fx)\n",
    "plt.grid()\n",
    "plt.axhline(0, c='r')"
   ]
  },
  {
   "cell_type": "code",
   "execution_count": 131,
   "metadata": {
    "collapsed": true
   },
   "outputs": [],
   "source": [
    "def newton(f, guess, h = 1e-10):\n",
    "    fdx = lambda x: (f(x + h) - f(x - h)) / (2.0 * h)\n",
    "    def next_guess(x):\n",
    "        return x - (f(x)/fdx(x))\n",
    "    guess = 2\n",
    "    while (np.abs(f(guess)) > 1e-4):\n",
    "        guess = next_guess(guess)\n",
    "    return guess"
   ]
  },
  {
   "cell_type": "code",
   "execution_count": 132,
   "metadata": {
    "collapsed": false
   },
   "outputs": [
    {
     "data": {
      "text/plain": [
       "1.4655713748764825"
      ]
     },
     "execution_count": 132,
     "metadata": {},
     "output_type": "execute_result"
    }
   ],
   "source": [
    "newton(find_int, 2)"
   ]
  },
  {
   "cell_type": "markdown",
   "metadata": {},
   "source": [
    "3.2)(5 Points) Which method converge faster: Newton's Method or bisection?"
   ]
  },
  {
   "cell_type": "code",
   "execution_count": null,
   "metadata": {
    "collapsed": true
   },
   "outputs": [],
   "source": [
    "Newton"
   ]
  },
  {
   "cell_type": "markdown",
   "metadata": {},
   "source": [
    "3.3) (5 Points) Does Newton's method guarantee to convege to the real answer?"
   ]
  },
  {
   "cell_type": "code",
   "execution_count": null,
   "metadata": {
    "collapsed": true
   },
   "outputs": [],
   "source": [
    "No"
   ]
  },
  {
   "cell_type": "markdown",
   "metadata": {},
   "source": [
    "### Problem 4)  (100)"
   ]
  },
  {
   "cell_type": "markdown",
   "metadata": {
    "collapsed": true
   },
   "source": [
    "4.1)(35 points) Show that\n",
    "\n",
    "$$f''(x) = \\frac{f(x+h) -2f(x) + f(x-h)}{h^2} + O(h^2)$$"
   ]
  },
  {
   "cell_type": "code",
   "execution_count": null,
   "metadata": {
    "collapsed": true
   },
   "outputs": [],
   "source": []
  },
  {
   "cell_type": "markdown",
   "metadata": {},
   "source": [
    "4.2)(35 points) Let\n",
    "$$f(x) = x^2 \\exp(x \\cos (x))$$\n",
    "Plot for $x \\in [0,2\\pi]$ the following lines\n",
    "\n",
    "1. $f(x)$\n",
    "2. $f'(x)$ caculated numerically using central difference method.\n",
    "3. $f''(x)$ calculated numerically.\n",
    "\n",
    "Pick appropriate value for $h$. Analytical answers will not be accepted."
   ]
  },
  {
   "cell_type": "code",
   "execution_count": null,
   "metadata": {
    "collapsed": true
   },
   "outputs": [],
   "source": []
  },
  {
   "cell_type": "markdown",
   "metadata": {},
   "source": [
    "4.3)(30 points) Plot polynomial of **degree 4** that passes through the following four points.\n",
    "$$(0.1, 1), (0.2,2), (0.5, 3),  (0,4), (1, 5) $$\n",
    "\n",
    "Make sure your polynomial is of **degree 4**."
   ]
  },
  {
   "cell_type": "code",
   "execution_count": 134,
   "metadata": {
    "collapsed": false
   },
   "outputs": [],
   "source": [
    "xs = [0.1, 0.2, 0.5, 0, 1]\n",
    "ys = [1, 2, 3, 4, 5]\n",
    "\n",
    "def get_f(xs, y, idx):\n",
    "    bottom = np.product([ 1. if (i == idx) else xs[idx] - xs[i] for i in xrange(len(xs)) ])\n",
    "    def f(x):\n",
    "        top = np.product([y if (i == idx) else x - xs[i] for i in xrange(len(xs)) ])\n",
    "        return top/bottom\n",
    "    return f\n",
    "\n",
    "fs = [get_f(xs, ys[i], i) for i in xrange(len(xs))]\n",
    "func = lambda x: sum([f(x) for f in fs])"
   ]
  },
  {
   "cell_type": "code",
   "execution_count": 136,
   "metadata": {
    "collapsed": false
   },
   "outputs": [
    {
     "data": {
      "text/plain": [
       "[<matplotlib.lines.Line2D at 0x110c6b650>]"
      ]
     },
     "execution_count": 136,
     "metadata": {},
     "output_type": "execute_result"
    },
    {
     "data": {
      "image/png": "[encoded data removed]",
      "text/plain": [
       "<matplotlib.figure.Figure at 0x110c539d0>"
      ]
     },
     "metadata": {},
     "output_type": "display_data"
    }
   ],
   "source": [
    "pxs = np.linspace(0, 1,100)\n",
    "pys = [func(x) for x in pxs]\n",
    "plt.plot(pxs, pys)\n",
    "plt.plot(xs,ys, 'ro')"
   ]
  },
  {
   "cell_type": "markdown",
   "metadata": {},
   "source": [
    "###Problem 5)  (100)"
   ]
  },
  {
   "cell_type": "markdown",
   "metadata": {
    "collapsed": true
   },
   "source": [
    "5.1) (70 points)Use trapezoid rule with 100 subdivision to find the following calculate the following integral.\n",
    "\n",
    "$$ \\int\\limits_{x=1}^{x=2} \\frac{1}{x^5} \\; dx$$"
   ]
  },
  {
   "cell_type": "code",
   "execution_count": null,
   "metadata": {
    "collapsed": true
   },
   "outputs": [],
   "source": []
  },
  {
   "cell_type": "markdown",
   "metadata": {},
   "source": [
    "5.2) (15 points)What is bound on **truncation error** for your answer in 3.1)"
   ]
  },
  {
   "cell_type": "code",
   "execution_count": null,
   "metadata": {
    "collapsed": true
   },
   "outputs": [],
   "source": []
  },
  {
   "cell_type": "markdown",
   "metadata": {},
   "source": [
    "5.3) (15 points) How many subdivision do we need to make sure that our answer is at most $10^{-6}$ from the real answer?"
   ]
  },
  {
   "cell_type": "code",
   "execution_count": null,
   "metadata": {
    "collapsed": true
   },
   "outputs": [],
   "source": []
  },
  {
   "cell_type": "markdown",
   "metadata": {},
   "source": [
    "###Problem 6) (100)"
   ]
  },
  {
   "cell_type": "markdown",
   "metadata": {
    "collapsed": true
   },
   "source": [
    "6.1) (100) Fit these data point with a straight line. Plot the data point along with the fitted line."
   ]
  },
  {
   "cell_type": "code",
   "execution_count": 16,
   "metadata": {
    "collapsed": false
   },
   "outputs": [
    {
     "data": {
      "text/plain": [
       "[<matplotlib.lines.Line2D at 0x10619eb10>]"
      ]
     },
     "execution_count": 16,
     "metadata": {},
     "output_type": "execute_result"
    },
    {
     "data": {
      "image/png": "[encoded data removed]",
      "text/plain": [
       "<matplotlib.figure.Figure at 0x106777490>"
      ]
     },
     "metadata": {},
     "output_type": "display_data"
    }
   ],
   "source": [
    "np.random.seed(31453)\n",
    "n = 100\n",
    "x = np.linspace(2,10,n)\n",
    "y = 2.2222 * x + 3.3333 + np.random.randn(n)*2\n",
    "plt.plot(x,y,'.')"
   ]
  },
  {
   "cell_type": "code",
   "execution_count": null,
   "metadata": {
    "collapsed": true
   },
   "outputs": [],
   "source": []
  },
  {
   "cell_type": "markdown",
   "metadata": {},
   "source": [
    "###Problem 7) (100)"
   ]
  },
  {
   "cell_type": "markdown",
   "metadata": {},
   "source": [
    "7) Do the semicircle problem from scratch."
   ]
  },
  {
   "cell_type": "code",
   "execution_count": null,
   "metadata": {
    "collapsed": true
   },
   "outputs": [],
   "source": []
  },
  {
   "cell_type": "markdown",
   "metadata": {},
   "source": [
    "###Problem 8)  (100)"
   ]
  },
  {
   "cell_type": "markdown",
   "metadata": {},
   "source": [
    "8) Previous Midterm. Problem 6."
   ]
  },
  {
   "cell_type": "code",
   "execution_count": null,
   "metadata": {
    "collapsed": true
   },
   "outputs": [],
   "source": []
  }
 ],
 "metadata": {
  "kernelspec": {
   "display_name": "Python 2",
   "language": "python",
   "name": "python2"
  },
  "language_info": {
   "codemirror_mode": {
    "name": "ipython",
    "version": 2
   },
   "file_extension": ".py",
   "mimetype": "text/x-python",
   "name": "python",
   "nbconvert_exporter": "python",
   "pygments_lexer": "ipython2",
   "version": "2.7.10"
  }
 },
 "nbformat": 4,
 "nbformat_minor": 0
}

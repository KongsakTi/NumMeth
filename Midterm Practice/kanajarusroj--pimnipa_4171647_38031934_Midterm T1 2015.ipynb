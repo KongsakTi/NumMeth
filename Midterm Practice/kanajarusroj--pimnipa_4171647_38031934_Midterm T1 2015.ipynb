{
 "cells": [
  {
   "cell_type": "markdown",
   "metadata": {},
   "source": [
    "###Instruction\n",
    " - There are 8 problems. 100 Points each. The full score is 720.\n",
    " - Work in your notebook.\n",
    " - You may show your work on a separate sheet of A4. I'll also check there for partial credit. If you just give you answer without justification and it's wrong I can't give you any partial credit.\n",
    " - You may ask me for python syntax or matplotlib question. But, you know you can use shift-tab or ? for documentation.\n",
    " - Make sure your code works in order doing Kernel-->restart and then Cell--> Run All. Make sure what appears in the ouput is what you expect"
   ]
  },
  {
   "cell_type": "code",
   "execution_count": 282,
   "metadata": {
    "collapsed": true
   },
   "outputs": [],
   "source": [
    "%matplotlib inline\n",
    "import numpy as np\n",
    "from matplotlib import pyplot as plt\n",
    "import math"
   ]
  },
  {
   "cell_type": "markdown",
   "metadata": {},
   "source": [
    "<span style=\"color:red\">800/720 100+% A+++. You and boss are the only two people who notice that we need 5 not 6 terms.</span>"
   ]
  },
  {
   "cell_type": "markdown",
   "metadata": {},
   "source": [
    "###Problem 1)(100) 25 each."
   ]
  },
  {
   "cell_type": "markdown",
   "metadata": {},
   "source": [
    "1.1) Find first 3 **non-zero** terms taylor series expansion of\n",
    "$$ f(x) = \\sqrt{1+x} $$ around $x=0$."
   ]
  },
  {
   "cell_type": "markdown",
   "metadata": {},
   "source": [
    "<span style=\"color:red\">25</span>"
   ]
  },
  {
   "cell_type": "code",
   "execution_count": 281,
   "metadata": {
    "collapsed": false
   },
   "outputs": [],
   "source": [
    "# Answer is in the paper\n",
    "# 1+(x/2.)-((x**2)/8.)"
   ]
  },
  {
   "cell_type": "markdown",
   "metadata": {},
   "source": [
    "1.2) Use the taylor series above to estimate $$\\sqrt{0.9}$$."
   ]
  },
  {
   "cell_type": "markdown",
   "metadata": {},
   "source": [
    "<span style=\"color:red\">25</span>"
   ]
  },
  {
   "cell_type": "code",
   "execution_count": 283,
   "metadata": {
    "collapsed": false
   },
   "outputs": [
    {
     "name": "stdout",
     "output_type": "stream",
     "text": [
      "real sqr(0.9): 0.948683298051\n",
      "result: 0.94875\n"
     ]
    }
   ],
   "source": [
    "print \"real sqr(0.9):\", 0.9**0.5\n",
    "\n",
    "# x = -0.1 because sqr(0.9) => (1+(-0.1)) = 0.9\n",
    "x = -0.1\n",
    "result = 1+(x/2.)-((x**2)/8.)\n",
    "print \"result:\", result\n"
   ]
  },
  {
   "cell_type": "markdown",
   "metadata": {},
   "source": [
    "1.3) What is the bound on **truncation error** for the estimate you got in 1.2)?"
   ]
  },
  {
   "cell_type": "markdown",
   "metadata": {},
   "source": [
    "<span style=\"color:red\">25</span>"
   ]
  },
  {
   "cell_type": "code",
   "execution_count": 284,
   "metadata": {
    "collapsed": false
   },
   "outputs": [
    {
     "name": "stdout",
     "output_type": "stream",
     "text": [
      "0.375 0.488005811754\n",
      "real sqr(0.9): 0.948683298051\n",
      "taylor: 0.94875\n",
      "error: -8.13343019591e-05\n",
      "Upper Bound: 0.948668665698\n",
      "Lower Bound: 0.948831334302\n"
     ]
    }
   ],
   "source": [
    "def f3(x):\n",
    "    return (3./8)*((1+x)**(-5./2))\n",
    "print f3(0.), f3(-0.1)\n",
    "# worse case is at f3(-0.1)\n",
    "\n",
    "print \"real sqr(0.9):\", 0.9**0.5\n",
    "print \"taylor:\", result\n",
    "\n",
    "# error of taylor series of 3 non_zero time is at term 3\n",
    "error = (f3(-0.1)/math.factorial(3))*((-0.1)**3)\n",
    "print \"error:\", error\n",
    "\n",
    "upper = result + error\n",
    "lower = result - error\n",
    "\n",
    "print \"Upper Bound:\", upper\n",
    "print \"Lower Bound:\", lower\n"
   ]
  },
  {
   "cell_type": "markdown",
   "metadata": {},
   "source": [
    "1.4) How many **non-zero** terms do I need such that the bound **truncation error** is less than $10^{-7}$?\n",
    "\n",
    "Hint: Try doing a couple derivative and you will see the patterns."
   ]
  },
  {
   "cell_type": "markdown",
   "metadata": {},
   "source": [
    "<span style=\"color:red\">25</span>"
   ]
  },
  {
   "cell_type": "code",
   "execution_count": 285,
   "metadata": {
    "collapsed": false
   },
   "outputs": [
    {
     "name": "stdout",
     "output_type": "stream",
     "text": [
      "5 term\n"
     ]
    }
   ],
   "source": [
    "def fe(x,a,b):\n",
    "    return a*((1+x)**b)\n",
    " \n",
    "def err(a,b,n):\n",
    "    result = (fe(-0.1,a,b)/math.factorial(n))*((-0.1)**n)\n",
    "    while result < (-10**-7):\n",
    "        n += 1\n",
    "        a = a*b\n",
    "        b = b-1\n",
    "        result = (fe(-0.1,a,b)/math.factorial(n))*((-0.1)**n)\n",
    "#         print a,b,n,result\n",
    "    return n-1\n",
    "print err(-1/4.,-3/2.,2), \"term\"\n"
   ]
  },
  {
   "cell_type": "markdown",
   "metadata": {},
   "source": [
    "###Problem 2) (100)"
   ]
  },
  {
   "cell_type": "markdown",
   "metadata": {},
   "source": [
    "2.1) Use bisection method to find **all solutions** of\n",
    "\n",
    "$$ 2e^{-0.1x}\\sin(x) = 0.55 $$\n",
    "\n",
    "for $x>0$. See pic below.\n",
    "\n",
    "Make sure your answers are at most $10^{-4}$ away from the actual solution."
   ]
  },
  {
   "cell_type": "markdown",
   "metadata": {},
   "source": [
    "<span style=\"color:red\">100</span>"
   ]
  },
  {
   "cell_type": "code",
   "execution_count": 286,
   "metadata": {
    "collapsed": false
   },
   "outputs": [
    {
     "name": "stdout",
     "output_type": "stream",
     "text": [
      "Ans 1: 0.286926269531\n",
      "Ans 2: 2.77032470703\n",
      "Ans 3: 6.86099243164\n",
      "Ans 4: 8.70806884766\n"
     ]
    },
    {
     "data": {
      "text/plain": [
       "<matplotlib.lines.Line2D at 0x112e71f50>"
      ]
     },
     "execution_count": 286,
     "metadata": {},
     "output_type": "execute_result"
    },
    {
     "data": {
      "image/png": "[encoded data removed]",
      "text/plain": [
       "<matplotlib.figure.Figure at 0x112b914d0>"
      ]
     },
     "metadata": {},
     "output_type": "display_data"
    }
   ],
   "source": [
    "def f(x):\n",
    "    return 2*math.exp(-0.1*x)*math.sin(x)\n",
    "x = np.linspace(0,20,100)\n",
    "fx = [f(xx) for xx in x]\n",
    "plt.plot(x,fx, 'r')\n",
    "plt.axhline(0.55)\n",
    "plt.grid()\n",
    "\n",
    "# To get data at y = 0.55\n",
    "def f(x):\n",
    "    return (2*math.exp(-0.1*x)*math.sin(x))-0.55\n",
    "\n",
    "# I check the error how far of value y (at middle) at that time from the 0\n",
    "def bisection(x1,x2):\n",
    "    mid = (x1+x2)/2.\n",
    "    left = f(x1) * f(mid)\n",
    "    right = f(x2) * f(mid)\n",
    "    if (x2-x1)/2. < 10**-4:\n",
    "        return mid\n",
    "    else:\n",
    "        if left < 0:\n",
    "            return bisection(x1,mid)\n",
    "        elif right < 0:\n",
    "            return bisection(mid,x2)\n",
    "    \n",
    "print \"Ans 1:\", bisection(0.,1.)\n",
    "print \"Ans 2:\", bisection(1.,5.)\n",
    "print \"Ans 3:\", bisection(5.,8.)\n",
    "print \"Ans 4:\", bisection(8.,10.)\n",
    "\n",
    "#plt.xlim(0,10)\n",
    "\n",
    "plt.axvline(bisection(0.,1.), color='green', linestyle='dashed')\n",
    "plt.axvline(bisection(1.,5.), color='green', linestyle='dashed')\n",
    "plt.axvline(bisection(5.,8.), color='green', linestyle='dashed')\n",
    "plt.axvline(bisection(8.,10.), color='green', linestyle='dashed')\n"
   ]
  },
  {
   "cell_type": "code",
   "execution_count": null,
   "metadata": {
    "collapsed": true
   },
   "outputs": [],
   "source": []
  },
  {
   "cell_type": "markdown",
   "metadata": {},
   "source": [
    "###Problem 3) (100)"
   ]
  },
  {
   "cell_type": "markdown",
   "metadata": {
    "collapsed": true
   },
   "source": [
    "3.1) (90 points) Use Newton's method to find intersection of the following two lines.\n",
    "\n",
    "$$f(x) = e^x -1.5$$\n",
    "\n",
    "$$g(x) = x + \\sin(x)$$\n",
    "\n",
    "Any **decent** result from Newton's method will get your full credit. You **must** use Newton's method. No credit will be given to any other method. "
   ]
  },
  {
   "cell_type": "markdown",
   "metadata": {},
   "source": [
    "<span style=\"color:red\">90</span>"
   ]
  },
  {
   "cell_type": "code",
   "execution_count": 287,
   "metadata": {
    "collapsed": false
   },
   "outputs": [
    {
     "name": "stdout",
     "output_type": "stream",
     "text": [
      "x = 1.33784964779\n"
     ]
    },
    {
     "data": {
      "text/plain": [
       "<matplotlib.lines.Line2D at 0x1130bf3d0>"
      ]
     },
     "execution_count": 287,
     "metadata": {},
     "output_type": "execute_result"
    },
    {
     "data": {
      "image/png": "[encoded data removed]",
      "text/plain": [
       "<matplotlib.figure.Figure at 0x112dd1bd0>"
      ]
     },
     "metadata": {},
     "output_type": "display_data"
    }
   ],
   "source": [
    "def f(x):\n",
    "    return math.exp(x) - 1.5\n",
    "def g(x):\n",
    "    return x + math.sin(x)\n",
    "x = np.linspace(0,2,100)\n",
    "fx = [f(xx) for xx in x]\n",
    "gx = [g(xx) for xx in x]\n",
    "plt.plot(x,fx, label='fx')\n",
    "plt.plot(x,gx, label='gx')\n",
    "plt.axhline(0, color='red')\n",
    "plt.grid()\n",
    "\n",
    "# The intersection of 2 function mean f(x)=g(x)\n",
    "def new_f(x):\n",
    "    return x+math.sin(x)-(math.e**x)+1.5\n",
    "zx = [new_f(xx) for xx in x]\n",
    "plt.plot(x,zx, color='pink', label='new')\n",
    "plt.legend()\n",
    "\n",
    "# derivative of new function\n",
    "def derif(x):\n",
    "    h = 0.01\n",
    "    return (new_f(x+(h/2.))-new_f(x-(h/2.)))/h\n",
    "\n",
    "def newton(x,n):\n",
    "    result = x\n",
    "    for num in range(n):\n",
    "        result = result - (new_f(result)/derif(result))\n",
    "    return result\n",
    "answer = newton(1,5)\n",
    "\n",
    "print \"x =\", answer\n",
    "plt.axvline(answer, linestyle='dashed', color='orange')"
   ]
  },
  {
   "cell_type": "code",
   "execution_count": null,
   "metadata": {
    "collapsed": true
   },
   "outputs": [],
   "source": []
  },
  {
   "cell_type": "markdown",
   "metadata": {},
   "source": [
    "3.2)(5 Points) Which method converge faster: Newton's Method or bisection?"
   ]
  },
  {
   "cell_type": "markdown",
   "metadata": {},
   "source": [
    "<span style=\"color:red\">5</span>"
   ]
  },
  {
   "cell_type": "code",
   "execution_count": 197,
   "metadata": {
    "collapsed": true
   },
   "outputs": [],
   "source": [
    "# Newton Method is coverge faster than bisection method because draw a tangent line \n",
    "# is a better guess of next x than mid point guess"
   ]
  },
  {
   "cell_type": "markdown",
   "metadata": {},
   "source": [
    "3.3) (5 Points) Does Newton's method guarantee to convege to the real answer?"
   ]
  },
  {
   "cell_type": "markdown",
   "metadata": {},
   "source": [
    "<span style=\"color:red\">5</span>"
   ]
  },
  {
   "cell_type": "code",
   "execution_count": 198,
   "metadata": {
    "collapsed": true
   },
   "outputs": [],
   "source": [
    "# No!\n",
    "# Newton method is not guarantee to get the real answer\n",
    "# because first, if the point is at the highest, the tangent line will be horizontal\n",
    "# second, if tangent line is in circular back and forec between 2 point then no answer\n",
    "# third, if tangent line make you go far from the answer"
   ]
  },
  {
   "cell_type": "markdown",
   "metadata": {},
   "source": [
    "### Problem 4)  (100)"
   ]
  },
  {
   "cell_type": "markdown",
   "metadata": {
    "collapsed": true
   },
   "source": [
    "4.1)(35 points) Show that\n",
    "\n",
    "$$f'(x) = \\frac{-f(x+2h)+4f(x+h)-3f(x)}{2h} + O(h^2)$$"
   ]
  },
  {
   "cell_type": "markdown",
   "metadata": {},
   "source": [
    "<span style=\"color:red\">35</span>"
   ]
  },
  {
   "cell_type": "code",
   "execution_count": 288,
   "metadata": {
    "collapsed": true
   },
   "outputs": [],
   "source": [
    "# Answer is in the paper"
   ]
  },
  {
   "cell_type": "markdown",
   "metadata": {},
   "source": [
    "4.2)(35 points) Let\n",
    "$$f(x) = \\sin(x^2)$$\n",
    "Plot for $x \\in [0,2\\pi]$ the following lines\n",
    "\n",
    "1. $f(x)$\n",
    "2. $f'(x)$ caculated numerically using central difference method\n",
    "3. $f''(x)$ calculated numerically\n",
    "\n",
    "Pick appropriate value for $h$. Analytical answers will not be accepted."
   ]
  },
  {
   "cell_type": "markdown",
   "metadata": {},
   "source": [
    "<span style=\"color:red\">35</span>"
   ]
  },
  {
   "cell_type": "code",
   "execution_count": 289,
   "metadata": {
    "collapsed": false
   },
   "outputs": [
    {
     "data": {
      "image/png": "[encoded data removed]",
      "text/plain": [
       "<matplotlib.figure.Figure at 0x112e30190>"
      ]
     },
     "metadata": {},
     "output_type": "display_data"
    }
   ],
   "source": [
    "def f(x):\n",
    "    return math.sin(x**2)\n",
    "\n",
    "def f2(x,h):\n",
    "    return (f(x+(h/2.))-f(x-(h/2.)))/h\n",
    "\n",
    "def f3(x,h):\n",
    "    return (f2(x+h,h)-f2(x-h,h))/(2*h)\n",
    "\n",
    "xs = np.linspace(0,2*math.pi,100)\n",
    "y1 = [f(xx) for xx in xs]\n",
    "y2 = [f2(xx,0.01) for xx in xs]\n",
    "y3 = [f3(xx,0.01) for xx in xs]\n",
    "plt.plot(xs,y1)\n",
    "plt.plot(xs,y2)\n",
    "plt.plot(xs,y3)\n",
    "plt.grid()"
   ]
  },
  {
   "cell_type": "markdown",
   "metadata": {},
   "source": [
    "4.3)(30 points) Plot polynomial of **degree 3** that passes through the following four points.\n",
    "$$(0.1, 3), (0.2,1), (0.5, -1), (1, 1) $$\n",
    "\n",
    "Make sure your polynomial is of **degree 3**."
   ]
  },
  {
   "cell_type": "markdown",
   "metadata": {},
   "source": [
    "<span style=\"color:red\">30</span>"
   ]
  },
  {
   "cell_type": "code",
   "execution_count": 290,
   "metadata": {
    "collapsed": false
   },
   "outputs": [
    {
     "data": {
      "image/png": "[encoded data removed]",
      "text/plain": [
       "<matplotlib.figure.Figure at 0x112c3d5d0>"
      ]
     },
     "metadata": {},
     "output_type": "display_data"
    }
   ],
   "source": [
    "x = [0.1,0.2,0.5,1]\n",
    "y = [3,1,-1,1]\n",
    "plt.plot(x,y,'or')\n",
    "\n",
    "def w0(x):\n",
    "    return ((x-0.2)*(x-0.5)*(x-1))/((0.1-0.2)*(0.1-0.5)*(0.1-1))\n",
    "\n",
    "def w1(x):\n",
    "    return ((x-0.1)*(x-0.5)*(x-1))/((0.2-0.1)*(0.2-0.5)*(0.2-1))\n",
    "\n",
    "def w2(x):\n",
    "    return ((x-0.1)*(x-0.2)*(x-1))/((0.5-0.1)*(0.5-0.2)*(0.5-1))\n",
    "\n",
    "def w3(x):\n",
    "    return ((x-0.1)*(x-0.2)*(x-0.5))/((1-0.1)*(1-0.2)*(1-0.5))\n",
    "\n",
    "def p(x):\n",
    "    return (3*w0(x))+w1(x)+(-1*w2(x))+w3(x)\n",
    "\n",
    "xs = np.linspace(0,1.5,100)\n",
    "ys = [p(xx) for xx in xs]\n",
    "plt.plot(xs,ys)\n",
    "plt.grid()"
   ]
  },
  {
   "cell_type": "markdown",
   "metadata": {},
   "source": [
    "###Problem 5)  (100)"
   ]
  },
  {
   "cell_type": "markdown",
   "metadata": {
    "collapsed": true
   },
   "source": [
    "5.1) (70 points)Use trapezoid rule with 100 subdivision to find the following calculate the following integral.\n",
    "\n",
    "$$ \\int\\limits_{x=1}^{x=2} \\frac{1}{x} \\; dx$$"
   ]
  },
  {
   "cell_type": "markdown",
   "metadata": {},
   "source": [
    "<span style=\"color:red\">70</span>"
   ]
  },
  {
   "cell_type": "code",
   "execution_count": 291,
   "metadata": {
    "collapsed": false
   },
   "outputs": [
    {
     "name": "stdout",
     "output_type": "stream",
     "text": [
      "Answer = 0.693153430482\n"
     ]
    }
   ],
   "source": [
    "def f(x):\n",
    "    return 1./x\n",
    "\n",
    "def trapezoid(x1,x2,n):\n",
    "    h = (x2-x1)/n\n",
    "    result = (f(x1)/2.) + (f(x1+(n*h))/2.)\n",
    "    for a in range(1,n):\n",
    "        result += f(x1+(a*h))\n",
    "    return result*h\n",
    "answer = trapezoid(1.,2.,100)\n",
    "\n",
    "print \"Answer =\", answer"
   ]
  },
  {
   "cell_type": "markdown",
   "metadata": {},
   "source": [
    "5.2) (15 points)What is bound on **truncation error** for your answer in 3.1)"
   ]
  },
  {
   "cell_type": "markdown",
   "metadata": {},
   "source": [
    "<span style=\"color:red\">15</span>"
   ]
  },
  {
   "cell_type": "code",
   "execution_count": 292,
   "metadata": {
    "collapsed": false
   },
   "outputs": [
    {
     "name": "stdout",
     "output_type": "stream",
     "text": [
      "2.0 0.25\n",
      "Answer = 0.693153430482\n",
      "error = 1.66666666667e-05\n",
      "Upper Bound: 0.693170097148\n",
      "Lower Bound: 0.693136763815\n"
     ]
    }
   ],
   "source": [
    "# error = (1./n**2)*(f2(E)/12.)*((b-a)**3)\n",
    "\n",
    "# second derivaive of 1/x\n",
    "def f2(x):\n",
    "    return 2./(x**3)\n",
    "print f2(1), f2(2)\n",
    "# worse case is at f(1)\n",
    "\n",
    "print \"Answer =\", answer\n",
    "\n",
    "def error(a,b,n,E):\n",
    "    return (1./n**2)*(f2(E)/12.)*((b-a)**3)\n",
    "errors = error(1,2,100,1)\n",
    "\n",
    "print \"error =\", errors\n",
    "\n",
    "upper = answer + errors\n",
    "lower = answer - errors\n",
    "\n",
    "print \"Upper Bound:\", upper\n",
    "print \"Lower Bound:\", lower"
   ]
  },
  {
   "cell_type": "markdown",
   "metadata": {},
   "source": [
    "5.3) (15 points) How many subdivision do we need to make sure that our answer is at most $10^{-6}$ from the real answer?"
   ]
  },
  {
   "cell_type": "markdown",
   "metadata": {},
   "source": [
    "<span style=\"color:red\">15</span>"
   ]
  },
  {
   "cell_type": "code",
   "execution_count": 293,
   "metadata": {
    "collapsed": false
   },
   "outputs": [
    {
     "name": "stdout",
     "output_type": "stream",
     "text": [
      "409 subdivision\n"
     ]
    }
   ],
   "source": [
    "# From previous 5.2 we get the worse case f_2(E) = 2.0\n",
    "\n",
    "def error(a,b,wc):\n",
    "    n = 1\n",
    "    result = (1./n**2)*(wc/12.)*((b-a)**3)\n",
    "    while result > 10**-6:\n",
    "        n += 1\n",
    "        result = (1./n**2)*(wc/12.)*((b-a)**3)\n",
    "    return n\n",
    "print error(1,2,2.0), \"subdivision\"\n"
   ]
  },
  {
   "cell_type": "markdown",
   "metadata": {},
   "source": [
    "###Problem 6) (100)"
   ]
  },
  {
   "cell_type": "markdown",
   "metadata": {},
   "source": [
    "<span style=\"color:red\">100</span>"
   ]
  },
  {
   "cell_type": "markdown",
   "metadata": {
    "collapsed": true
   },
   "source": [
    "6.1) (70 points) An ice cream store record the temperature and number of ice cream sold on each day. The store have the following data. The store owner want to model the data with a straight line\n",
    "$$ s = at + b$$\n",
    "where $s$ is sale number and $t$ is temperature in celcius.\n",
    "\n",
    "Find the slope and intercept of the best fitted line using least square method."
   ]
  },
  {
   "cell_type": "code",
   "execution_count": 294,
   "metadata": {
    "collapsed": false
   },
   "outputs": [
    {
     "name": "stdout",
     "output_type": "stream",
     "text": [
      "slope = 5.32377667673\n",
      "intercept = 18.944209959\n"
     ]
    },
    {
     "data": {
      "image/png": "[encoded data removed]",
      "text/plain": [
       "<matplotlib.figure.Figure at 0x112f47cd0>"
      ]
     },
     "metadata": {},
     "output_type": "display_data"
    }
   ],
   "source": [
    "temperature = [ 20.        ,  20.51724138,  21.03448276,  21.55172414,\n",
    "        22.06896552,  22.5862069 ,  23.10344828,  23.62068966,\n",
    "        24.13793103,  24.65517241,  25.17241379,  25.68965517,\n",
    "        26.20689655,  26.72413793,  27.24137931,  27.75862069,\n",
    "        28.27586207,  28.79310345,  29.31034483,  29.82758621,\n",
    "        30.34482759,  30.86206897,  31.37931034,  31.89655172,\n",
    "        32.4137931 ,  32.93103448,  33.44827586,  33.96551724,\n",
    "        34.48275862,  35.        ]\n",
    "sale = [ 137.51785095,  124.64402538,  134.12166738,  136.9660818 ,\n",
    "        125.79715671,  134.69878693,  143.17103597,  132.86731762,\n",
    "        139.17234271,  163.95542568,  154.81626083,  156.57737534,\n",
    "        164.53795806,  150.94106806,  158.46257369,  176.40478845,\n",
    "        159.69716465,  188.52792981,  173.26043665,  185.19117472,\n",
    "        188.23649894,  177.70904806,  176.95357726,  186.04751343,\n",
    "        192.19480621,  187.55949344,  195.22922111,  201.86099821,\n",
    "        195.35633724,  217.96614178]\n",
    "plt.plot(temperature, sale, '.')\n",
    "plt.ylabel('Ice cream sale')\n",
    "plt.xlabel('Temperature C')\n",
    "plt.grid()\n",
    "\n",
    "data_x = np.array(temperature)\n",
    "data_y = np.array(sale)\n",
    "\n",
    "lists = []\n",
    "def line(t):\n",
    "    n = len(data_x)\n",
    "    x = sum(data_x)/n\n",
    "    y = sum(data_y)/n\n",
    "    x_2 = sum(data_x**2)/n\n",
    "    xy = sum(data_x*data_y)/n\n",
    "    \n",
    "    a = (xy-(y*x))/(x_2-(x**2))\n",
    "    b = y-(a*x)\n",
    "    lists.append([a,b])\n",
    "    return (a*t)+b\n",
    "\n",
    "line(20)\n",
    "print \"slope =\", lists[0][0]\n",
    "print \"intercept =\",lists[0][1]"
   ]
  },
  {
   "cell_type": "code",
   "execution_count": null,
   "metadata": {
    "collapsed": false
   },
   "outputs": [],
   "source": []
  },
  {
   "cell_type": "markdown",
   "metadata": {},
   "source": [
    "6.2) (15 points)Plot the best fitted line along with the data points."
   ]
  },
  {
   "cell_type": "code",
   "execution_count": 295,
   "metadata": {
    "collapsed": false
   },
   "outputs": [
    {
     "data": {
      "text/plain": [
       "[<matplotlib.lines.Line2D at 0x113109910>]"
      ]
     },
     "execution_count": 295,
     "metadata": {},
     "output_type": "execute_result"
    },
    {
     "data": {
      "image/png": "[encoded data removed]",
      "text/plain": [
       "<matplotlib.figure.Figure at 0x1126b44d0>"
      ]
     },
     "metadata": {},
     "output_type": "display_data"
    }
   ],
   "source": [
    "plt.plot(temperature, sale, '.')\n",
    "plt.ylabel('Ice cream sale')\n",
    "plt.xlabel('Temperature C')\n",
    "plt.grid()\n",
    "\n",
    "xs = np.linspace(20,36,100)\n",
    "ys = [line(t) for t in xs]\n",
    "plt.plot(xs,ys)"
   ]
  },
  {
   "cell_type": "markdown",
   "metadata": {},
   "source": [
    "6.3) (15 points) If the temperature today is 30 degree, how many ice cream do we expect to sell?"
   ]
  },
  {
   "cell_type": "code",
   "execution_count": 296,
   "metadata": {
    "collapsed": false
   },
   "outputs": [
    {
     "name": "stdout",
     "output_type": "stream",
     "text": [
      "178.657510261 or it mean 178 piece\n"
     ]
    }
   ],
   "source": [
    "print line(30),\n",
    "print \"or it mean 178 piece\""
   ]
  },
  {
   "cell_type": "markdown",
   "metadata": {},
   "source": [
    "###Problem 7) (100)"
   ]
  },
  {
   "cell_type": "markdown",
   "metadata": {},
   "source": [
    "<span style=\"color:red\">100</span>"
   ]
  },
  {
   "cell_type": "markdown",
   "metadata": {},
   "source": [
    "7) Find the area of the shaded region to a decent accuracy. \n",
    "\n",
    "The blue line is\n",
    "$$f(x) = e^{-x}\\sin(\\pi x)$$\n",
    "and the green line is\n",
    "$$g(x) = 0.5 - \\frac{x}{2.5}$$"
   ]
  },
  {
   "cell_type": "code",
   "execution_count": 297,
   "metadata": {
    "collapsed": false
   },
   "outputs": [
    {
     "name": "stdout",
     "output_type": "stream",
     "text": [
      "blue = 0.347039379568 , green = 0.20612936945\n",
      "Area of shade region = 0.140910010118\n"
     ]
    },
    {
     "data": {
      "image/png": "[encoded data removed]",
      "text/plain": [
       "<matplotlib.figure.Figure at 0x112e7ac90>"
      ]
     },
     "metadata": {},
     "output_type": "display_data"
    },
    {
     "data": {
      "image/png": "[encoded data removed]",
      "text/plain": [
       "<matplotlib.figure.Figure at 0x113358810>"
      ]
     },
     "metadata": {},
     "output_type": "display_data"
    }
   ],
   "source": [
    "x = np.linspace(0,2,100)\n",
    "def f(x):\n",
    "    return math.exp(-x)*math.sin(math.pi*x)\n",
    "def g(x):\n",
    "    return 0.5-x/2.5\n",
    "fx = np.array([f(xx) for xx in x])\n",
    "gx = np.array([g(xx) for xx in x])\n",
    "plt.plot(x,fx)\n",
    "plt.plot(x,gx)\n",
    "plt.grid()\n",
    "plt.axhline(0,color='k')\n",
    "plt.fill_between(x,fx,gx,where=((fx>gx) & (gx>0)), color='red', alpha=0.3)\n",
    "\n",
    "# -------------------------------------\n",
    "# Find the intersection of 2 graph\n",
    "def new_f(x):\n",
    "    return math.e**(-x)*math.sin(math.pi*x) -0.5 + (x/2.5)\n",
    "\n",
    "# derivative of new function\n",
    "def derif(x):\n",
    "    h = 0.01\n",
    "    return (new_f(x+(h/2.))-new_f(x-(h/2.)))/h\n",
    "\n",
    "def newton(x,n):\n",
    "    result = x\n",
    "    for num in range(n):\n",
    "        result = result - (new_f(result)/derif(result))\n",
    "    return result\n",
    "answer1 = newton(0,5)\n",
    "answer2 = newton(1,5)\n",
    "\n",
    "plt.figure()\n",
    "\n",
    "plt.plot(x,fx, label='f')\n",
    "plt.plot(x,gx, label='g')\n",
    "plt.grid()\n",
    "plt.axhline(0,color='k')\n",
    "plt.fill_between(x,fx,gx,where=((fx>gx) & (gx>0)), color='red', alpha=0.3)\n",
    "\n",
    "zx = [new_f(xx) for xx in x]\n",
    "plt.plot(x,zx, color='pink', label='new')\n",
    "plt.legend()\n",
    "\n",
    "plt.axvline(answer1, color='orange')\n",
    "plt.axvline(answer2, color='orange')\n",
    "\n",
    "\n",
    "# Get only the area of blue line to green line\n",
    "def trapezoid(x1,x2,n,f):\n",
    "    h = (x2-x1)/n\n",
    "    result = (f(x1)/2.) + (f(x1+(n*h))/2.)\n",
    "    for a in range(1,n):\n",
    "        result += f(x1+(a*h))\n",
    "    return result*h\n",
    "blue = trapezoid(answer1,answer2,100,f)\n",
    "green = trapezoid(answer1,answer2,100,g)\n",
    "print \"blue =\",blue, \", green =\", green\n",
    "print \"Area of shade region =\",blue - green\n"
   ]
  },
  {
   "cell_type": "code",
   "execution_count": null,
   "metadata": {
    "collapsed": true
   },
   "outputs": [],
   "source": []
  },
  {
   "cell_type": "markdown",
   "metadata": {},
   "source": [
    "###Problem 8)  (100)"
   ]
  },
  {
   "cell_type": "markdown",
   "metadata": {},
   "source": [
    "<span style=\"color:red\">100</span>"
   ]
  },
  {
   "cell_type": "markdown",
   "metadata": {},
   "source": [
    "8) Cheating Fourier Series. In the homework you have found that you can approximate the function using a bunch of sine and cosine and there is a way to find each of the coefficient by performing integrations.\n",
    "\n",
    "Now we are going to achieve a similar effect **without** integration. We will use least square method instead.\n",
    "\n",
    "Let us consider the triangular function shown below. We want to approximate this using a bunch of sines:\n",
    "\n",
    "$$ \\text{triangle}(x) \\approx a \\sin(\\pi x) + b \\sin(3 \\pi x) + c \\sin(5 \\pi x) $$\n",
    "\n",
    "**Find a, b, and c using least squre method. Plot your approximation along with triangular curve.**\n",
    "\n",
    "Hint: This question is actually much easier than it looks. Figure out what is your data and what is your parameter.\n",
    "\n",
    "Hint2: You may use `np.linalg.solve`. Type `?np.linalg.solve` for documentation. Scroll down for example. Also, `np.sin` and all those numpy broadcast operations will save countless number of lines from your code."
   ]
  },
  {
   "cell_type": "code",
   "execution_count": 298,
   "metadata": {
    "collapsed": false
   },
   "outputs": [
    {
     "name": "stdout",
     "output_type": "stream",
     "text": [
      "a = 0.405267728003\n",
      "b = -0.0450146186163\n",
      "c = 0.0161943468148\n"
     ]
    },
    {
     "data": {
      "text/plain": [
       "<matplotlib.legend.Legend at 0x112e4bfd0>"
      ]
     },
     "execution_count": 298,
     "metadata": {},
     "output_type": "execute_result"
    },
    {
     "data": {
      "image/png": "[encoded data removed]",
      "text/plain": [
       "<matplotlib.figure.Figure at 0x112f2efd0>"
      ]
     },
     "metadata": {},
     "output_type": "display_data"
    }
   ],
   "source": [
    "def triangle(x):\n",
    "    t = x%2.0\n",
    "    if t < 0.5: \n",
    "        return 1*t\n",
    "    elif t < 1.5:\n",
    "        return 1-t\n",
    "    else:\n",
    "        return t-2\n",
    "\n",
    "x1 = np.linspace(0,5,100)\n",
    "y1 = [triangle(xx) for xx in x1]\n",
    "plt.plot(x1,y1, label='real')\n",
    "plt.grid()\n",
    "\n",
    "x = np.array(x1)\n",
    "y = np.array(y1)\n",
    "\n",
    "def sin(xx,c):\n",
    "    ans = math.pi*c*xx\n",
    "    return np.sin(ans)\n",
    "    \n",
    "def triangular(t):\n",
    "    n = len(x)\n",
    "    s1_2 = sum(sin(x,1)**2)/n\n",
    "    s3_s1 = sum(sin(x,3)*sin(x,1))/n\n",
    "    s5_s1 = sum(sin(x,5)*sin(x,1))/n\n",
    "    \n",
    "    s3_2 = sum(sin(x,3)**2)/n\n",
    "    s5_s3 = sum(sin(x,5)*sin(x,3))/n\n",
    "    \n",
    "    s5_2 = sum(sin(x,5)**2)/n\n",
    "    \n",
    "    y_s1 = sum(y*sin(x,1))/n\n",
    "    y_s3 = sum(y*sin(x,3))/n\n",
    "    y_s5 = sum(y*sin(x,5))/n\n",
    "    \n",
    "    A = [[s1_2,s3_s1,s5_s1],[s3_s1,s3_2,s5_s3],[s5_s1,s5_s3,s5_2]]\n",
    "    C = [y_s1,y_s3,y_s5]\n",
    "    result = np.linalg.solve(A,C)\n",
    "    return result\n",
    "\n",
    "abc = list(triangular(1))\n",
    "print \"a =\", abc[0]\n",
    "print \"b =\", abc[1]\n",
    "print \"c =\", abc[2]\n",
    "\n",
    "def ft(t,a,b,c):\n",
    "    return a*sin(t,1) + b*sin(t,3) + c*sin(t,5)\n",
    "\n",
    "y2 = [ft(xx,abc[0],abc[1],abc[2]) for xx in x1]\n",
    "plt.plot(x1,y2, label='my appox')\n",
    "plt.legend()\n",
    "# plt.xlim(0,2)\n"
   ]
  },
  {
   "cell_type": "code",
   "execution_count": null,
   "metadata": {
    "collapsed": true
   },
   "outputs": [],
   "source": []
  }
 ],
 "metadata": {
  "kernelspec": {
   "display_name": "Python 2",
   "language": "python",
   "name": "python2"
  },
  "language_info": {
   "codemirror_mode": {
    "name": "ipython",
    "version": 2
   },
   "file_extension": ".py",
   "mimetype": "text/x-python",
   "name": "python",
   "nbconvert_exporter": "python",
   "pygments_lexer": "ipython2",
   "version": "2.7.9"
  }
 },
 "nbformat": 4,
 "nbformat_minor": 0
}

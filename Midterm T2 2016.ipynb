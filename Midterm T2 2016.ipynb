{
 "cells": [
  {
   "cell_type": "markdown",
   "metadata": {},
   "source": [
    "# Midterm T2 2016\n",
    "\n",
    "The midterm consists of two parts: \n",
    "\n",
    " - **Easy Zone** which worth 100 point each which most of them you can just copy from exercise/homework\n",
    " - **Creative zone** which worth 125 points each.\n",
    " - The score for each sub question is equal unless indicated.\n",
    " - Comment your code!! If it takes me more than 5 minutes to figure out what your code does, I won't grade it.\n",
    "\n",
    "The total score is 850 but you will be graded out of 0.9*850=765.\n"
   ]
  },
  {
   "cell_type": "code",
   "execution_count": 1,
   "metadata": {
    "collapsed": true
   },
   "outputs": [],
   "source": [
    "%matplotlib inline\n",
    "import numpy as np\n",
    "from matplotlib import pyplot as plt\n",
    "import math"
   ]
  },
  {
   "cell_type": "markdown",
   "metadata": {},
   "source": [
    "## Easy Zone (100 Each)"
   ]
  },
  {
   "cell_type": "markdown",
   "metadata": {},
   "source": [
    "### 1 Taylor Series\n",
    "\n",
    "1) Find the first 3 *non-zero* terms in Taylor series of\n",
    "$$f(x) = sin(2x)$$"
   ]
  },
  {
   "cell_type": "markdown",
   "metadata": {
    "collapsed": true
   },
   "source": [
    "$$a_0 = sin(2x) = sin(0) = 0$$\n",
    "\n",
    "\n",
    "$$a_1 = 2cos(2x) = 2cos(0) = 2$$\n",
    "\n",
    "\n",
    "$$a_2 = -2^2sin(2x) = 0$$\n",
    "\n",
    "\n",
    "$$a_3 = -2^3cos(2x) = -2^3cos(0) = -2^3 $$\n",
    "\n",
    "\n",
    "$$a_4 = 2^4sin(2x) = 0$$\n",
    "\n",
    "$$a_5 = 2^5cos(2x) = 2^5cos(0)=  2^5$$"
   ]
  },
  {
   "cell_type": "markdown",
   "metadata": {},
   "source": [
    "$$ 2x - \\frac{2^3x^3}{3!} + \\frac{2^5x^5}{5!} $$"
   ]
  },
  {
   "cell_type": "markdown",
   "metadata": {},
   "source": [
    "2) Use the Taylor series you found in 1) to find $$sin(0.2)$$ **along with bound on error**."
   ]
  },
  {
   "cell_type": "markdown",
   "metadata": {},
   "source": [
    "$$ error = f^3(\\xi) \\frac{x^3}{3!}  = \\frac{1}{(1-\\xi)^4} \\frac{x^3}{3!}$$\n",
    "\n",
    "$$ x = 0.2, \\xi \\in (0,0.2) $$\n",
    "\n",
    "Max at $\\xi = 0.2$\n",
    "\n",
    "$$ error = f^3(\\xi) \\frac{x^3}{3!}  = \\frac{1}{(1-\\xi)^4} \\frac{x^3}{3!} \\le \\frac{1}{(1-0.2)^4} \\frac{0.2^3}{3!}$$\n"
   ]
  },
  {
   "cell_type": "markdown",
   "metadata": {},
   "source": [
    "$$ a_6 = -2^6sin(2x) $$\n",
    "\n",
    "$$ error = f^6(\\xi)\\frac{x^6}{6!} =  -2^6sin(2\\xi)\\frac{x^6}{6!}$$\n",
    "\n",
    "$$ x = 0.1, \\xi \\in (0, 0.1) $$\n",
    "\n",
    "$$ error = f^6(\\xi)\\frac{x^6}{6!} =  -2^6sin(2\\xi)\\frac{x^6}{6!} \\le  -2^6sin(0.2)\\frac{0.1^6}{6!}$$"
   ]
  },
  {
   "cell_type": "code",
   "execution_count": 454,
   "metadata": {
    "collapsed": false
   },
   "outputs": [
    {
     "data": {
      "text/plain": [
       "(0.19866933333333336, 1.7659496070672113e-08)"
      ]
     },
     "execution_count": 454,
     "metadata": {},
     "output_type": "execute_result"
    }
   ],
   "source": [
    "taylor_sin = lambda x: 2*x - (4./3 * x**3) + (4./15 * x**5)\n",
    "fac = lambda x: 1 if (x <= 1) else x * fac(x - 1)\n",
    "error_taylor_sin = lambda x, xi = 0.1: 2**6 * np.sin(2 * xi) * x**6/fac(6)\n",
    "\n",
    "taylor_sin(0.1), error_taylor_sin(0.1)"
   ]
  },
  {
   "cell_type": "code",
   "execution_count": 455,
   "metadata": {
    "collapsed": false
   },
   "outputs": [
    {
     "data": {
      "text/plain": [
       "(0.1986693156738373, 0.19866933079506122, 0.19866935099282942)"
      ]
     },
     "execution_count": 455,
     "metadata": {},
     "output_type": "execute_result"
    }
   ],
   "source": [
    "taylor_sin(0.1) - error_taylor_sin(0.1), np.sin(0.2), taylor_sin(0.1) + error_taylor_sin(0.1)"
   ]
  },
  {
   "cell_type": "markdown",
   "metadata": {},
   "source": [
    "## 2) Bisection"
   ]
  },
  {
   "cell_type": "markdown",
   "metadata": {},
   "source": [
    "We know that \n",
    "\n",
    "$$\\sin\\left(\\frac{\\pi}{4}\\right) = \\cos\\left(\\frac{\\pi}{4}\\right)$$\n",
    "\n",
    "This means that we can find the value of $\\pi$ by finding the solution of\n",
    "\n",
    "$$\\sin(x) = \\cos(x)$$\n",
    "\n",
    "Then multiply the solution by 4. Then we get the value of $\\pi$."
   ]
  },
  {
   "cell_type": "markdown",
   "metadata": {},
   "source": [
    "1) Since we multiply solution by 4 at the end. This means that if we want the value of $\\pi$ that is accurate at least $10^{-6}$ we need to make sure that our method of finding the solution to $\\sin(x) = \\cos(x)$ is accurate at least $\\displaystyle \\frac{10^{-6}}{4}$.\n",
    "\n",
    "If our initial range is from $x=[0,2]$ and the method we use is bisection, how many iterations do we need to make sure that the solution is at most $\\displaystyle\\frac{10^{-6}}{4}$ from the real answer."
   ]
  },
  {
   "cell_type": "code",
   "execution_count": 456,
   "metadata": {
    "collapsed": false
   },
   "outputs": [
    {
     "data": {
      "text/plain": [
       "<matplotlib.lines.Line2D at 0x10db7b810>"
      ]
     },
     "execution_count": 456,
     "metadata": {},
     "output_type": "execute_result"
    },
    {
     "data": {
      "image/png": "[encoded data removed]",
      "text/plain": [
       "<matplotlib.figure.Figure at 0x10d986510>"
      ]
     },
     "metadata": {},
     "output_type": "display_data"
    }
   ],
   "source": [
    "find_pi = lambda x: np.sin(x) - np.cos(x)\n",
    "\n",
    "xs = np.linspace(0, 2, 1000)\n",
    "ys = find_pi(xs)\n",
    "\n",
    "plt.plot(xs, ys)\n",
    "plt.axhline(0, c = 'c', ls = '--')\n",
    "plt.axvline(np.pi/4., c = 'r', ls = '--')"
   ]
  },
  {
   "cell_type": "code",
   "execution_count": 478,
   "metadata": {
    "collapsed": true
   },
   "outputs": [],
   "source": [
    "def findInt(f, fm, to, e = 1e-6):\n",
    "    \n",
    "    mid = (fm + to)/2.\n",
    "    num_iter = 1\n",
    "    while np.abs(f(mid) * 4) > e:\n",
    "        if f(mid) < 0 and f(to) >= 0:\n",
    "            fm = mid\n",
    "        else:\n",
    "            to = mid\n",
    "        mid = (fm + to)/2.\n",
    "        num_iter += 1\n",
    "        \n",
    "    return mid, num_iter"
   ]
  },
  {
   "cell_type": "code",
   "execution_count": 479,
   "metadata": {
    "collapsed": false
   },
   "outputs": [],
   "source": [
    "x_int, num_iter = findInt(find_pi, 0, 2)"
   ]
  },
  {
   "cell_type": "code",
   "execution_count": 480,
   "metadata": {
    "collapsed": false
   },
   "outputs": [
    {
     "name": "stdout",
     "output_type": "stream",
     "text": [
      "22\n"
     ]
    }
   ],
   "source": [
    "print num_iter"
   ]
  },
  {
   "cell_type": "code",
   "execution_count": 481,
   "metadata": {
    "collapsed": false
   },
   "outputs": [
    {
     "data": {
      "text/plain": [
       "<matplotlib.lines.Line2D at 0x10e0c5050>"
      ]
     },
     "execution_count": 481,
     "metadata": {},
     "output_type": "execute_result"
    },
    {
     "data": {
      "image/png": "[encoded data removed]",
      "text/plain": [
       "<matplotlib.figure.Figure at 0x10d9527d0>"
      ]
     },
     "metadata": {},
     "output_type": "display_data"
    }
   ],
   "source": [
    "xs = np.linspace(0, 2, 1000)\n",
    "ys = find_pi(xs)\n",
    "\n",
    "plt.plot(xs, ys)\n",
    "plt.axvline(x_int, c = 'r', ls='--')\n",
    "plt.axhline(0, c = 'g')"
   ]
  },
  {
   "cell_type": "markdown",
   "metadata": {},
   "source": [
    "2) Find the value of $\\pi$ that is accurate at least $10^{-6}$ using the method above."
   ]
  },
  {
   "cell_type": "code",
   "execution_count": 482,
   "metadata": {
    "collapsed": false
   },
   "outputs": [
    {
     "data": {
      "text/plain": [
       "(3.141592025756836, 3.141592653589793)"
      ]
     },
     "execution_count": 482,
     "metadata": {},
     "output_type": "execute_result"
    }
   ],
   "source": [
    "x_int * 4, np.pi"
   ]
  },
  {
   "cell_type": "markdown",
   "metadata": {},
   "source": [
    "### 3 Newton's Method"
   ]
  },
  {
   "cell_type": "markdown",
   "metadata": {},
   "source": [
    "1) (40) In the homework we found that we can find $\\sqrt{x}$ using \n",
    "\n",
    "$$x_{n+1}  = \\frac{\\displaystyle x_{n} + \\frac{2}{x_n}}{2}$$\n",
    "\n",
    "Derive an analogous relation for finding $\\sqrt[5]{x}$"
   ]
  },
  {
   "cell_type": "code",
   "execution_count": 483,
   "metadata": {
    "collapsed": true
   },
   "outputs": [],
   "source": [
    "def fifthRoot(a, n = 10**5):\n",
    "    sqrt = lambda x, a: (4*x + a/x**4)/5.\n",
    "    x = a\n",
    "    for i in xrange(n):\n",
    "        x = sqrt(x, a)\n",
    "    return x"
   ]
  },
  {
   "cell_type": "markdown",
   "metadata": {},
   "source": [
    "2) (40) Find $\\sqrt[5]{31}$ to a decent accuracy using what you found above"
   ]
  },
  {
   "cell_type": "code",
   "execution_count": 484,
   "metadata": {
    "collapsed": false
   },
   "outputs": [
    {
     "data": {
      "text/plain": [
       "(1.987340754664458, 1.9873407546644581)"
      ]
     },
     "execution_count": 484,
     "metadata": {},
     "output_type": "execute_result"
    }
   ],
   "source": [
    "fifthRoot(31), 31**(1./5)"
   ]
  },
  {
   "cell_type": "markdown",
   "metadata": {},
   "source": [
    "3) (20) Newtons's Method vs Bisection method.\n",
    "\n",
    "3.1) Which one converge faster?\n",
    "\n",
    "3.2) Why should we bother using slower one?"
   ]
  },
  {
   "cell_type": "markdown",
   "metadata": {
    "collapsed": true
   },
   "source": [
    "# --------------\n",
    "\n",
    "3.1) Newton is faster\n",
    "\n",
    "\n",
    "3.2) Newton doesn't always converge\n",
    "\n",
    "# --------------"
   ]
  },
  {
   "cell_type": "markdown",
   "metadata": {},
   "source": [
    "### 4 Legendre"
   ]
  },
  {
   "cell_type": "markdown",
   "metadata": {},
   "source": [
    "1)If we use Legendre method to find polynomail which passes through all thsese points. What would be the degree of the polynomial? (20)"
   ]
  },
  {
   "cell_type": "code",
   "execution_count": 485,
   "metadata": {
    "collapsed": false
   },
   "outputs": [
    {
     "data": {
      "text/plain": [
       "(-2, 2)"
      ]
     },
     "execution_count": 485,
     "metadata": {},
     "output_type": "execute_result"
    },
    {
     "data": {
      "image/png": "[encoded data removed]",
      "text/plain": [
       "<matplotlib.figure.Figure at 0x10deb9910>"
      ]
     },
     "metadata": {},
     "output_type": "display_data"
    }
   ],
   "source": [
    "xs = [1,3,5,7,8,9,11]\n",
    "ys = [-1,1,1,-1,1,1,-1]\n",
    "plt.plot(xs,ys,'o')\n",
    "plt.ylim(-2,2)"
   ]
  },
  {
   "cell_type": "markdown",
   "metadata": {},
   "source": [
    "2) Use Legendre method and plot polynomial which passes through all the points given. (80)"
   ]
  },
  {
   "cell_type": "code",
   "execution_count": 486,
   "metadata": {
    "collapsed": true
   },
   "outputs": [],
   "source": [
    "def get_f(xs, y, idx):\n",
    "    bottom = np.product([ 1. if (i == idx) else xs[idx] - xs[i] for i in xrange(len(xs)) ])\n",
    "    def f(x):\n",
    "        top = np.product([y if (i == idx) else x - xs[i] for i in xrange(len(xs)) ])\n",
    "        return top/bottom\n",
    "    return f\n",
    "\n",
    "fs = [get_f(xs, ys[i], i) for i in xrange(len(xs))]\n",
    "func = lambda x: sum([f(x) for f in fs])"
   ]
  },
  {
   "cell_type": "code",
   "execution_count": 487,
   "metadata": {
    "collapsed": false
   },
   "outputs": [
    {
     "data": {
      "text/plain": [
       "[<matplotlib.lines.Line2D at 0x10e1dbdd0>]"
      ]
     },
     "execution_count": 487,
     "metadata": {},
     "output_type": "execute_result"
    },
    {
     "data": {
      "image/png": "[encoded data removed]",
      "text/plain": [
       "<matplotlib.figure.Figure at 0x10e1dbe10>"
      ]
     },
     "metadata": {},
     "output_type": "display_data"
    }
   ],
   "source": [
    "pxs = np.linspace(1-1e-5,11-1e-5,500)\n",
    "pys = [func(x) for x in pxs]\n",
    "plt.plot(pxs, pys)\n",
    "plt.plot(xs,ys, 'ro')"
   ]
  },
  {
   "cell_type": "code",
   "execution_count": 488,
   "metadata": {
    "collapsed": false
   },
   "outputs": [
    {
     "data": {
      "text/plain": [
       "6"
      ]
     },
     "execution_count": 488,
     "metadata": {},
     "output_type": "execute_result"
    }
   ],
   "source": [
    "len(xs) - 1"
   ]
  },
  {
   "cell_type": "markdown",
   "metadata": {},
   "source": [
    "### 5 Integration"
   ]
  },
  {
   "cell_type": "markdown",
   "metadata": {},
   "source": [
    "1) We want to calculate\n",
    "\n",
    "$$\\int_3^7 \\sqrt{x} \\; dx$$\n",
    "\n",
    "using trapezoid rule such that the answer is at most $10^{-5}$ away from the real answer how many pieces do we need?"
   ]
  },
  {
   "cell_type": "code",
   "execution_count": 535,
   "metadata": {
    "collapsed": true
   },
   "outputs": [],
   "source": [
    "def cal_error(fm, to, n, fdxdx):\n",
    "    return (((to - fm)**3.)/(12. * n**2))*fdxdx(3.)"
   ]
  },
  {
   "cell_type": "code",
   "execution_count": 536,
   "metadata": {
    "collapsed": true
   },
   "outputs": [],
   "source": [
    "def cal_terms(fdxdx, fm, to, e = 1e-5):\n",
    "    n = 1\n",
    "    while np.abs(cal_error(fm, to, n, fdxdx)) > e:\n",
    "        n += 1\n",
    "    return n"
   ]
  },
  {
   "cell_type": "code",
   "execution_count": 537,
   "metadata": {
    "collapsed": false
   },
   "outputs": [
    {
     "name": "stdout",
     "output_type": "stream",
     "text": [
      "161\n"
     ]
    }
   ],
   "source": [
    "fdxdx = lambda x: -(1./(4. * x**(3./2)))\n",
    "terms = cal_terms(fdxdx, 3, 7)\n",
    "print terms"
   ]
  },
  {
   "cell_type": "code",
   "execution_count": 538,
   "metadata": {
    "collapsed": false
   },
   "outputs": [
    {
     "data": {
      "text/plain": [
       "[<matplotlib.lines.Line2D at 0x10ecd6710>]"
      ]
     },
     "execution_count": 538,
     "metadata": {},
     "output_type": "execute_result"
    },
    {
     "data": {
      "image/png": "[encoded data removed]",
      "text/plain": [
       "<matplotlib.figure.Figure at 0x10e9de450>"
      ]
     },
     "metadata": {},
     "output_type": "display_data"
    }
   ],
   "source": [
    "xs = np.linspace(3, 7, 1000)\n",
    "plt.plot(xs, np.abs(fdxdx(xs)))"
   ]
  },
  {
   "cell_type": "markdown",
   "metadata": {},
   "source": [
    "2) Use trapezoid rule to calculate\n",
    "$$\\int_3^7 \\sqrt{x} \\; dx$$\n",
    "such that your answer is at most $10^{-5}$ from the real answer.\n"
   ]
  },
  {
   "cell_type": "code",
   "execution_count": 554,
   "metadata": {
    "collapsed": true
   },
   "outputs": [],
   "source": [
    "# def cal_area(fm, to, n):\n",
    "#     f = lambda x: x**0.5\n",
    "    \n",
    "#     a = (f(fm) + f(to)) * 0.5\n",
    "#     h = (to - fm)/float(n)\n",
    "#     #x = fm + h\n",
    "#     x = fm\n",
    "#     for i in xrange(1,n):\n",
    "#         a += f(x + h*i)\n",
    "# #     while x < to:\n",
    "# #         a += f(x)\n",
    "# #         x += h\n",
    "#     return a * h\n",
    "\n",
    "def cal_area(fm, to, n):\n",
    "    f = lambda x: x**0.5\n",
    "    \n",
    "    a = (f(fm) + f(to)) * 0.5\n",
    "    h = (to - fm)/float(n)\n",
    "    x = fm\n",
    "    for i in xrange(1,n):\n",
    "        a += f(x + h*i)\n",
    "    return a * h"
   ]
  },
  {
   "cell_type": "code",
   "execution_count": 555,
   "metadata": {
    "collapsed": false
   },
   "outputs": [
    {
     "data": {
      "text/plain": [
       "(8.882732708470547, 8.882737834, 5.125529453309241e-06)"
      ]
     },
     "execution_count": 555,
     "metadata": {},
     "output_type": "execute_result"
    }
   ],
   "source": [
    "cal_area(3, 7, terms), 8.882737834, np.abs(cal_area(3, 7, terms) - 8.882737834)"
   ]
  },
  {
   "cell_type": "markdown",
   "metadata": {},
   "source": [
    "### 6 Derivative"
   ]
  },
  {
   "cell_type": "markdown",
   "metadata": {},
   "source": [
    "1) Find the lowest point in the of function `math.lgamma` in the range of [1,2]. (Give me both x and y) "
   ]
  },
  {
   "cell_type": "code",
   "execution_count": 163,
   "metadata": {
    "collapsed": false
   },
   "outputs": [
    {
     "data": {
      "text/plain": [
       "[<matplotlib.lines.Line2D at 0x10aa59cd0>]"
      ]
     },
     "execution_count": 163,
     "metadata": {},
     "output_type": "execute_result"
    },
    {
     "data": {
      "image/png": "[encoded data removed]",
      "text/plain": [
       "<matplotlib.figure.Figure at 0x10a9bbf50>"
      ]
     },
     "metadata": {},
     "output_type": "display_data"
    }
   ],
   "source": [
    "xs = np.linspace(1, 2)\n",
    "ys = [math.lgamma(x) for x in xs ]\n",
    "plt.plot(xs, ys)"
   ]
  },
  {
   "cell_type": "code",
   "execution_count": 171,
   "metadata": {
    "collapsed": true
   },
   "outputs": [],
   "source": [
    "def findMin(f, fm, to):\n",
    "    def cenDif(x, h = 1e-10):\n",
    "        return lambda x: (f(x + h) - f(x - h))/(2. * h)\n",
    "    fdx = cenDif(f)\n",
    "    \n",
    "    def findInt(f, fm, to, e = 1e-6):\n",
    "        mid = (fm + to)/2.\n",
    "        while np.abs(f(mid)) > e:\n",
    "            if f(mid) < 0 and f(to) >= 0:\n",
    "                fm = mid\n",
    "            else:\n",
    "                to = mid\n",
    "            mid = (fm + to)/2.\n",
    "        return mid\n",
    "    \n",
    "    return findInt(fdx, fm,to)"
   ]
  },
  {
   "cell_type": "code",
   "execution_count": 172,
   "metadata": {
    "collapsed": false
   },
   "outputs": [],
   "source": [
    "x_min = findMin(lambda x: math.lgamma(x), 1, 2)"
   ]
  },
  {
   "cell_type": "code",
   "execution_count": 174,
   "metadata": {
    "collapsed": false
   },
   "outputs": [
    {
     "data": {
      "text/plain": [
       "<matplotlib.lines.Line2D at 0x10a7481d0>"
      ]
     },
     "execution_count": 174,
     "metadata": {},
     "output_type": "execute_result"
    },
    {
     "data": {
      "image/png": "[encoded data removed]",
      "text/plain": [
       "<matplotlib.figure.Figure at 0x10aa45ad0>"
      ]
     },
     "metadata": {},
     "output_type": "display_data"
    }
   ],
   "source": [
    "xs = np.linspace(1, 2)\n",
    "ys = [math.lgamma(x) for x in xs ]\n",
    "plt.plot(xs, ys)\n",
    "plt.axvline(x_min, c = 'r', ls = '--')"
   ]
  },
  {
   "cell_type": "markdown",
   "metadata": {},
   "source": [
    "2) Show that \n",
    "$$\\frac{9f(x+h)-f(x+3h)-8f(x)}{6h} = f'(x) + O(h^2)$$"
   ]
  },
  {
   "cell_type": "markdown",
   "metadata": {
    "collapsed": true
   },
   "source": [
    "$$ f(x+h) = f(x) + f^1(x)h + \\frac{f^2(x)h^2}{2!} + \\frac{f^3(\\xi)h^3}{3!} $$\n",
    "\n",
    "$$ f(x+3h) = f(x) + f^1(x)3h + \\frac{f^2(x)3^2h^2}{2!} + \\frac{f^3(\\xi)3^3h^3}{3!} $$\n",
    "\n",
    "$$ f'(x) + O(h^2) = \\frac{9 \\times (f(x) + f^1(x)h + \\frac{f^2(x)h^2}{2!} + \\frac{f^3(\\xi)h^3}{3!}) - (f(x) + f^1(x)3h + \\frac{f^2(x)3^2h^2}{2!} + \\frac{f^3(\\xi)3^3h^3}{3!}) - 8f(x)}{6h} $$"
   ]
  },
  {
   "cell_type": "markdown",
   "metadata": {},
   "source": [
    "$$ = \\frac{6f^1(x)h + \\frac{-18f^3(\\xi)h^3}{3!}}{6h} $$"
   ]
  },
  {
   "cell_type": "markdown",
   "metadata": {},
   "source": [
    "$$ = f^1(x) + \\frac{-3f^3(\\xi)h^2}{3!} $$"
   ]
  },
  {
   "cell_type": "markdown",
   "metadata": {},
   "source": [
    "## Creative Zone (125 Each)\n",
    "\n",
    "The questions may look ridiculous. ** Do not panic **. It is much easier than it looks."
   ]
  },
  {
   "cell_type": "markdown",
   "metadata": {},
   "source": [
    "### 7 Confidence Interval\n",
    "\n",
    "##### Intro\n"
   ]
  },
  {
   "cell_type": "markdown",
   "metadata": {},
   "source": [
    "In the homework you have calculated full width half max which is a measure of how spread out a distribution is there is another measure which has a better statistical intepretation and is widely used called 95% confidence interval.\n",
    "\n",
    "All the statistical interpretations aside(which you will learn in AJ Ko's class), the 95% interval is defined to be an interval symmetric around the most probable(highest value) $\\bar{x}$, \n",
    "$$[\\bar{x} - \\alpha, \\bar{x} + \\alpha]$$ such that the **area under the distribution in this interval is 95% of the total area**. Note that the range is symmetric around the most probable(highest value) $\\bar{x}$.\n",
    "\n",
    "The concept is illustrated in the figure below that the 95% confidence interval of the distribution shown below is approximately [-1.2,1.6] since the highest point is at 0.2 and the area of interval [0.2-1.4, 0.2+1.4] = [-1.2, 1.6] is about 95% of the total area."
   ]
  },
  {
   "cell_type": "code",
   "execution_count": 556,
   "metadata": {
    "collapsed": false
   },
   "outputs": [
    {
     "data": {
      "text/plain": [
       "<matplotlib.text.Text at 0x10eea6610>"
      ]
     },
     "execution_count": 556,
     "metadata": {},
     "output_type": "execute_result"
    },
    {
     "data": {
      "image/png": "[encoded data removed]",
      "text/plain": [
       "<matplotlib.figure.Figure at 0x10e9e8910>"
      ]
     },
     "metadata": {},
     "output_type": "display_data"
    }
   ],
   "source": [
    "def gaussian(x):\n",
    "    sigma = 0.7\n",
    "    mu = 0.2\n",
    "    return 1/math.sqrt(2*math.pi*sigma**2)*np.exp(-(x-mu)**2/(2*sigma))\n",
    "\n",
    "xs = np.linspace(-5,5,100)\n",
    "ys = gaussian(xs)\n",
    "\n",
    "xs2 = np.linspace(-1.2,1.6,100)\n",
    "ys2 = gaussian(xs2)\n",
    "\n",
    "\n",
    "\n",
    "plt.plot(xs, ys)\n",
    "plt.fill_between(xs2, 0, ys2,color='green')\n",
    "plt.axvline(1.6,color='r')\n",
    "plt.axvline(-1.2,color='r')\n",
    "plt.axvline(0.2,color='r',ls='dashed')\n",
    "plt.text(-4,0.3, r'$\\bar{x}-\\alpha$',size=20)\n",
    "plt.text(2.3, 0.3, r'$\\bar{x}+\\alpha$',size=20)\n",
    "plt.text(0.8, 0.5,r'$\\bar{x}$', size=20)\n"
   ]
  },
  {
   "cell_type": "markdown",
   "metadata": {},
   "source": [
    "##### Your task\n",
    "\n",
    "For this problem your task is to find 95% confidence interval for the following distribution.\n",
    "$$f(x) = \\frac{1}{\\pi\\gamma} \\frac{1}{(x-\\mu)^2+\\gamma^2}$$\n",
    "with $\\mu = 1.$ and $\\gamma = 2.$. Your answer should be a range. (Do it for a reasonable accuracy. If you have done the homework, you know what I mean)\n",
    "\n",
    "You may assume that the total area from $x=-\\infty, \\infty$ of this distribution is 1. (It actually is 1.)"
   ]
  },
  {
   "cell_type": "code",
   "execution_count": 557,
   "metadata": {
    "collapsed": false
   },
   "outputs": [
    {
     "data": {
      "text/plain": [
       "<matplotlib.lines.Line2D at 0x10ea335d0>"
      ]
     },
     "execution_count": 557,
     "metadata": {},
     "output_type": "execute_result"
    },
    {
     "data": {
      "image/png": "[encoded data removed]",
      "text/plain": [
       "<matplotlib.figure.Figure at 0x10ebe15d0>"
      ]
     },
     "metadata": {},
     "output_type": "display_data"
    }
   ],
   "source": [
    "def cauchy(x):\n",
    "    mu = 1.\n",
    "    gamma = 2.\n",
    "    return 1./(math.pi*gamma)*(gamma**2/((x-mu)**2+gamma**2))\n",
    "\n",
    "xs = np.linspace(-10,10, 100)\n",
    "ys = cauchy(xs)\n",
    "plt.plot(xs, ys)\n",
    "plt.axvline(1, c = 'r')"
   ]
  },
  {
   "cell_type": "code",
   "execution_count": 578,
   "metadata": {
    "collapsed": true
   },
   "outputs": [],
   "source": [
    "# def cal_area(f, fm, to, n = 1e5):\n",
    "#     a = (f(fm) + f(to)) * 0.5\n",
    "#     h = (to - fm)/float(n)\n",
    "#     x = fm + h\n",
    "#     while x < to:\n",
    "#         a += f(x)\n",
    "#         x += h\n",
    "#     return a * h\n",
    "\n",
    "def cal_area(f, fm, to, n = 1e5):\n",
    "    \n",
    "    a = (f(fm) + f(to)) * 0.5\n",
    "    h = (to - fm)/float(n)\n",
    "    x = fm\n",
    "    for i in xrange(1,int(n)):\n",
    "        a += f(x + h*i)\n",
    "    return a * h\n",
    "\n",
    "cal_cauchy_area = lambda x, mu = 0.2, f = cauchy: cal_area(f, mu - x, mu + x)"
   ]
  },
  {
   "cell_type": "code",
   "execution_count": 579,
   "metadata": {
    "collapsed": true
   },
   "outputs": [],
   "source": [
    "def findInt(f, fm, to, e = 1e-6):\n",
    "    g = lambda x: f(x) - 0.95\n",
    "    mid = (fm + to)/2.\n",
    "    while np.abs(g(mid)) > e:\n",
    "        if g(mid) < 0 and g(to) >= 0:\n",
    "            fm = mid\n",
    "        else:\n",
    "            to = mid\n",
    "        mid = (fm + to)/2.\n",
    "    return mid"
   ]
  },
  {
   "cell_type": "code",
   "execution_count": 580,
   "metadata": {
    "collapsed": false
   },
   "outputs": [],
   "source": [
    "x_int = findInt(cal_cauchy_area, 0, 100)"
   ]
  },
  {
   "cell_type": "code",
   "execution_count": 581,
   "metadata": {
    "collapsed": false
   },
   "outputs": [
    {
     "data": {
      "text/plain": [
       "0.9499995092050124"
      ]
     },
     "execution_count": 581,
     "metadata": {},
     "output_type": "execute_result"
    }
   ],
   "source": [
    "cal_cauchy_area(x_int)"
   ]
  },
  {
   "cell_type": "code",
   "execution_count": 582,
   "metadata": {
    "collapsed": false
   },
   "outputs": [
    {
     "name": "stdout",
     "output_type": "stream",
     "text": [
      "25.4371643066\n"
     ]
    }
   ],
   "source": [
    "print x_int"
   ]
  },
  {
   "cell_type": "code",
   "execution_count": 583,
   "metadata": {
    "collapsed": false
   },
   "outputs": [
    {
     "data": {
      "text/plain": [
       "<matplotlib.lines.Line2D at 0x10f093e90>"
      ]
     },
     "execution_count": 583,
     "metadata": {},
     "output_type": "execute_result"
    },
    {
     "data": {
      "image/png": "[encoded data removed]",
      "text/plain": [
       "<matplotlib.figure.Figure at 0x10ed44350>"
      ]
     },
     "metadata": {},
     "output_type": "display_data"
    }
   ],
   "source": [
    "def cauchy(x):\n",
    "    mu = 1.\n",
    "    gamma = 2.\n",
    "    return 1./(math.pi*gamma)*(gamma**2/((x-mu)**2+gamma**2))\n",
    "\n",
    "xs = np.linspace(-30,30, 100)\n",
    "ys = cauchy(xs)\n",
    "plt.plot(xs, ys)\n",
    "plt.axvline(1, c = 'r')\n",
    "plt.axvline( 1 - x_int, c = 'c', ls = '--')\n",
    "plt.axvline( 1 + x_int, c = 'c', ls = '--')"
   ]
  },
  {
   "cell_type": "markdown",
   "metadata": {},
   "source": [
    "### 8 Sum of $i^k$\n",
    "\n",
    "\n",
    "#### Intro\n",
    "\n",
    "In discrete math we learn that the sum of integer from $1 \\ldots n$ is given by\n",
    "$$\\sum_{i=1}^n i = \\frac{n(n-1)}{2} = \\frac{n^2}{2} - \\frac{n}{2}$$\n",
    "and\n",
    "$$\\sum_{i=1}^n i^2 = \\frac{n^3}{3}+\\frac{n^2}{2}+\\frac{n}{6}$$\n",
    "and\n",
    "$$\\sum_{i=1}^n i^3 = \\left( \\frac{n(n-1)}{2} \\right)^2 = \\frac{n^4}{4} + \\ldots$$\n",
    "\n",
    "As you may notice, one can actually show that $\\displaystyle \\sum_{i=1}^n i^k$ has is a polynomial of degree $k+1$.\n",
    "\n",
    "To calculate the sum if we use for loop and calculate the left hand side it will be $O(n)$. But if we use the right hand side we can calculate it in $O(1)$. So, calculating it with a closed form is a much better approach.\n",
    "\n",
    "But as you recall getting the close formed formula is quite difficult to do by hands. In this problem we will use legendre method to find it.\n",
    "\n",
    "#### Problem\n",
    "\n",
    "In this problem we want to calculate \n",
    "$$\\sum_{i=1}^n i^7$$\n",
    "We expect this to have a closed form of polynomial of degree 8.\n",
    "\n",
    "Use what you learn about Legendre Method and write a function that takes in $n$ and calculate $$\\sum_{i=1}^n i^7$$ in O(1). (Any other methods will not be accepted)\n",
    "\n",
    "##### Warning: don't try to sum up too far as it can cause integer overflow."
   ]
  },
  {
   "cell_type": "code",
   "execution_count": 2,
   "metadata": {
    "collapsed": false
   },
   "outputs": [],
   "source": [
    "f = lambda x: sum( [i**7 for i in xrange(1, x + 1)] )\n",
    "xs = range(10)\n",
    "ys = [f(x) for x in xrange(len(xs))]"
   ]
  },
  {
   "cell_type": "code",
   "execution_count": 3,
   "metadata": {
    "collapsed": false
   },
   "outputs": [
    {
     "data": {
      "text/plain": [
       "[<matplotlib.lines.Line2D at 0x108213fd0>]"
      ]
     },
     "execution_count": 3,
     "metadata": {},
     "output_type": "execute_result"
    },
    {
     "data": {
      "image/png": "[encoded data removed]",
      "text/plain": [
       "<matplotlib.figure.Figure at 0x106e533d0>"
      ]
     },
     "metadata": {},
     "output_type": "display_data"
    }
   ],
   "source": [
    "plt.plot(xs, ys)"
   ]
  },
  {
   "cell_type": "code",
   "execution_count": 4,
   "metadata": {
    "collapsed": true
   },
   "outputs": [],
   "source": [
    "def get_f(xs, y, idx):\n",
    "    bottom = np.product([ 1. if (i == idx) else xs[idx] - xs[i] for i in xrange(len(xs)) ])\n",
    "    def f(x):\n",
    "        top = np.product([y if (i == idx) else x - xs[i] for i in xrange(len(xs)) ])\n",
    "        return top/bottom\n",
    "    return f\n",
    "\n",
    "fs = [get_f(xs, ys[i], i) for i in xrange(len(xs))]\n",
    "func = lambda x: sum([f(x) for f in fs])"
   ]
  },
  {
   "cell_type": "code",
   "execution_count": 5,
   "metadata": {
    "collapsed": false
   },
   "outputs": [
    {
     "data": {
      "text/plain": [
       "[<matplotlib.lines.Line2D at 0x106e34fd0>]"
      ]
     },
     "execution_count": 5,
     "metadata": {},
     "output_type": "execute_result"
    },
    {
     "data": {
      "image/png": "[encoded data removed]",
      "text/plain": [
       "<matplotlib.figure.Figure at 0x10819a910>"
      ]
     },
     "metadata": {},
     "output_type": "display_data"
    }
   ],
   "source": [
    "pxs = np.linspace(1,10,100)\n",
    "pys = [func(x) for x in pxs]\n",
    "plt.plot(pxs, pys)\n",
    "plt.plot(xs,ys, 'ro')"
   ]
  },
  {
   "cell_type": "code",
   "execution_count": 6,
   "metadata": {
    "collapsed": false
   },
   "outputs": [
    {
     "data": {
      "text/plain": [
       "(18080425.0, 18080425)"
      ]
     },
     "execution_count": 6,
     "metadata": {},
     "output_type": "execute_result"
    }
   ],
   "source": [
    "func(10), f(10)"
   ]
  },
  {
   "cell_type": "code",
   "execution_count": 9,
   "metadata": {
    "collapsed": true
   },
   "outputs": [],
   "source": [
    "xs = np.array(range(10))"
   ]
  },
  {
   "cell_type": "code",
   "execution_count": 13,
   "metadata": {
    "collapsed": false
   },
   "outputs": [
    {
     "name": "stdout",
     "output_type": "stream",
     "text": [
      "[0, 1, 129, 2316, 18700, 96825, 376761, 1200304, 3297456, 8080425]\n"
     ]
    }
   ],
   "source": [
    "print [ int(func(x)) for x in xs]"
   ]
  },
  {
   "cell_type": "code",
   "execution_count": null,
   "metadata": {
    "collapsed": true
   },
   "outputs": [],
   "source": []
  }
 ],
 "metadata": {
  "kernelspec": {
   "display_name": "Python 2",
   "language": "python",
   "name": "python2"
  },
  "language_info": {
   "codemirror_mode": {
    "name": "ipython",
    "version": 2
   },
   "file_extension": ".py",
   "mimetype": "text/x-python",
   "name": "python",
   "nbconvert_exporter": "python",
   "pygments_lexer": "ipython2",
   "version": "2.7.10"
  }
 },
 "nbformat": 4,
 "nbformat_minor": 0
}

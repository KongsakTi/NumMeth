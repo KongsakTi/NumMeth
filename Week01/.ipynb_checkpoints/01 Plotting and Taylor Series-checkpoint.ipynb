{
 "cells": [
  {
   "cell_type": "markdown",
   "metadata": {},
   "source": [
    "#Important\n",
    "To Execute a cell. Press Shift+Enter"
   ]
  },
  {
   "cell_type": "code",
   "execution_count": 1,
   "metadata": {
    "collapsed": true
   },
   "outputs": [],
   "source": [
    "#load all the necessary libraries\n",
    "%matplotlib inline\n",
    "from matplotlib import pyplot as plt\n",
    "import numpy as np\n",
    "import math"
   ]
  },
  {
   "cell_type": "markdown",
   "metadata": {},
   "source": [
    "#Python Recap"
   ]
  },
  {
   "cell_type": "code",
   "execution_count": 2,
   "metadata": {
    "collapsed": false
   },
   "outputs": [
    {
     "name": "stdout",
     "output_type": "stream",
     "text": [
      "3\n"
     ]
    }
   ],
   "source": [
    "# here is how you print something\n",
    "a = 1\n",
    "b = 2\n",
    "c = a + b\n",
    "print c"
   ]
  },
  {
   "cell_type": "code",
   "execution_count": 3,
   "metadata": {
    "collapsed": false
   },
   "outputs": [
    {
     "name": "stdout",
     "output_type": "stream",
     "text": [
      "3 is less than five\n"
     ]
    }
   ],
   "source": [
    "#conditional statement\n",
    "x = 3\n",
    "if x<5:\n",
    "    print x, 'is less than five'\n",
    "else:\n",
    "    print x, 'is not less than five'"
   ]
  },
  {
   "cell_type": "code",
   "execution_count": 4,
   "metadata": {
    "collapsed": false
   },
   "outputs": [
    {
     "name": "stdout",
     "output_type": "stream",
     "text": [
      "21\n"
     ]
    }
   ],
   "source": [
    "#define a function\n",
    "def f(x):\n",
    "    a = 2*x + 1\n",
    "    return a\n",
    "print f(10)"
   ]
  },
  {
   "cell_type": "code",
   "execution_count": 5,
   "metadata": {
    "collapsed": false
   },
   "outputs": [
    {
     "name": "stdout",
     "output_type": "stream",
     "text": [
      "1 2 3 4 5 6 7 8 9 10\n"
     ]
    }
   ],
   "source": [
    "#while loop\n",
    "i = 0\n",
    "while i < 10:\n",
    "    i+=1\n",
    "    print i, #note the trailing comma this prevents newline"
   ]
  },
  {
   "cell_type": "code",
   "execution_count": 6,
   "metadata": {
    "collapsed": false
   },
   "outputs": [
    {
     "name": "stdout",
     "output_type": "stream",
     "text": [
      "1 2 3 4 5 6 ----\n",
      "0 1\n",
      "1 2\n",
      "2 3\n",
      "3 4\n",
      "4 5\n",
      "5 6\n"
     ]
    }
   ],
   "source": [
    "#here is list and use it\n",
    "a1 = [1,2,3,4,5,6]\n",
    "for x in a1:\n",
    "    print x,\n",
    "print '----'\n",
    "for i,x in enumerate(a1): #if you also want the index\n",
    "    print i, x"
   ]
  },
  {
   "cell_type": "code",
   "execution_count": 7,
   "metadata": {
    "collapsed": false
   },
   "outputs": [
    {
     "name": "stdout",
     "output_type": "stream",
     "text": [
      "[2, 4, 6, 8, 10, 12]\n"
     ]
    }
   ],
   "source": [
    "#here is how to build one (not so beautiful)\n",
    "#Also notice here that I use a1 from the previous cell.\n",
    "#once you execute the code it's stored in the kernel\n",
    "a2 = []\n",
    "for x in a1:\n",
    "    a2.append(2*x)\n",
    "print a2"
   ]
  },
  {
   "cell_type": "code",
   "execution_count": 8,
   "metadata": {
    "collapsed": false
   },
   "outputs": [
    {
     "name": "stdout",
     "output_type": "stream",
     "text": [
      "[3, 5, 7, 9, 11, 13]\n"
     ]
    }
   ],
   "source": [
    "#But this is ugly\n",
    "#let us use list comprehension makes it much easier to read\n",
    "a3 = [2*x+1 for x in a1]\n",
    "print a3"
   ]
  },
  {
   "cell_type": "code",
   "execution_count": 9,
   "metadata": {
    "collapsed": false
   },
   "outputs": [
    {
     "name": "stdout",
     "output_type": "stream",
     "text": [
      "[ 0.          0.11111111  0.22222222  0.33333333  0.44444444  0.55555556\n",
      "  0.66666667  0.77777778  0.88888889  1.        ]\n",
      "[ 0.          0.22222222  0.44444444  0.66666667  0.88888889  1.11111111\n",
      "  1.33333333  1.55555556  1.77777778  2.        ]\n",
      "[ 0.          0.01234568  0.04938272  0.11111111  0.19753086  0.30864198\n",
      "  0.44444444  0.60493827  0.79012346  1.        ]\n",
      "[ 1.          1.11751907  1.24884887  1.39561243  1.5596235   1.742909\n",
      "  1.94773404  2.17662993  2.43242545  2.71828183]\n",
      "[ 6 10 14 18 22 26]\n"
     ]
    }
   ],
   "source": [
    "#but since we will be using it a lot we have something much better\n",
    "#it's called numpy array\n",
    "\n",
    "arr = np.linspace(0,1,10) #this gives you 10 number from 0 to 10 equally spaced \n",
    "print arr\n",
    "print 2*arr #array broadcasting magic it does what you think it should\n",
    "print arr**2\n",
    "print np.exp(arr) #exp function\n",
    "\n",
    "#you can also convert normal list to numpy array if you want\n",
    "arr3 = np.array(a3)\n",
    "print arr3*2"
   ]
  },
  {
   "cell_type": "code",
   "execution_count": 10,
   "metadata": {
    "collapsed": false
   },
   "outputs": [
    {
     "data": {
      "image/png": "[encoded data removed]",
      "text/plain": [
       "<matplotlib.figure.Figure at 0x112acf810>"
      ]
     },
     "metadata": {},
     "output_type": "display_data"
    }
   ],
   "source": [
    "#plotting is easy\n",
    "xs = np.linspace(0,1,100)\n",
    "ys = xs**2\n",
    "plt.plot(xs,ys)\n",
    "plt.savefig('first_plot.pdf') #you can save it too"
   ]
  },
  {
   "cell_type": "code",
   "execution_count": 11,
   "metadata": {
    "collapsed": false
   },
   "outputs": [
    {
     "data": {
      "text/plain": [
       "[<matplotlib.lines.Line2D at 0x112acf590>]"
      ]
     },
     "execution_count": 11,
     "metadata": {},
     "output_type": "execute_result"
    },
    {
     "data": {
      "image/png": "[encoded data removed]",
      "text/plain": [
       "<matplotlib.figure.Figure at 0x112aedfd0>"
      ]
     },
     "metadata": {},
     "output_type": "display_data"
    }
   ],
   "source": [
    "plt.plot(xs,ys, color='red') #change the style too\n",
    "plt.plot(xs,xs) #and you can plot two things on the same graph\n",
    "#It can do much more see: http://matplotlib.org/gallery.html"
   ]
  },
  {
   "cell_type": "markdown",
   "metadata": {},
   "source": [
    "##Pre-exercise"
   ]
  },
  {
   "cell_type": "markdown",
   "metadata": {},
   "source": [
    "1) Let us start easy. Give me a numpy array from -$\\pi$ to +$\\pi$. You can use math.PI for $\\pi$. Let us called it `xs`"
   ]
  },
  {
   "cell_type": "code",
   "execution_count": 47,
   "metadata": {
    "collapsed": false
   },
   "outputs": [],
   "source": [
    "xs = np.linspace(-math.pi, math.pi, 100)"
   ]
  },
  {
   "cell_type": "markdown",
   "metadata": {},
   "source": [
    "2)Built another numpy array called `ys` which is just the sin of `xs`"
   ]
  },
  {
   "cell_type": "code",
   "execution_count": 48,
   "metadata": {
    "collapsed": true
   },
   "outputs": [],
   "source": [
    "ys = np.sin(xs)"
   ]
  },
  {
   "cell_type": "markdown",
   "metadata": {},
   "source": [
    "3) Plot `xs` vs `ys`"
   ]
  },
  {
   "cell_type": "code",
   "execution_count": 49,
   "metadata": {
    "collapsed": false
   },
   "outputs": [
    {
     "data": {
      "text/plain": [
       "[<matplotlib.lines.Line2D at 0x1139c49d0>]"
      ]
     },
     "execution_count": 49,
     "metadata": {},
     "output_type": "execute_result"
    },
    {
     "data": {
      "image/png": "[encoded data removed]",
      "text/plain": [
       "<matplotlib.figure.Figure at 0x11376bc10>"
      ]
     },
     "metadata": {},
     "output_type": "display_data"
    }
   ],
   "source": [
    "plt.plot(xs, ys)"
   ]
  },
  {
   "cell_type": "markdown",
   "metadata": {},
   "source": [
    "4) Plot \n",
    "$\\begin{align} \n",
    "g(x) = x - \\frac{x^3}{3!} + \\frac{x^5}{5!} - \\frac{x^7}{7!} \n",
    "\\end{align}$"
   ]
  },
  {
   "cell_type": "code",
   "execution_count": 53,
   "metadata": {
    "collapsed": false
   },
   "outputs": [],
   "source": [
    "def fac(n):\n",
    "    val = 1\n",
    "    while (n > 0):\n",
    "        val *= n\n",
    "        n -= 1\n",
    "    return val\n",
    "\n",
    "def g(x):\n",
    "    return x - ( (x**3)/fac(3) ) + ( (x**5)/fac(5) ) - ( (x**7)/fac(7) )"
   ]
  },
  {
   "cell_type": "code",
   "execution_count": 54,
   "metadata": {
    "collapsed": false
   },
   "outputs": [],
   "source": [
    "gs = g(xs)"
   ]
  },
  {
   "cell_type": "markdown",
   "metadata": {},
   "source": [
    "5) Plot g(x) and sin(x) on the same axis"
   ]
  },
  {
   "cell_type": "code",
   "execution_count": 55,
   "metadata": {
    "collapsed": false
   },
   "outputs": [
    {
     "data": {
      "text/plain": [
       "[<matplotlib.lines.Line2D at 0x113af49d0>]"
      ]
     },
     "execution_count": 55,
     "metadata": {},
     "output_type": "execute_result"
    },
    {
     "data": {
      "image/png": "[encoded data removed]",
      "text/plain": [
       "<matplotlib.figure.Figure at 0x1135b9b50>"
      ]
     },
     "metadata": {},
     "output_type": "display_data"
    }
   ],
   "source": [
    "plt.plot(xs, gs, lw = 2, alpha = 0.5, color='r')\n",
    "plt.plot(xs, ys, lw = 2, alpha = 0.5, color='b')"
   ]
  },
  {
   "cell_type": "markdown",
   "metadata": {},
   "source": [
    "6) Plot the $\\sin$ function and the taylor series approximation( 1 term ) on the same axis"
   ]
  },
  {
   "cell_type": "code",
   "execution_count": null,
   "metadata": {
    "collapsed": true
   },
   "outputs": [],
   "source": []
  },
  {
   "cell_type": "markdown",
   "metadata": {},
   "source": [
    "7) Plot the $\\sin$ function and the taylor series approximation( 1 term ) on the same axis"
   ]
  },
  {
   "cell_type": "code",
   "execution_count": null,
   "metadata": {
    "collapsed": true
   },
   "outputs": [],
   "source": []
  },
  {
   "cell_type": "markdown",
   "metadata": {},
   "source": [
    "8) Plot the $\\sin$ function and the taylor series approximation( 2 term ) on the same axis"
   ]
  },
  {
   "cell_type": "code",
   "execution_count": null,
   "metadata": {
    "collapsed": true
   },
   "outputs": [],
   "source": []
  },
  {
   "cell_type": "markdown",
   "metadata": {},
   "source": [
    "9) Plot the $\\sin$ function and the taylor series approximations(1,2,3,4 terms ) on the same axis. You can see that we get more and more accurate as we add more terms."
   ]
  },
  {
   "cell_type": "code",
   "execution_count": 69,
   "metadata": {
    "collapsed": true
   },
   "outputs": [],
   "source": [
    "def g1(x):\n",
    "    return x\n",
    "def g2(x):\n",
    "    return x - ( (x**3)/fac(3) )\n",
    "def g3(x):\n",
    "    return x - ( (x**3)/fac(3) ) + ( (x**5)/fac(5) )"
   ]
  },
  {
   "cell_type": "code",
   "execution_count": 70,
   "metadata": {
    "collapsed": false
   },
   "outputs": [],
   "source": [
    "gs1 = g1(xs)\n",
    "gs2 = g2(xs)\n",
    "gs3 = g3(xs)"
   ]
  },
  {
   "cell_type": "code",
   "execution_count": 89,
   "metadata": {
    "collapsed": false
   },
   "outputs": [
    {
     "data": {
      "image/png": "[encoded data removed]",
      "text/plain": [
       "<matplotlib.figure.Figure at 0x11706cad0>"
      ]
     },
     "metadata": {},
     "output_type": "display_data"
    }
   ],
   "source": [
    "plt.figure(figsize=(15, 5))\n",
    "plt.plot(xs, gs1, lw = 4, alpha = 0.4, color='pink')\n",
    "plt.plot(xs, gs2, lw = 4, alpha = 0.4, color='orange')\n",
    "plt.plot(xs, gs3, lw = 4, alpha = 0.4, color='c')\n",
    "plt.plot(xs, gs, lw = 4, alpha = 0.4, color='r')\n",
    "plt.plot(xs, ys, lw = 4, alpha = 0.4, color='b', ls = '--')\n",
    "plt.grid(True)"
   ]
  },
  {
   "cell_type": "markdown",
   "metadata": {},
   "source": [
    "10) If we use only the first term in the approximation, what is the bound on the error for approximating $\\sin(0.5)$. Verify this numerically as well."
   ]
  },
  {
   "cell_type": "code",
   "execution_count": 94,
   "metadata": {
    "collapsed": false
   },
   "outputs": [
    {
     "name": "stdout",
     "output_type": "stream",
     "text": [
      "0.125\n"
     ]
    }
   ],
   "source": [
    "fac = math.factorial\n",
    "\n",
    "def calError_w(x):\n",
    "    def calError(n):\n",
    "        n = n + 1\n",
    "        return x**n/fac(n)\n",
    "    return calError\n",
    "                \n",
    "calError = calError_w(0.5)\n",
    "\n",
    "print calError(1)"
   ]
  },
  {
   "cell_type": "markdown",
   "metadata": {},
   "source": [
    "11) If we want to approximate $\\sin(0.5)$ that is accurate up to $10^{-7}$. How many terms do we need?"
   ]
  },
  {
   "cell_type": "code",
   "execution_count": 108,
   "metadata": {
    "collapsed": false
   },
   "outputs": [
    {
     "name": "stdout",
     "output_type": "stream",
     "text": [
      "(7, 9.68812003968254e-08)\n"
     ]
    }
   ],
   "source": [
    "def getNumT(e):\n",
    "    n = 1\n",
    "    while not (calError(n) <= e):\n",
    "        n += 2 \n",
    "    return n, calError(n)\n",
    "print getNumT(10**(-7))"
   ]
  },
  {
   "cell_type": "markdown",
   "metadata": {},
   "source": [
    "12) Why is this expression false."
   ]
  },
  {
   "cell_type": "code",
   "execution_count": null,
   "metadata": {
    "collapsed": false
   },
   "outputs": [],
   "source": []
  },
  {
   "cell_type": "code",
   "execution_count": null,
   "metadata": {
    "collapsed": true
   },
   "outputs": [],
   "source": []
  },
  {
   "cell_type": "markdown",
   "metadata": {},
   "source": [
    "#Exercise/First week homework"
   ]
  },
  {
   "cell_type": "markdown",
   "metadata": {},
   "source": [
    "1) Plot $\\cos(x)$ from $-\\pi$ to $\\pi$ along with the Taylor approximation using (1,2,3,4) terms."
   ]
  },
  {
   "cell_type": "code",
   "execution_count": null,
   "metadata": {
    "collapsed": true
   },
   "outputs": [],
   "source": []
  },
  {
   "cell_type": "markdown",
   "metadata": {
    "collapsed": true
   },
   "source": [
    "2)How accurate is $\\cos(0.1)$ using 4 non zero terms?"
   ]
  },
  {
   "cell_type": "code",
   "execution_count": null,
   "metadata": {
    "collapsed": true
   },
   "outputs": [],
   "source": []
  },
  {
   "cell_type": "markdown",
   "metadata": {},
   "source": [
    "3) How many terms do I need to calculate cos(0.1) that is accurate up to $10^{-7}$"
   ]
  },
  {
   "cell_type": "code",
   "execution_count": null,
   "metadata": {
    "collapsed": true
   },
   "outputs": [],
   "source": []
  },
  {
   "cell_type": "markdown",
   "metadata": {},
   "source": [
    "4) Plot $\\ln (1+x)$ from $-0.5$ to $0.5$ along with the Taylor approximation using (1,2,3,4) terms."
   ]
  },
  {
   "cell_type": "code",
   "execution_count": null,
   "metadata": {
    "collapsed": true
   },
   "outputs": [],
   "source": []
  },
  {
   "cell_type": "markdown",
   "metadata": {},
   "source": [
    "5)If you calculate $\\ln(1.5)$ using 3 terms. How accurate is your answer?"
   ]
  },
  {
   "cell_type": "code",
   "execution_count": null,
   "metadata": {
    "collapsed": true
   },
   "outputs": [],
   "source": []
  },
  {
   "cell_type": "markdown",
   "metadata": {},
   "source": [
    "6)How many terms do I need to calculate $\\ln(1)$"
   ]
  },
  {
   "cell_type": "code",
   "execution_count": null,
   "metadata": {
    "collapsed": true
   },
   "outputs": [],
   "source": []
  },
  {
   "cell_type": "markdown",
   "metadata": {},
   "source": [
    "7) Notice that $\\tan(1) = \\pi/4 $, this means we can calculate $\\pi$ by using $4 \\times \\arctan(1)$\n",
    "\n",
    "So this means that if we find Taylor series expansion of $\\arctan(x)$ around $x=0$, then we can calculate $\\pi$ to any accuracy we want."
   ]
  },
  {
   "cell_type": "markdown",
   "metadata": {},
   "source": [
    "7.1) Find taylor expansion of $\\arctan$ for 3 non-zero terms. If you forgot,\n",
    "$\\begin{align}\n",
    "\\frac{d}{dx} \\arctan(x) = \\frac{1}{1+x^2}\n",
    "\\end{align}$\n"
   ]
  },
  {
   "cell_type": "code",
   "execution_count": null,
   "metadata": {
    "collapsed": true
   },
   "outputs": [],
   "source": []
  },
  {
   "cell_type": "markdown",
   "metadata": {},
   "source": [
    "7.2) Guess the rest of the terms"
   ]
  },
  {
   "cell_type": "code",
   "execution_count": null,
   "metadata": {
    "collapsed": true
   },
   "outputs": [],
   "source": []
  },
  {
   "cell_type": "markdown",
   "metadata": {},
   "source": [
    "7.3) Calculate $\\pi$ using taylor approximation for 10 terms."
   ]
  },
  {
   "cell_type": "code",
   "execution_count": null,
   "metadata": {
    "collapsed": true
   },
   "outputs": [],
   "source": []
  },
  {
   "cell_type": "markdown",
   "metadata": {},
   "source": [
    "7.4)Real Challenge: What is the error bound on the value of $\\pi$ you calculated with taylor approximation above? Use wolfram alpha if needed."
   ]
  },
  {
   "cell_type": "code",
   "execution_count": null,
   "metadata": {
    "collapsed": true
   },
   "outputs": [],
   "source": []
  }
 ],
 "metadata": {
  "kernelspec": {
   "display_name": "Python 2",
   "language": "python",
   "name": "python2"
  },
  "language_info": {
   "codemirror_mode": {
    "name": "ipython",
    "version": 2
   },
   "file_extension": ".py",
   "mimetype": "text/x-python",
   "name": "python",
   "nbconvert_exporter": "python",
   "pygments_lexer": "ipython2",
   "version": "2.7.10"
  }
 },
 "nbformat": 4,
 "nbformat_minor": 0
}

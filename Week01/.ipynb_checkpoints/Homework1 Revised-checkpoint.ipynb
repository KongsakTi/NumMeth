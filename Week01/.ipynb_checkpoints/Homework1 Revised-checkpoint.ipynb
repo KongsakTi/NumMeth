{
 "cells": [
  {
   "cell_type": "code",
   "execution_count": 2,
   "metadata": {
    "collapsed": true
   },
   "outputs": [],
   "source": [
    "%matplotlib inline\n",
    "import numpy as np\n",
    "import math\n",
    "from matplotlib import pyplot as plt"
   ]
  },
  {
   "cell_type": "markdown",
   "metadata": {},
   "source": [
    "###Homework 1 Revised"
   ]
  },
  {
   "cell_type": "markdown",
   "metadata": {},
   "source": [
    "1) Plot $\\cos(x)$ from $-\\pi$ to $\\pi$ along with the Taylor approximation using (1,2,3,4) terms. I want 5 lines on the same graph."
   ]
  },
  {
   "cell_type": "markdown",
   "metadata": {},
   "source": [
    "$c_0 = cos(0) = 1$\n",
    "\n",
    "\n",
    "$c_1 = -sin(0) = 0$\n",
    "\n",
    "\n",
    "$c_2 = \\frac{-cos(0)}{2!} = \\frac{-1}{2!}$\n",
    "\n",
    "\n",
    "$c_3 = \\frac{sin(0)}{3!} = 0$\n",
    "\n",
    "\n",
    "$c_4 = \\frac{cos(0)}{4!} = \\frac{1}{4!}$"
   ]
  },
  {
   "cell_type": "code",
   "execution_count": 3,
   "metadata": {
    "collapsed": false
   },
   "outputs": [],
   "source": [
    "xs = np.linspace(-math.pi, math.pi, 100)"
   ]
  },
  {
   "cell_type": "code",
   "execution_count": 4,
   "metadata": {
    "collapsed": true
   },
   "outputs": [],
   "source": [
    "def fac(n):\n",
    "    val = 1\n",
    "    while (n > 0):\n",
    "        val *= n\n",
    "        n -= 1\n",
    "    return val\n",
    "\n",
    "def g(x, n):\n",
    "#     return 1 - ( (x**2)/fac(2) ) + ( (x**4)/fac(4) ) - ( (x**6)/fac(6) )\n",
    "    total = 0\n",
    "    i = 0\n",
    "    k = 0\n",
    "    while (i < n*2):\n",
    "        val = ((-1)**k) * (x**i)/fac(i)\n",
    "        total += val\n",
    "        i += 2\n",
    "        k += 1\n",
    "    return total\n"
   ]
  },
  {
   "cell_type": "code",
   "execution_count": 5,
   "metadata": {
    "collapsed": false
   },
   "outputs": [],
   "source": [
    "ys = np.cos(xs)"
   ]
  },
  {
   "cell_type": "code",
   "execution_count": 6,
   "metadata": {
    "collapsed": false
   },
   "outputs": [
    {
     "data": {
      "text/plain": [
       "[<matplotlib.lines.Line2D at 0x10760fd90>]"
      ]
     },
     "execution_count": 6,
     "metadata": {},
     "output_type": "execute_result"
    },
    {
     "data": {
      "image/png": "[encoded data removed]",
      "text/plain": [
       "<matplotlib.figure.Figure at 0x108932ed0>"
      ]
     },
     "metadata": {},
     "output_type": "display_data"
    }
   ],
   "source": [
    "plt.plot(xs, ys)\n",
    "# plt.plot(xs, g(xs, 1))\n",
    "plt.plot(xs, g(xs, 2))\n",
    "# plt.plot(xs, g(xs, 3))\n",
    "# plt.plot(xs, g(xs, 4))"
   ]
  },
  {
   "cell_type": "markdown",
   "metadata": {},
   "source": [
    "2) If we estimate $\\cos(0.1)$ using 4 **non-zero** terms, what is the bound on the **truncation error**."
   ]
  },
  {
   "cell_type": "code",
   "execution_count": 30,
   "metadata": {
    "collapsed": false
   },
   "outputs": [],
   "source": [
    "def calError_w(x):\n",
    "    def calError(n):\n",
    "        n = n * 2 - 1\n",
    "        return x**n/fac(n)\n",
    "    return calError\n",
    "\n",
    "calError = calError_w(0.1)"
   ]
  },
  {
   "cell_type": "code",
   "execution_count": 31,
   "metadata": {
    "collapsed": false
   },
   "outputs": [
    {
     "data": {
      "text/plain": [
       "1.984126984126985e-11"
      ]
     },
     "execution_count": 31,
     "metadata": {},
     "output_type": "execute_result"
    }
   ],
   "source": [
    "calError(4)"
   ]
  },
  {
   "cell_type": "markdown",
   "metadata": {},
   "source": [
    "3) How many **non-zero** terms do we need to calculate $\\cos(0.1)$ such that the bound on the **truncation error** is less than $10^{-7}$"
   ]
  },
  {
   "cell_type": "code",
   "execution_count": 9,
   "metadata": {
    "collapsed": false
   },
   "outputs": [
    {
     "name": "stdout",
     "output_type": "stream",
     "text": [
      "3\n"
     ]
    }
   ],
   "source": [
    "def getNumT(e):\n",
    "    n = 0\n",
    "    while not (calError(n) <= e):\n",
    "        n += 2\n",
    "    return (n/2)\n",
    "print getNumT(10**(-7))"
   ]
  },
  {
   "cell_type": "markdown",
   "metadata": {},
   "source": [
    "4) Plot $\\ln (1+x)$ from $-0.5$ to $0.5$ along with the Taylor approximation using (1,2,3,4) terms. I want 5 lines on the same plot."
   ]
  },
  {
   "cell_type": "code",
   "execution_count": 45,
   "metadata": {
    "collapsed": false
   },
   "outputs": [],
   "source": [
    "def lng(x, n):\n",
    "#      return np.log(1) + x - x**2/fac(2) + x**3/fac(3) - x**4/fac(4)\n",
    "    total = 0\n",
    "    i = 1\n",
    "    k = 0\n",
    "    while (i < n):\n",
    "        val = ((-1)**k) * (x**i)/fac(i)\n",
    "        total += val\n",
    "        i += 1\n",
    "        k += 1\n",
    "    return total"
   ]
  },
  {
   "cell_type": "code",
   "execution_count": 46,
   "metadata": {
    "collapsed": false
   },
   "outputs": [
    {
     "data": {
      "text/plain": [
       "[<matplotlib.lines.Line2D at 0x10925a0d0>]"
      ]
     },
     "execution_count": 46,
     "metadata": {},
     "output_type": "execute_result"
    },
    {
     "data": {
      "image/png": "[encoded data removed]",
      "text/plain": [
       "<matplotlib.figure.Figure at 0x108d1b5d0>"
      ]
     },
     "metadata": {},
     "output_type": "display_data"
    }
   ],
   "source": [
    "lnxs = np.linspace(-0.5, 0.5, 100)\n",
    "lnys = np.log1p(lnxs)\n",
    "\n",
    "plt.plot(lnxs, lnys)\n",
    "plt.plot(lnxs, np.array([lng(x, 1) for x in lnxs]))\n",
    "plt.plot(lnxs, np.array([lng(x, 2) for x in lnxs]))\n",
    "plt.plot(lnxs, np.array([lng(x, 3) for x in lnxs]))\n",
    "plt.plot(lnxs, np.array([lng(x, 4) for x in lnxs]))\n"
   ]
  },
  {
   "cell_type": "markdown",
   "metadata": {},
   "source": [
    "5)If we calculate $\\ln(1.5)$ using 3 **non-zero** terms, what is the bound on the **truncation error**."
   ]
  },
  {
   "cell_type": "code",
   "execution_count": 55,
   "metadata": {
    "collapsed": false
   },
   "outputs": [
    {
     "name": "stdout",
     "output_type": "stream",
     "text": [
      "0.000651041666667\n"
     ]
    }
   ],
   "source": [
    "def calError_w(x):\n",
    "    def calError(n):\n",
    "        n = n + 1\n",
    "        return  (x**n)/(n * fac(n))\n",
    "    return calError\n",
    "\n",
    "calError = calError_w(0.5)\n",
    "print calError(3)"
   ]
  },
  {
   "cell_type": "markdown",
   "metadata": {},
   "source": [
    "6)How many **non-zero** terms do we need to calculate $\\ln(1.5)$ such that the bound on **truncation error** is less than $10^{-7}$. Be sure to justify the maximum of $f^{(n+1)}(\\xi)$ term."
   ]
  },
  {
   "cell_type": "code",
   "execution_count": 56,
   "metadata": {
    "collapsed": false
   },
   "outputs": [
    {
     "name": "stdout",
     "output_type": "stream",
     "text": [
      "7\n"
     ]
    }
   ],
   "source": [
    "def getNumTln(e):\n",
    "    n = 0\n",
    "    while not (calError(n) <= e):\n",
    "        n += 1\n",
    "    return n\n",
    "print getNumTln(10**(-7))"
   ]
  },
  {
   "cell_type": "markdown",
   "metadata": {},
   "source": [
    "7) Notice that $\\tan(1) = \\pi/4$ , this means we can calculate $\\pi$ by using $4 \\times \\arctan(1)$\n",
    "\n",
    "So this means that if we find Taylor series expansion of $\\arctan(x)$ around $x=0$, then we can calculate $\\pi$ to any accuracy we want."
   ]
  },
  {
   "cell_type": "markdown",
   "metadata": {},
   "source": [
    "7.1) Find taylor expansion of $\\arctan$ for 3 **non-zero** terms. If you forgot,\n",
    "$$\n",
    "\\frac{d}{dx} \\arctan(x) = \\frac{1}{1+x^2}\n",
    "$$"
   ]
  },
  {
   "cell_type": "code",
   "execution_count": null,
   "metadata": {
    "collapsed": true
   },
   "outputs": [],
   "source": [
    "# tan(x)^-1, 1/(1 + x^2), -2x/(1 + x^2)^2, ..."
   ]
  },
  {
   "cell_type": "code",
   "execution_count": null,
   "metadata": {
    "collapsed": true
   },
   "outputs": [],
   "source": []
  },
  {
   "cell_type": "markdown",
   "metadata": {},
   "source": [
    "7.2) Guess the rest of the terms"
   ]
  },
  {
   "cell_type": "code",
   "execution_count": null,
   "metadata": {
    "collapsed": true
   },
   "outputs": [],
   "source": []
  },
  {
   "cell_type": "markdown",
   "metadata": {},
   "source": [
    "7.3) Calculate $\\pi$ using taylor approximation for 100 **non-zero** terms. (Note I changed this to 100 terms so you must write some sort of for loop to do it)."
   ]
  },
  {
   "cell_type": "code",
   "execution_count": null,
   "metadata": {
    "collapsed": true
   },
   "outputs": [],
   "source": []
  },
  {
   "cell_type": "markdown",
   "metadata": {},
   "source": [
    "8) The purpose of this problem is to make sure you know that the bound on $f^{(n+1)}(\\xi)$ after all the cancellation is **NOT** necessarily 1 **NOR** does it have to look the same as the next term in the series.\n",
    "\n",
    "8.1)Find the first 3 **non-zero** terms of Taylor series for\n",
    "$$f(x) = \\frac{1}{1-x}$$"
   ]
  },
  {
   "cell_type": "code",
   "execution_count": null,
   "metadata": {
    "collapsed": true
   },
   "outputs": [],
   "source": []
  },
  {
   "cell_type": "markdown",
   "metadata": {},
   "source": [
    "8.2) If we estimate $$\\frac{1}{0.8} = \\frac{1}{1-0.2}$$ using the first 3 non-zero terms, what is the bound on the truncation error. Be careful about evaluating the bound for $f^{(n+1)}({\\xi})$."
   ]
  },
  {
   "cell_type": "code",
   "execution_count": null,
   "metadata": {
    "collapsed": true
   },
   "outputs": [],
   "source": []
  }
 ],
 "metadata": {
  "kernelspec": {
   "display_name": "Python 2",
   "language": "python",
   "name": "python2"
  },
  "language_info": {
   "codemirror_mode": {
    "name": "ipython",
    "version": 2
   },
   "file_extension": ".py",
   "mimetype": "text/x-python",
   "name": "python",
   "nbconvert_exporter": "python",
   "pygments_lexer": "ipython2",
   "version": "2.7.10"
  }
 },
 "nbformat": 4,
 "nbformat_minor": 0
}

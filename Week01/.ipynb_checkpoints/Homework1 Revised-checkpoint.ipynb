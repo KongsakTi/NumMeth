{
 "cells": [
  {
   "cell_type": "code",
   "execution_count": 2,
   "metadata": {
    "collapsed": true
   },
   "outputs": [],
   "source": [
    "%matplotlib inline\n",
    "import numpy as np\n",
    "import math\n",
    "from matplotlib import pyplot as plt"
   ]
  },
  {
   "cell_type": "markdown",
   "metadata": {},
   "source": [
    "###Homework 1 Revised"
   ]
  },
  {
   "cell_type": "markdown",
   "metadata": {},
   "source": [
    "1) Plot $\\cos(x)$ from $-\\pi$ to $\\pi$ along with the Taylor approximation using (1,2,3,4) terms. I want 5 lines on the same graph."
   ]
  },
  {
   "cell_type": "markdown",
   "metadata": {},
   "source": [
    "$c_0 = cos(0) = 1$\n",
    "\n",
    "\n",
    "$c_1 = -sin(0) = 0$\n",
    "\n",
    "\n",
    "$c_2 = \\frac{-cos(0)}{2!} = \\frac{-1}{2!}$\n",
    "\n",
    "\n",
    "$c_3 = \\frac{sin(0)}{3!} = 0$\n",
    "\n",
    "\n",
    "$c_4 = \\frac{cos(0)}{4!} = \\frac{1}{4!}$"
   ]
  },
  {
   "cell_type": "code",
   "execution_count": 31,
   "metadata": {
    "collapsed": false
   },
   "outputs": [],
   "source": [
    "xs = np.linspace(-math.pi, math.pi, 100)"
   ]
  },
  {
   "cell_type": "code",
   "execution_count": 4,
   "metadata": {
    "collapsed": true
   },
   "outputs": [],
   "source": [
    "def fac(n):\n",
    "    val = 1\n",
    "    while (n > 0):\n",
    "        val *= n\n",
    "        n -= 1\n",
    "    return val\n",
    "\n",
    "def g(x, n):\n",
    "#     return 1 - ( (x**2)/fac(2) ) + ( (x**4)/fac(4) ) - ( (x**6)/fac(6) )\n",
    "    total = 0\n",
    "    i = 0\n",
    "    k = 0\n",
    "    while (i < n*2):\n",
    "        val = ((-1)**k) * (x**i)/fac(i)\n",
    "        total += val\n",
    "        i += 2\n",
    "        k += 1\n",
    "    return total\n"
   ]
  },
  {
   "cell_type": "code",
   "execution_count": 5,
   "metadata": {
    "collapsed": false
   },
   "outputs": [],
   "source": [
    "ys = np.cos(xs)"
   ]
  },
  {
   "cell_type": "code",
   "execution_count": 6,
   "metadata": {
    "collapsed": false
   },
   "outputs": [
    {
     "data": {
      "text/plain": [
       "[<matplotlib.lines.Line2D at 0x10467b850>]"
      ]
     },
     "execution_count": 6,
     "metadata": {},
     "output_type": "execute_result"
    },
    {
     "data": {
      "image/png": "iVBORw0KGgoAAAANSUhEUgAAAXAAAAEACAYAAACqOy3+AAAABHNCSVQICAgIfAhkiAAAAAlwSFlz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\nIYQQQgghhBBCCGEB/w8YrrRTUDXXCwAAAABJRU5ErkJggg==\n",
      "text/plain": [
       "<matplotlib.figure.Figure at 0x10467b810>"
      ]
     },
     "metadata": {},
     "output_type": "display_data"
    }
   ],
   "source": [
    "plt.plot(xs, ys)\n",
    "# plt.plot(xs, g(xs, 1))\n",
    "plt.plot(xs, g(xs, 2))\n",
    "# plt.plot(xs, g(xs, 3))\n",
    "# plt.plot(xs, g(xs, 4))"
   ]
  },
  {
   "cell_type": "markdown",
   "metadata": {},
   "source": [
    "2) If we estimate $\\cos(0.1)$ using 4 **non-zero** terms, what is the bound on the **truncation error**."
   ]
  },
  {
   "cell_type": "code",
   "execution_count": 7,
   "metadata": {
    "collapsed": false
   },
   "outputs": [],
   "source": [
    "def calError_w(x):\n",
    "    def calError(n):\n",
    "        n = n * 2 - 1\n",
    "        return x**n/fac(n)\n",
    "    return calError\n",
    "\n",
    "calError = calError_w(0.1)"
   ]
  },
  {
   "cell_type": "code",
   "execution_count": 8,
   "metadata": {
    "collapsed": false
   },
   "outputs": [
    {
     "data": {
      "text/plain": [
       "1.984126984126985e-11"
      ]
     },
     "execution_count": 8,
     "metadata": {},
     "output_type": "execute_result"
    }
   ],
   "source": [
    "calError(4)"
   ]
  },
  {
   "cell_type": "markdown",
   "metadata": {},
   "source": [
    "3) How many **non-zero** terms do we need to calculate $\\cos(0.1)$ such that the bound on the **truncation error** is less than $10^{-7}$"
   ]
  },
  {
   "cell_type": "code",
   "execution_count": 9,
   "metadata": {
    "collapsed": false
   },
   "outputs": [
    {
     "name": "stdout",
     "output_type": "stream",
     "text": [
      "2\n"
     ]
    }
   ],
   "source": [
    "def getNumT(e):\n",
    "    n = 0\n",
    "    while not (calError(n) <= e):\n",
    "        n += 2\n",
    "    return (n/2)\n",
    "print getNumT(10**(-7))"
   ]
  },
  {
   "cell_type": "markdown",
   "metadata": {},
   "source": [
    "4) Plot $\\ln (1+x)$ from $-0.5$ to $0.5$ along with the Taylor approximation using (1,2,3,4) terms. I want 5 lines on the same plot."
   ]
  },
  {
   "cell_type": "code",
   "execution_count": 10,
   "metadata": {
    "collapsed": false
   },
   "outputs": [],
   "source": [
    "def lng(x, n):\n",
    "#      return np.log(1) + x - x**2/fac(2) + x**3/fac(3) - x**4/fac(4)\n",
    "    total = 0\n",
    "    i = 1\n",
    "    k = 0\n",
    "    while (i < n):\n",
    "        val = ((-1)**k) * (x**i)/fac(i)\n",
    "        total += val\n",
    "        i += 1\n",
    "        k += 1\n",
    "    return total"
   ]
  },
  {
   "cell_type": "code",
   "execution_count": 11,
   "metadata": {
    "collapsed": false
   },
   "outputs": [
    {
     "data": {
      "text/plain": [
       "[<matplotlib.lines.Line2D at 0x104890f90>]"
      ]
     },
     "execution_count": 11,
     "metadata": {},
     "output_type": "execute_result"
    },
    {
     "data": {
      "image/png": "iVBORw0KGgoAAAANSUhEUgAAAX8AAAEACAYAAABbMHZzAAAABHNCSVQICAgIfAhkiAAAAAlwSFlz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\nERERERHf9f/cFhpbQvElegAAAABJRU5ErkJggg==\n",
      "text/plain": [
       "<matplotlib.figure.Figure at 0x10472ced0>"
      ]
     },
     "metadata": {},
     "output_type": "display_data"
    }
   ],
   "source": [
    "lnxs = np.linspace(-0.5, 0.5, 100)\n",
    "lnys = np.log1p(lnxs)\n",
    "\n",
    "plt.plot(lnxs, lnys)\n",
    "plt.plot(lnxs, np.array([lng(x, 1) for x in lnxs]))\n",
    "plt.plot(lnxs, np.array([lng(x, 2) for x in lnxs]))\n",
    "plt.plot(lnxs, np.array([lng(x, 3) for x in lnxs]))\n",
    "plt.plot(lnxs, np.array([lng(x, 4) for x in lnxs]))\n"
   ]
  },
  {
   "cell_type": "markdown",
   "metadata": {},
   "source": [
    "5)If we calculate $\\ln(1.5)$ using 3 **non-zero** terms, what is the bound on the **truncation error**."
   ]
  },
  {
   "cell_type": "code",
   "execution_count": 12,
   "metadata": {
    "collapsed": false
   },
   "outputs": [
    {
     "name": "stdout",
     "output_type": "stream",
     "text": [
      "0.000651041666667\n"
     ]
    }
   ],
   "source": [
    "def calError_w(x):\n",
    "    def calError(n):\n",
    "        n = n + 1\n",
    "        return  (x**n)/(n * fac(n))\n",
    "    return calError\n",
    "\n",
    "calError = calError_w(0.5)\n",
    "print calError(3)"
   ]
  },
  {
   "cell_type": "markdown",
   "metadata": {},
   "source": [
    "6)How many **non-zero** terms do we need to calculate $\\ln(1.5)$ such that the bound on **truncation error** is less than $10^{-7}$. Be sure to justify the maximum of $f^{(n+1)}(\\xi)$ term."
   ]
  },
  {
   "cell_type": "code",
   "execution_count": 13,
   "metadata": {
    "collapsed": false
   },
   "outputs": [
    {
     "name": "stdout",
     "output_type": "stream",
     "text": [
      "7\n"
     ]
    }
   ],
   "source": [
    "def getNumTln(e):\n",
    "    n = 0\n",
    "    while not (calError(n) <= e):\n",
    "        n += 1\n",
    "    return n\n",
    "print getNumTln(10**(-7))"
   ]
  },
  {
   "cell_type": "markdown",
   "metadata": {},
   "source": [
    "7) Notice that $\\tan(1) = \\pi/4$ , this means we can calculate $\\pi$ by using $4 \\times \\arctan(1)$\n",
    "\n",
    "So this means that if we find Taylor series expansion of $\\arctan(x)$ around $x=0$, then we can calculate $\\pi$ to any accuracy we want."
   ]
  },
  {
   "cell_type": "markdown",
   "metadata": {},
   "source": [
    "7.1) Find taylor expansion of $\\arctan$ for 3 **non-zero** terms. If you forgot,\n",
    "$$\n",
    "\\frac{d}{dx} \\arctan(x) = \\frac{1}{1+x^2}\n",
    "$$"
   ]
  },
  {
<<<<<<< HEAD
   "cell_type": "markdown",
=======
   "cell_type": "code",
   "execution_count": 14,
>>>>>>> 38e42b94e5422a67ca8427ef53db3565b2c47484
   "metadata": {
    "collapsed": true
   },
   "source": [
    "$$ a_0 + a_1x + a_2x^{2} + a_3x^{3} + ... $$"
   ]
  },
  {
<<<<<<< HEAD
   "cell_type": "markdown",
   "metadata": {
    "collapsed": true
   },
   "source": [
    "$$ a_0 = f(0) = \\arctan(0) = 0$$\n",
    "\n",
    "\n",
    "$$ a_1 = f'(0) = \\frac{1}{1 + 0} = 1$$\n",
    "\n",
    "\n",
    "$$ a_2 = \\frac{f^{2}(0)}{2!} = 0 $$\n",
    "\n",
    "\n",
    "$$ a_3 = \\frac{f^{3}(0)}{3!} = \\frac{-2!}{3!} = -\\frac{1}{3} $$\n",
    "\n",
    "\n",
    "$$ a_4 = \\frac{f^{4}(0)}{4!} = 0 $$\n",
    "\n",
    "\n",
    "$$ a_5 = \\frac{f^{5}(0)}{5!} = \\frac{4!}{5!} = \\frac{1}{5} $$"
=======
   "cell_type": "code",
   "execution_count": 66,
   "metadata": {
    "collapsed": true
   },
   "outputs": [],
   "source": [
    "def atg(x):\n",
    "#     return 1 - x**2 + x**4 - x**6 + x**8 - x**10 + x**12\n",
    "    return sum([((-1)**i) * (x**(i*2)) for i in xrange(100)])"
   ]
  },
  {
   "cell_type": "code",
   "execution_count": 67,
   "metadata": {
    "collapsed": false
   },
   "outputs": [],
   "source": [
    "# atg(2)"
   ]
  },
  {
   "cell_type": "code",
   "execution_count": 68,
   "metadata": {
    "collapsed": false
   },
   "outputs": [
    {
     "data": {
      "text/plain": [
       "[<matplotlib.lines.Line2D at 0x105fd5e10>]"
      ]
     },
     "execution_count": 68,
     "metadata": {},
     "output_type": "execute_result"
    },
    {
     "data": {
      "image/png": "iVBORw0KGgoAAAANSUhEUgAAAX4AAAEACAYAAAC08h1NAAAABHNCSVQICAgIfAhkiAAAAAlwSFlz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\nRU5ErkJggg==\n",
      "text/plain": [
       "<matplotlib.figure.Figure at 0x105fd5e90>"
      ]
     },
     "metadata": {},
     "output_type": "display_data"
    }
   ],
   "source": [
    "atgxs = np.linspace(-1, 1, 100)\n",
    "plt.plot(atgxs, np.arctan(atgxs))\n",
    "plt.plot(atgxs, atg(atgxs))"
>>>>>>> 38e42b94e5422a67ca8427ef53db3565b2c47484
   ]
  },
  {
   "cell_type": "markdown",
   "metadata": {},
   "source": [
    "7.2) Guess the rest of the terms"
   ]
  },
  {
   "cell_type": "code",
   "execution_count": null,
   "metadata": {
    "collapsed": true
   },
   "outputs": [],
   "source": []
  },
  {
   "cell_type": "markdown",
   "metadata": {},
   "source": [
    "7.3) Calculate $\\pi$ using taylor approximation for 100 **non-zero** terms. (Note I changed this to 100 terms so you must write some sort of for loop to do it)."
   ]
  },
  {
   "cell_type": "code",
   "execution_count": null,
   "metadata": {
    "collapsed": true
   },
   "outputs": [],
   "source": []
  },
  {
   "cell_type": "markdown",
   "metadata": {},
   "source": [
    "8) The purpose of this problem is to make sure you know that the bound on $f^{(n+1)}(\\xi)$ after all the cancellation is **NOT** necessarily 1 **NOR** does it have to look the same as the next term in the series.\n",
    "\n",
    "8.1)Find the first 3 **non-zero** terms of Taylor series for\n",
    "$$f(x) = \\frac{1}{1-x}$$"
   ]
  },
  {
   "cell_type": "code",
   "execution_count": null,
   "metadata": {
    "collapsed": true
   },
   "outputs": [],
   "source": []
  },
  {
   "cell_type": "markdown",
   "metadata": {},
   "source": [
    "8.2) If we estimate $$\\frac{1}{0.8} = \\frac{1}{1-0.2}$$ using the first 3 non-zero terms, what is the bound on the truncation error. Be careful about evaluating the bound for $f^{(n+1)}({\\xi})$."
   ]
  },
  {
   "cell_type": "code",
   "execution_count": null,
   "metadata": {
    "collapsed": true
   },
   "outputs": [],
   "source": []
  }
 ],
 "metadata": {
  "kernelspec": {
   "display_name": "Python 2",
   "language": "python",
   "name": "python2"
  },
  "language_info": {
   "codemirror_mode": {
    "name": "ipython",
    "version": 2
   },
   "file_extension": ".py",
   "mimetype": "text/x-python",
   "name": "python",
   "nbconvert_exporter": "python",
   "pygments_lexer": "ipython2",
   "version": "2.7.10"
  }
 },
 "nbformat": 4,
 "nbformat_minor": 0
}

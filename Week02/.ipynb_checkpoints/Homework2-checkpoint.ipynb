{
 "cells": [
  {
   "cell_type": "code",
   "execution_count": 10,
   "metadata": {
    "collapsed": false
   },
   "outputs": [],
   "source": [
    "%matplotlib inline\n",
    "import math\n",
    "import numpy as np\n",
    "from matplotlib import pyplot as plt"
   ]
  },
  {
   "cell_type": "markdown",
   "metadata": {},
   "source": [
    "0) Finish the implementation of false positon method. Use it to find the solution for $\\sin(x) + 1 = x$ do it 20 times."
   ]
  },
  {
   "cell_type": "code",
   "execution_count": null,
   "metadata": {
    "collapsed": true
   },
   "outputs": [],
   "source": []
  },
  {
   "cell_type": "markdown",
   "metadata": {},
   "source": [
    "1) Give me the solution to $x = e^{-x}$ that is $10^{-6}$ using bisection method.\n",
    "\n",
    "Pick the initial bound from the following and explain why you can't pick the other one.\n",
    "Bound A: (-1,0), Bound B (0,1)"
   ]
  },
  {
   "cell_type": "code",
   "execution_count": null,
   "metadata": {
    "collapsed": true
   },
   "outputs": [],
   "source": []
  },
  {
   "cell_type": "markdown",
   "metadata": {},
   "source": [
    "2) Find all value of $x \\in [0,1]$ such that $f(x)=0$ for\n",
    "\n",
    "$f(x) = -0.000216747 + 0.0072868 x - 0.0977383 x^2 + 0.664685 x^3 - \n",
    " 2.40773 x^4 + 4.46766 x^5 - 3.7091 x^6 + x^7$\n",
    " \n",
    "Make sure your answers are at most $10^{-6}$ away from the real solution."
   ]
  },
  {
   "cell_type": "code",
   "execution_count": 5,
   "metadata": {
    "collapsed": false
   },
   "outputs": [],
   "source": [
    "def f(x):\n",
    "    return -0.000216747 + 0.0072868*x - 0.0977383*x**2 + 0.664685*x**3 - \\\n",
    "            2.40773*x**4 + 4.46766*x**5 - 3.7091*x**6 + x**7\n"
   ]
  },
  {
   "cell_type": "markdown",
   "metadata": {},
   "source": [
    "2.1) Find all the local minima and maxima of the above function. How do you figure out whether it is a local maximum or local minimum"
   ]
  },
  {
   "cell_type": "code",
   "execution_count": null,
   "metadata": {
    "collapsed": true
   },
   "outputs": [],
   "source": []
  },
  {
   "cell_type": "markdown",
   "metadata": {},
   "source": [
    "2.2) What is the `global maximum` and `global minimum` of the function above within the range $x\\in[0,1]$"
   ]
  },
  {
   "cell_type": "code",
   "execution_count": null,
   "metadata": {
    "collapsed": true
   },
   "outputs": [],
   "source": []
  },
  {
   "cell_type": "markdown",
   "metadata": {},
   "source": [
    "3) Suppose you are saving up your money for your new phone which costs 15000 Baht.  You save 1k every month and spend the rest. The `yearly` interest rate is 2% the interest is paid continously(you get interest paid to your account every microsecond). How long do you need to wait. Your answer should not be more than one second away from the real answer."
   ]
  },
  {
   "cell_type": "code",
   "execution_count": null,
   "metadata": {
    "collapsed": true
   },
   "outputs": [],
   "source": []
  },
  {
   "cell_type": "markdown",
   "metadata": {},
   "source": [
    "4) Full Width at Half Maximum(FWHM). Distribution width is a very important quantity. It tells you how wide a function is. One way to do that is to use a quantity called full-width half max.\n",
    "\n",
    "This is the width of the distribution at half maximum. \n",
    "\n",
    "For example for distribution shown below the maximum is at x=0.0 and y=1.0\n",
    "\n",
    "The maximum of this distribution is 1.0. So we are interested in the width of the distribution when the value of the distribution is 1.0/2=0.5\n",
    "\n",
    "The width of the distribution is shown in black line. In this case it's about 2.35"
   ]
  },
  {
   "cell_type": "code",
   "execution_count": 30,
   "metadata": {
    "collapsed": false
   },
   "outputs": [
    {
     "data": {
      "text/plain": [
       "<matplotlib.text.Text at 0x1074fe610>"
      ]
     },
     "execution_count": 30,
     "metadata": {},
     "output_type": "execute_result"
    },
    {
     "data": {
      "image/png": "[encoded data removed]",
      "text/plain": [
       "<matplotlib.figure.Figure at 0x1071ab990>"
      ]
     },
     "metadata": {},
     "output_type": "display_data"
    }
   ],
   "source": [
    "import math\n",
    "def demo(x):\n",
    "    return math.exp(-x**2/2.0)\n",
    "x = np.linspace(-3,3)\n",
    "y = [demo(xx) for xx in x]\n",
    "plt.plot(x,y)\n",
    "plt.axhline(0.5, color='red')\n",
    "\n",
    "plt.axvline(2.355/2,color='red',linestyle='dashed')\n",
    "plt.axvline(-2.355/2,color='red',linestyle='dashed')\n",
    "\n",
    "plt.grid()\n",
    "plt.annotate(\n",
    "    '', xy=(-2.355/2, 0.4), xycoords='data',\n",
    "    xytext=(2.355/2, 0.4), textcoords='data',\n",
    "    arrowprops={'arrowstyle': '<->'})\n",
    "plt.text(0,0.3,'FWHM',horizontalalignment ='center')"
   ]
  },
  {
   "cell_type": "markdown",
   "metadata": {},
   "source": [
    "4.1)Find FWHM of the following function. Make sure the bound on error of the FWHM is less than $10^{-4}$."
   ]
  },
  {
   "cell_type": "code",
   "execution_count": 35,
   "metadata": {
    "collapsed": false
   },
   "outputs": [
    {
     "data": {
      "text/plain": [
       "[<matplotlib.lines.Line2D at 0x107a49510>]"
      ]
     },
     "execution_count": 35,
     "metadata": {},
     "output_type": "execute_result"
    },
    {
     "data": {
      "image/png": "[encoded data removed]",
      "text/plain": [
       "<matplotlib.figure.Figure at 0x107946a10>"
      ]
     },
     "metadata": {},
     "output_type": "display_data"
    }
   ],
   "source": [
    "import math\n",
    "def f(x, gamma=3.1):\n",
    "    mu = 2.345\n",
    "    return gamma/((x-mu)**2+gamma**2)\n",
    "x = np.linspace(-10,10,200)\n",
    "y = [f(xx) for xx in x]\n",
    "plt.plot(x,y)"
   ]
  },
  {
   "cell_type": "markdown",
   "metadata": {},
   "source": [
    "4.2) Plot FWHM(y-axis) as a function of $\\gamma$(gamma) from $\\gamma=0.5\\ldots 3$. Make sure you have at least 30 points."
   ]
  },
  {
   "cell_type": "code",
   "execution_count": 37,
   "metadata": {
    "collapsed": false
   },
   "outputs": [
    {
     "name": "stdout",
     "output_type": "stream",
     "text": [
      "0.108165114047\n"
     ]
    }
   ],
   "source": [
    "print f(1.0, gamma=0.2) # you may find this useful"
   ]
  },
  {
   "cell_type": "code",
   "execution_count": null,
   "metadata": {
    "collapsed": true
   },
   "outputs": [],
   "source": []
  }
 ],
 "metadata": {
  "kernelspec": {
   "display_name": "Python 2",
   "language": "python",
   "name": "python2"
  },
  "language_info": {
   "codemirror_mode": {
    "name": "ipython",
    "version": 2
   },
   "file_extension": ".py",
   "mimetype": "text/x-python",
   "name": "python",
   "nbconvert_exporter": "python",
   "pygments_lexer": "ipython2",
   "version": "2.7.10"
  }
 },
 "nbformat": 4,
 "nbformat_minor": 0
}

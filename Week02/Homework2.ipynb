{
 "cells": [
  {
   "cell_type": "code",
   "execution_count": 1,
   "metadata": {
    "collapsed": false
   },
   "outputs": [],
   "source": [
    "%matplotlib inline\n",
    "import math\n",
    "import numpy as np\n",
    "from matplotlib import pyplot as plt"
   ]
  },
  {
   "cell_type": "markdown",
   "metadata": {},
   "source": [
    "0) Finish the implementation of false positon method. Use it to find the solution for $\\sin(x) + 1 = x$ do it 20 times."
   ]
  },
  {
   "cell_type": "code",
   "execution_count": null,
   "metadata": {
    "collapsed": true
   },
   "outputs": [],
   "source": []
  },
  {
   "cell_type": "markdown",
   "metadata": {},
   "source": [
    "1) Give me the solution to $x = e^{-x}$ that is $10^{-6}$ using bisection method.\n",
    "\n",
    "Pick the initial bound from the following and explain why you can't pick the other one.\n",
    "Bound A: (-1,0), Bound B (0,1)"
   ]
  },
  {
   "cell_type": "code",
   "execution_count": 2,
   "metadata": {
    "collapsed": false
   },
   "outputs": [
    {
     "data": {
      "text/plain": [
       "(-5, 5)"
      ]
     },
     "execution_count": 2,
     "metadata": {},
     "output_type": "execute_result"
    },
    {
     "data": {
      "image/png": "[encoded data removed]",
      "text/plain": [
       "<matplotlib.figure.Figure at 0x105acc910>"
      ]
     },
     "metadata": {},
     "output_type": "display_data"
    }
   ],
   "source": [
    "xs = np.linspace(-5, 5, 100)\n",
    "ys = np.e**(-xs) - xs\n",
    "\n",
    "plt.plot(xs, ys)\n",
    "plt.axhline(0, c='r')\n",
    "plt.xlim(0, 2)\n",
    "plt.ylim(-5, 5)"
   ]
  },
  {
   "cell_type": "markdown",
   "metadata": {},
   "source": [
    "Pick B since x interception is not in bound A"
   ]
  },
  {
   "cell_type": "code",
   "execution_count": 3,
   "metadata": {
    "collapsed": true
   },
   "outputs": [],
   "source": [
    "def findInt(fm, to):\n",
    "    def cal(x):\n",
    "        return np.e**(-x) - x\n",
    "    \n",
    "    mid = (fm + to)/2.\n",
    "    if (np.abs(cal(mid)) <= 1e-6):\n",
    "        return mid\n",
    "    else:\n",
    "        if (cal(mid) <= 0 and cal(fm) >= 0):\n",
    "            return findInt(fm, mid)\n",
    "        else:\n",
    "            return findInt(mid, to)"
   ]
  },
  {
   "cell_type": "code",
   "execution_count": 4,
   "metadata": {
    "collapsed": false
   },
   "outputs": [],
   "source": [
    "ans = findInt(0, 1)"
   ]
  },
  {
   "cell_type": "code",
   "execution_count": 5,
   "metadata": {
    "collapsed": false
   },
   "outputs": [
    {
     "data": {
      "text/plain": [
       "(-5, 5)"
      ]
     },
     "execution_count": 5,
     "metadata": {},
     "output_type": "execute_result"
    },
    {
     "data": {
      "image/png": "[encoded data removed]",
      "text/plain": [
       "<matplotlib.figure.Figure at 0x105b05390>"
      ]
     },
     "metadata": {},
     "output_type": "display_data"
    }
   ],
   "source": [
    "xs = np.linspace(-5, 5, 100)\n",
    "ys = np.e**(-xs) - xs\n",
    "\n",
    "plt.plot(xs, ys)\n",
    "plt.axhline(0, c='r')\n",
    "plt.axvline(ans, c='c', ls='--')\n",
    "plt.xlim(0, 2)\n",
    "plt.ylim(-5, 5)"
   ]
  },
  {
   "cell_type": "markdown",
   "metadata": {},
   "source": [
    "2) Find all value of $x \\in [0,1]$ such that $f(x)=0$ for\n",
    "\n",
    "$f(x) = -0.000216747 + 0.0072868 x - 0.0977383 x^2 + 0.664685 x^3 - \n",
    " 2.40773 x^4 + 4.46766 x^5 - 3.7091 x^6 + x^7$\n",
    " \n",
    "Make sure your answers are at most $10^{-6}$ away from the real solution."
   ]
  },
  {
   "cell_type": "code",
   "execution_count": 6,
   "metadata": {
    "collapsed": false
   },
   "outputs": [],
   "source": [
    "def f(x):\n",
    "    return -0.000216747 + 0.0072868*x - 0.0977383*x**2 + 0.664685*x**3 - \\\n",
    "            2.40773*x**4 + 4.46766*x**5 - 3.7091*x**6 + x**7"
   ]
  },
  {
   "cell_type": "code",
   "execution_count": 7,
   "metadata": {
    "collapsed": false
   },
   "outputs": [
    {
     "data": {
      "text/plain": [
       "<matplotlib.lines.Line2D at 0x105c80e90>"
      ]
     },
     "execution_count": 7,
     "metadata": {},
     "output_type": "execute_result"
    },
    {
     "data": {
      "image/png": "[encoded data removed]",
      "text/plain": [
       "<matplotlib.figure.Figure at 0x105c80f10>"
      ]
     },
     "metadata": {},
     "output_type": "display_data"
    }
   ],
   "source": [
    "plt.plot(xs, f(xs))\n",
    "plt.axhline(0, c = 'r')"
   ]
  },
  {
   "cell_type": "code",
   "execution_count": 38,
   "metadata": {
    "collapsed": false
   },
   "outputs": [
    {
     "data": {
      "text/plain": [
       "(-1e-07, 1e-07)"
      ]
     },
     "execution_count": 38,
     "metadata": {},
     "output_type": "execute_result"
    },
    {
     "data": {
      "image/png": "[encoded data removed]",
      "text/plain": [
       "<matplotlib.figure.Figure at 0x105af6250>"
      ]
     },
     "metadata": {},
     "output_type": "display_data"
    }
   ],
   "source": [
    "plt.plot(xs, f(xs))\n",
    "plt.axhline(0, c = 'r')\n",
    "plt.xlim(0.1, .9)\n",
    "plt.ylim(-1e-7, 1e-7)"
   ]
  },
  {
   "cell_type": "code",
   "execution_count": 80,
   "metadata": {
    "collapsed": false
   },
   "outputs": [],
   "source": [
    "def findInt_wrapper(cal, lim):\n",
    "    def findInt(fm, to):\n",
    "        mid = (fm + to)/2.\n",
    "        while (not np.abs(cal(mid)) <= lim):\n",
    "            if cal(fm) * cal(mid) < 0:\n",
    "                to = mid\n",
    "            else:\n",
    "                fm = mid\n",
    "            mid = (fm + to)/2.\n",
    "            if (fm == to): return None\n",
    "        return mid\n",
    "    return findInt\n",
    "findInt = findInt_wrapper(f, 1e-6)\n",
    "\n",
    "# def bi_wp(ff):\n",
    "#     def bisection(l, r, n):\n",
    "#         for i in range(n):\n",
    "#             c = (l + r)/2.\n",
    "\n",
    "#             Ei.append(np.abs(c - sol))\n",
    "\n",
    "#             if ff(l) * ff(c) < 0:\n",
    "#                 r = c\n",
    "#             else:\n",
    "#                 l = c\n",
    "#         return c\n",
    "#     return bisection\n",
    "# findInt = bi_wp(f)"
   ]
  },
  {
   "cell_type": "code",
   "execution_count": 81,
   "metadata": {
    "collapsed": false
   },
   "outputs": [
    {
     "name": "stdout",
     "output_type": "stream",
     "text": [
      "[0.0975, 0.21750000000000003, 0.333125, 0.785411376953125]\n"
     ]
    }
   ],
   "source": [
    "x1 = findInt(0, 0.13)\n",
    "x2 = findInt(0.13, 0.23)\n",
    "x3 = findInt(0.23, 0.34)\n",
    "x4 = findInt(0.34, 1)\n",
    "\n",
    "x_ints = [x1, x2, x3, x4]\n",
    "print x_ints"
   ]
  },
  {
   "cell_type": "code",
   "execution_count": 82,
   "metadata": {
    "collapsed": false
   },
   "outputs": [
    {
     "data": {
      "image/png": "[encoded data removed]",
      "text/plain": [
       "<matplotlib.figure.Figure at 0x103f4e650>"
      ]
     },
     "metadata": {},
     "output_type": "display_data"
    }
   ],
   "source": [
    "xs = np.linspace(0, 1, 1000)\n",
    "plt.plot(xs, f(xs))\n",
    "plt.axhline(0, c = 'r')\n",
    "plt.xlim(0, 1)\n",
    "plt.ylim(-2 * 1e-6, 2 * 1e-6)\n",
    "plt.axhline(1e-6, c = 'g', ls='--')\n",
    "plt.axhline(-1e-6, c = 'r', ls='--')\n",
    "plt.grid(True)\n",
    "\n",
    "for i in xrange(4):\n",
    "    plt.axvline(x_ints[i], c = 'c', ls='-', lw=2, alpha=0.75)"
   ]
  },
  {
   "cell_type": "markdown",
   "metadata": {},
   "source": [
    "2.1) Find all the local minima and maxima of the above function. How do you figure out whether it is a local maximum or local minimum"
   ]
  },
  {
   "cell_type": "code",
   "execution_count": 83,
   "metadata": {
    "collapsed": true
   },
   "outputs": [],
   "source": [
    "def f_dx(x):\n",
    "    return 0.0072868 - 0.0977383*2*x + 0.664685*3*x**2 - \\\n",
    "            2.40773*4*x**3 + 4.46766*5*x**4 - 3.7091*6*x**5 + 7*x**6"
   ]
  },
  {
   "cell_type": "code",
   "execution_count": 106,
   "metadata": {
    "collapsed": true
   },
   "outputs": [],
   "source": [
    "def findInt_wrapper(cal, lim):\n",
    "    def findInt(fm, to):\n",
    "        mid = (fm + to)/2.\n",
    "        while (not np.abs(cal(mid)) <= lim):\n",
    "            if cal(fm) * cal(mid) < 0:\n",
    "                to = mid\n",
    "            else:\n",
    "                fm = mid\n",
    "            mid = (fm + to)/2.\n",
    "            if (fm == to): return None\n",
    "        return mid\n",
    "    return findInt\n",
    "findInt = findInt_wrapper(f_dx, 1e-7)"
   ]
  },
  {
   "cell_type": "code",
   "execution_count": 111,
   "metadata": {
    "collapsed": false
   },
   "outputs": [
    {
     "name": "stdout",
     "output_type": "stream",
     "text": [
      "[0.191357421875, 0.29709106445312494, 0.6817806243896483]\n"
     ]
    }
   ],
   "source": [
    "x2 = findInt(0.1, 0.2)\n",
    "x3 = findInt(0.23, 0.4)\n",
    "x4 = findInt(0.6, 0.8)\n",
    "\n",
    "x_ints = [x2, x3, x4]\n",
    "print x_ints"
   ]
  },
  {
   "cell_type": "code",
   "execution_count": 113,
   "metadata": {
    "collapsed": false
   },
   "outputs": [
    {
     "data": {
      "image/png": "[encoded data removed]",
      "text/plain": [
       "<matplotlib.figure.Figure at 0x105b050d0>"
      ]
     },
     "metadata": {},
     "output_type": "display_data"
    }
   ],
   "source": [
    "plt.plot(xs, f_dx(xs))\n",
    "plt.axhline(0, c = 'r')\n",
    "plt.xlim(0, 1)\n",
    "plt.ylim(-1e-7, 1e-7)\n",
    "plt.axhline(1e-6, c = 'g', ls='--')\n",
    "plt.axhline(-1e-6, c = 'r', ls='--')\n",
    "plt.grid(True)\n",
    "for x_int in x_ints:\n",
    "    plt.axvline(x_int, c = 'c', ls='-', lw=2, alpha=0.75)"
   ]
  },
  {
   "cell_type": "code",
   "execution_count": 121,
   "metadata": {
    "collapsed": false
   },
   "outputs": [],
   "source": [
    "# plt.plot(xs, f(xs))\n",
    "# plt.axhline(0, c = 'r')\n",
    "# plt.xlim(0, 1)\n",
    "# plt.ylim(-1e-4, 1e-3)\n",
    "# plt.axhline(1e-6, c = 'g', ls='--')\n",
    "# plt.axhline(-1e-6, c = 'r', ls='--')\n",
    "# plt.grid(True)\n",
    "# for x_int in x_ints:\n",
    "#     plt.axvline(x_int, c = 'c', ls='-', lw=2, alpha=0.75)"
   ]
  },
  {
   "cell_type": "markdown",
   "metadata": {},
   "source": [
    "2.2) What is the `global maximum` and `global minimum` of the function above within the range $x\\in[0,1]$"
   ]
  },
  {
   "cell_type": "code",
   "execution_count": 128,
   "metadata": {
    "collapsed": false
   },
   "outputs": [
    {
     "name": "stdout",
     "output_type": "stream",
     "text": [
      "(0.6817806243896483, 0.0038258083219728095)\n",
      "(0.29709106445312494, -1.214713659800727e-05)\n"
     ]
    }
   ],
   "source": [
    "glob_max = (x_ints[0], f(x_ints[0]))\n",
    "glob_min = (x_ints[0], f(x_ints[0]))\n",
    "\n",
    "def compareMax(pair_1, pair_2):\n",
    "    if pair_1[1] < pair_2[1]:\n",
    "        return pair_2\n",
    "    return pair_1\n",
    "\n",
    "def compareMin(pair_1, pair_2):\n",
    "    if pair_1[1] > pair_2[1]:\n",
    "        return pair_2\n",
    "    return pair_1\n",
    "\n",
    "\n",
    "for x_int in x_ints:\n",
    "    pair =  (x_int, f(x_int))\n",
    "    \n",
    "    glob_max = compareMax(glob_max, pair)\n",
    "    glob_min = compareMin(glob_min, pair)\n",
    "\n",
    "print glob_max\n",
    "print glob_min"
   ]
  },
  {
   "cell_type": "code",
   "execution_count": 133,
   "metadata": {
    "collapsed": false
   },
   "outputs": [
    {
     "data": {
      "image/png": "[encoded data removed]",
      "text/plain": [
       "<matplotlib.figure.Figure at 0x103fcb310>"
      ]
     },
     "metadata": {},
     "output_type": "display_data"
    }
   ],
   "source": [
    "xs = np.linspace(0, 1, 1000)\n",
    "plt.plot(xs, f(xs))\n",
    "plt.axhline(0, c = 'r')\n",
    "plt.xlim(0, 1)\n",
    "plt.ylim(-2 * 1e-5, 2 * 1e-5)\n",
    "plt.axvline(glob_min[0], c = 'c')\n",
    "plt.grid(True)"
   ]
  },
  {
   "cell_type": "code",
   "execution_count": 143,
   "metadata": {
    "collapsed": false
   },
   "outputs": [
    {
     "data": {
      "image/png": "[encoded data removed]",
      "text/plain": [
       "<matplotlib.figure.Figure at 0x105b6cd50>"
      ]
     },
     "metadata": {},
     "output_type": "display_data"
    }
   ],
   "source": [
    "xs = np.linspace(0, 1, 1000)\n",
    "plt.plot(xs, f(xs))\n",
    "plt.axhline(0, c = 'r')\n",
    "plt.xlim(0, 1)\n",
    "plt.ylim(-2 * 1e-5, 1e-2/2)\n",
    "plt.axvline(glob_max[0], c = 'c')\n",
    "plt.grid(True)"
   ]
  },
  {
   "cell_type": "markdown",
   "metadata": {},
   "source": [
    "3) Suppose you are saving up your money for your new phone which costs 15000 Baht.  You save 1k every month and spend the rest. The `yearly` interest rate is 2% the interest is paid continously(you get interest paid to your account every microsecond). How long do you need to wait. Your answer should not be more than one second away from the real answer."
   ]
  },
  {
   "cell_type": "markdown",
   "metadata": {},
   "source": [
    "$\\mbox{Let } 1 \\mbox{ month } = 30 \\mbox{ days} $ \n",
    "\n",
    "\n",
    "$\\therefore \\, 1 \\mbox{ month } = 30 \\times 24 \\times 60 \\times 60 \\times 10^6 = 2592000000000.0 \\mbox{ micro-sec}$\n",
    "\n",
    "\n",
    "$\\therefore \\, 1 \\mbox{ year } = 12 \\times 30 \\times 24 \\times 60 \\times 60 \\times 10^6 = 31104000000000.0 \\mbox{ micro-sec}$"
   ]
  },
  {
   "cell_type": "code",
   "execution_count": null,
   "metadata": {
    "collapsed": false
   },
   "outputs": [],
   "source": [
    "30 * 24 * 60 * 60 * 1e6"
   ]
  },
  {
   "cell_type": "markdown",
   "metadata": {
    "collapsed": true
   },
   "source": [
    "$$ 1000 + 1000(1.02)^{2592000000000.0} + 1000(1.02)^{5184000000000.0} + ... + 1000(1.02)^t $$"
   ]
  },
  {
   "cell_type": "code",
   "execution_count": 55,
   "metadata": {
    "collapsed": true
   },
   "outputs": [],
   "source": [
    "def calMoney(x, r, p):\n",
    "    p = p * (30 * 24 * 60 * 60 * 1e6)\n",
    "    r = r/(12 * 30 * 24 * 60 * 60 * 1e6)\n",
    "    return x * (1 + r)**p"
   ]
  },
  {
   "cell_type": "code",
   "execution_count": 56,
   "metadata": {
    "collapsed": false
   },
   "outputs": [],
   "source": [
    "def loopMe(xs):\n",
    "#     mul = 30 * 24 * 60 * 60 * 1e6\n",
    "#     r = 0.02 / (12 * 30 * 24 * 60 * 60 * 1e6)\n",
    "    r = 0.02\n",
    "    balance = 1000.\n",
    "    ys = []\n",
    "    for x in xs:\n",
    "        balance = calMoney(balance, r, x)\n",
    "        ys.append(balance)\n",
    "    return ys"
   ]
  },
  {
   "cell_type": "code",
   "execution_count": null,
   "metadata": {
    "collapsed": true
   },
   "outputs": [],
   "source": []
  },
  {
   "cell_type": "code",
   "execution_count": 96,
   "metadata": {
    "collapsed": false
   },
   "outputs": [
    {
     "data": {
      "text/plain": [
       "<matplotlib.lines.Line2D at 0x10f2063d0>"
      ]
     },
     "execution_count": 96,
     "metadata": {},
     "output_type": "execute_result"
    },
    {
     "data": {
      "image/png": "[encoded data removed]",
      "text/plain": [
       "<matplotlib.figure.Figure at 0x10f206290>"
      ]
     },
     "metadata": {},
     "output_type": "display_data"
    }
   ],
   "source": [
    "xs = np.linspace(278, 282, 10)\n",
    "ys = loopMe(xs)\n",
    "plt.plot(xs, ys)\n",
    "plt.axhline(15000, c='r')\n",
    "# plt.ylim(14900, 15100)"
   ]
  },
  {
   "cell_type": "markdown",
   "metadata": {},
   "source": [
    "4) Full Width at Half Maximum(FWHM). Distribution width is a very important quantity. It tells you how wide a function is. One way to do that is to use a quantity called full-width half max.\n",
    "\n",
    "This is the width of the distribution at half maximum. \n",
    "\n",
    "For example for distribution shown below the maximum is at x=0.0 and y=1.0\n",
    "\n",
    "The maximum of this distribution is 1.0. So we are interested in the width of the distribution when the value of the distribution is 1.0/2=0.5\n",
    "\n",
    "The width of the distribution is shown in black line. In this case it's about 2.35"
   ]
  },
  {
   "cell_type": "code",
   "execution_count": null,
   "metadata": {
    "collapsed": false
   },
   "outputs": [],
   "source": [
    "import math\n",
    "def demo(x):\n",
    "    return math.exp(-x**2/2.0)\n",
    "x = np.linspace(-3,3)\n",
    "y = [demo(xx) for xx in x]\n",
    "plt.plot(x,y)\n",
    "plt.axhline(0.5, color='red')\n",
    "\n",
    "plt.axvline(2.355/2,color='red',linestyle='dashed')\n",
    "plt.axvline(-2.355/2,color='red',linestyle='dashed')\n",
    "\n",
    "plt.grid()\n",
    "plt.annotate(\n",
    "    '', xy=(-2.355/2, 0.4), xycoords='data',\n",
    "    xytext=(2.355/2, 0.4), textcoords='data',\n",
    "    arrowprops={'arrowstyle': '<->'})\n",
    "plt.text(0,0.3,'FWHM',horizontalalignment ='center')"
   ]
  },
  {
   "cell_type": "markdown",
   "metadata": {},
   "source": [
    "4.1)Find FWHM of the following function. Make sure the bound on error of the FWHM is less than $10^{-4}$."
   ]
  },
  {
   "cell_type": "code",
   "execution_count": null,
   "metadata": {
    "collapsed": false
   },
   "outputs": [],
   "source": [
    "import math\n",
    "def f(x, gamma=3.1):\n",
    "    mu = 2.345\n",
    "    return gamma/((x-mu)**2+gamma**2)\n",
    "x = np.linspace(-10,10,200)\n",
    "y = [f(xx) for xx in x]\n",
    "plt.plot(x,y)"
   ]
  },
  {
   "cell_type": "markdown",
   "metadata": {},
   "source": [
    "4.2) Plot FWHM(y-axis) as a function of $\\gamma$(gamma) from $\\gamma=0.5\\ldots 3$. Make sure you have at least 30 points."
   ]
  },
  {
   "cell_type": "code",
   "execution_count": null,
   "metadata": {
    "collapsed": false
   },
   "outputs": [],
   "source": [
    "print f(1.0, gamma=0.2) # you may find this useful"
   ]
  },
  {
   "cell_type": "code",
   "execution_count": null,
   "metadata": {
    "collapsed": true
   },
   "outputs": [],
   "source": []
  }
 ],
 "metadata": {
  "kernelspec": {
   "display_name": "Python 2",
   "language": "python",
   "name": "python2"
  },
  "language_info": {
   "codemirror_mode": {
    "name": "ipython",
    "version": 2
   },
   "file_extension": ".py",
   "mimetype": "text/x-python",
   "name": "python",
   "nbconvert_exporter": "python",
   "pygments_lexer": "ipython2",
   "version": "2.7.10"
  }
 },
 "nbformat": 4,
 "nbformat_minor": 0
}

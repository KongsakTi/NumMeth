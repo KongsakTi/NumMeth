{
 "cells": [
  {
   "cell_type": "markdown",
   "metadata": {},
   "source": [
    "#Homework 5"
   ]
  },
  {
   "cell_type": "code",
   "execution_count": 1,
   "metadata": {
    "collapsed": false
   },
   "outputs": [],
   "source": [
    "import numpy as np\n",
    "%matplotlib inline\n",
    "from matplotlib import pyplot as plt\n",
    "import math\n",
    "from math import exp"
   ]
  },
  {
   "cell_type": "markdown",
   "metadata": {},
   "source": [
    "1) If we use trapezoid rule to find the\n",
    "$$\\int \\limits_{x=1}^{3} e^{-x} \\; dx$$\n",
    "using $10$ pieces. What would be our value and what is our bound on error? Verify that you actual error is within the bound your got."
   ]
  },
  {
   "cell_type": "code",
   "execution_count": 19,
   "metadata": {
    "collapsed": true
   },
   "outputs": [],
   "source": [
    "def cal_area(f, fm, to, n = 1e5):\n",
    "    \n",
    "    a = (f(fm) + f(to)) * 0.5\n",
    "    h = (to - fm)/float(n)\n",
    "    x = fm\n",
    "    for i in xrange(1,int(n)):\n",
    "        a += f(x + h*i)\n",
    "    return a * h"
   ]
  },
  {
   "cell_type": "code",
   "execution_count": 97,
   "metadata": {
    "collapsed": false
   },
   "outputs": [
    {
     "data": {
      "text/plain": [
       "0.3191519745135229"
      ]
     },
     "execution_count": 97,
     "metadata": {},
     "output_type": "execute_result"
    }
   ],
   "source": [
    "f = lambda x: np.exp(-x)\n",
    "cal_area(f, 1, 3, 10)"
   ]
  },
  {
   "cell_type": "markdown",
   "metadata": {},
   "source": [
    "1.1) If we want to evaluate the integral in the previous question such that the answer is at most $10^{-6}$ from the real answer. How many pieces do we need?"
   ]
  },
  {
   "cell_type": "code",
   "execution_count": 7,
   "metadata": {
    "collapsed": false
   },
   "outputs": [
    {
     "name": "stdout",
     "output_type": "stream",
     "text": [
      "497\n"
     ]
    }
   ],
   "source": [
    "def cal_error(fm, to, n, fdxdx):\n",
    "    return (((to - fm)**3.)/(12. * n**2))*np.max([fdxdx(fm), fdxdx(to)])\n",
    "\n",
    "error = 1\n",
    "n = 1\n",
    "while error > 1e-6:\n",
    "    error = cal_error(1, 3, n, lambda x: np.exp(-x))\n",
    "    n += 1\n",
    "print n"
   ]
  },
  {
   "cell_type": "markdown",
   "metadata": {},
   "source": [
    "2) Simple linear regression. Fit the data in `prob2.txt` with a straight line. Plot to verify."
   ]
  },
  {
   "cell_type": "code",
   "execution_count": 8,
   "metadata": {
    "collapsed": true
   },
   "outputs": [],
   "source": [
    "x, y = np.loadtxt('prob2.txt')"
   ]
  },
  {
   "cell_type": "code",
   "execution_count": 10,
   "metadata": {
    "collapsed": false
   },
   "outputs": [
    {
     "data": {
      "text/plain": [
       "[<matplotlib.lines.Line2D at 0x1108e76d0>]"
      ]
     },
     "execution_count": 10,
     "metadata": {},
     "output_type": "execute_result"
    },
    {
     "data": {
      "image/png": "[encoded data removed]",
      "text/plain": [
       "<matplotlib.figure.Figure at 0x1106896d0>"
      ]
     },
     "metadata": {},
     "output_type": "display_data"
    }
   ],
   "source": [
    "plt.plot(x, y, '.')"
   ]
  },
  {
   "cell_type": "code",
   "execution_count": 11,
   "metadata": {
    "collapsed": false
   },
   "outputs": [
    {
     "name": "stdout",
     "output_type": "stream",
     "text": [
      "1.24849340817 6.49963604118\n"
     ]
    }
   ],
   "source": [
    "data_x = x\n",
    "data_y = y\n",
    "\n",
    "xy = lambda x, y: x * y\n",
    "xsq = lambda x: x**2\n",
    "m = (np.mean(xy(data_x, data_y)) - np.mean(data_y)*np.mean(data_x))/(np.mean(xsq(data_x)) - np.mean(data_x)**2)\n",
    "c = np.mean(data_y) - m*np.mean(data_x)\n",
    "print m, c\n",
    "func = lambda x: m*x + c"
   ]
  },
  {
   "cell_type": "code",
   "execution_count": 18,
   "metadata": {
    "collapsed": false
   },
   "outputs": [
    {
     "data": {
      "text/plain": [
       "[<matplotlib.lines.Line2D at 0x110f67110>]"
      ]
     },
     "execution_count": 18,
     "metadata": {},
     "output_type": "execute_result"
    },
    {
     "data": {
      "image/png": "[encoded data removed]",
      "text/plain": [
       "<matplotlib.figure.Figure at 0x110b25090>"
      ]
     },
     "metadata": {},
     "output_type": "display_data"
    }
   ],
   "source": [
    "xs = np.linspace(min(x), max(x), 100)\n",
    "plt.plot(x, y, '.')\n",
    "plt.plot(xs, func(xs), ls = '--', lw='5', c='salmon')"
   ]
  },
  {
   "cell_type": "markdown",
   "metadata": {},
   "source": [
    "3) Simpson's rule. In the class, we learn how to use trapezoid rule to numerically the integral. In this problem you will find a better rule to evaluate the integral.\n",
    "\n",
    "You will show this in the next problem that\n",
    "\n",
    "$$\\int \\limits_{x=a}^{a+nh} f(x) \\; dx \\approx \\frac{h}{3} \\left(  f(x_0) + 4 \\sum^{n-1}_{i=1,3,5\\ldots} f(x_i) + 2 \\sum^{n-2}_{j=2,4,6\\ldots} f(x_j)+ f(x_n)\\right) $$\n",
    "\n",
    "where $x_i = a+ih$.\n",
    "\n",
    "\n"
   ]
  },
  {
   "cell_type": "markdown",
   "metadata": {},
   "source": [
    "3.1) Use Simpson's Rule described above to find\n",
    "\n",
    "$$\\int \\limits_{x=1}^{3} e^{-x} \\; dx$$\n",
    "\n",
    "using n = 10. This is the same integral as the one in problem 1."
   ]
  },
  {
   "cell_type": "code",
   "execution_count": 94,
   "metadata": {
    "collapsed": true
   },
   "outputs": [],
   "source": [
    "def Simpson(f, fm, to, n = 1e5):\n",
    "    h = (to - fm)/float(n)\n",
    "    xs = [fm + i*h for i in xrange(n + 1)]\n",
    "    return (h/3.) * (f(xs[0]) + 4*np.sum([f(xs[idx]) for idx in xrange(1, n, 2)]) + 2*np.sum([f(xs[idx]) for idx in xrange(2, n - 1, 2)]) + f(xs[-1]))"
   ]
  },
  {
   "cell_type": "code",
   "execution_count": 95,
   "metadata": {
    "collapsed": false
   },
   "outputs": [
    {
     "data": {
      "text/plain": [
       "0.31809518688342864"
      ]
     },
     "execution_count": 95,
     "metadata": {},
     "output_type": "execute_result"
    }
   ],
   "source": [
    "f = lambda x: np.exp(-x)\n",
    "Simpson(f, 1, 3, 10)"
   ]
  },
  {
   "cell_type": "markdown",
   "metadata": {},
   "source": [
    "Now we will try to understand why the formula shown above works. The key idea is that instead of approximating the area under the curve using trapezoid shape. We will use parabola to approximate the shape. Let us consider a curve $f(x)$ that we want to integrate\n",
    "\n",
    "$$\\int \\limits_{x=a}^{x=a+2h} f(x) \\;dx$$\n",
    "\n",
    "We will use parabola to approximate the area. This parabola will have to pass through three points.\n",
    "    $$[x, f(x)], [x+h, f(x+h)], [x+2h, f(x+2h)]$$\n",
    "    \n",
    "Concretely, suppose that we want to calculate\n",
    "\n",
    "$$\\int \\limits_{x=1}^{x=3} e^{-x} \\;dx $$\n",
    "\n",
    "with $h=1$. The parabola is shown below."
   ]
  },
  {
   "cell_type": "code",
   "execution_count": 98,
   "metadata": {
    "collapsed": false
   },
   "outputs": [
    {
     "data": {
      "text/plain": [
       "<matplotlib.legend.Legend at 0x11113e690>"
      ]
     },
     "execution_count": 98,
     "metadata": {},
     "output_type": "execute_result"
    },
    {
     "data": {
      "image/png": "[encoded data removed]",
      "text/plain": [
       "<matplotlib.figure.Figure at 0x110d20590>"
      ]
     },
     "metadata": {},
     "output_type": "display_data"
    }
   ],
   "source": [
    "def f(x):\n",
    "    return math.exp(-x)\n",
    "#let h = 1\n",
    "#we are interested in parabola that passes through\n",
    "#(1, e^-1), (2, e^-2), (3, e^-3)\n",
    "#We can us Legendre Polynomail for this.\n",
    "def poly(x):\n",
    "    #legendre polynomial that passes through (1, e^-1), (2, e^-2), (3, e^-3)\n",
    "    return 0.74742 - 0.453038*x + 0.073498*x**2\n",
    "\n",
    "x = np.linspace(1, 3,100)\n",
    "ty = [f(xx) for xx in x]\n",
    "py = [poly(xx) for xx in x]\n",
    "plt.plot(x, ty, label='f(x)')\n",
    "plt.plot(x,py, label='legendre')\n",
    "plt.plot([1,2,3],[exp(-1),exp(-2),exp(-3)],'o',label=('x, x+h, x+2h'))\n",
    "plt.xlim(0.9,3.1)\n",
    "plt.grid()\n",
    "plt.legend(loc='upper right')"
   ]
  },
  {
   "cell_type": "markdown",
   "metadata": {
    "collapsed": true
   },
   "source": [
    "3.2)From the picture above we can estimate the area of the blue curve using the area under the green parabola. This approximation is much better than trapezoid one since it capture some of the curvature of the curve.\n",
    "\n",
    "Your job is\n",
    "\n",
    " 1. Find the polynomial of degree two that passes through \n",
    " \n",
    " $$[x,f(x)], [x+h, f(x+h)], [x+2h, f(x+2h)]$$\n",
    " \n",
    " 2. Show that the area under the polynomial you found ealirer is\n",
    " \n",
    " $$ A = \\frac{h}{3} \\left[f(x)+4 f(x+h) + f(x+2h) \\right] $$\n",
    " \n",
    " All you need to do is to find whatever you got in 1) analytically. Use Wolfram Alpha or Mathematica if needed."
   ]
  },
  {
   "cell_type": "code",
   "execution_count": null,
   "metadata": {
    "collapsed": true
   },
   "outputs": [],
   "source": []
  },
  {
   "cell_type": "markdown",
   "metadata": {
    "collapsed": true
   },
   "source": [
    "3.3) Use what you found in 3.2. To show that if you subdivide the interval $[a,b]$ into $n$(even number) subdivision each one with with $h$ and we approximate the area of each two pieces using legendre polynomial as we have done in 3.1, we will find that\n",
    "\n",
    "$$\\int \\limits_{x=a}^{a+nh} f(x) \\; dx \\approx \\frac{h}{3} \\left(  f(x_0) + 4 \\sum^{n-1}_{i=1,3,5\\ldots} f(x_i) + 2 \\sum^{n-2}_{j=2,4,6\\ldots} f(x_j)+ f(x_n)\\right) $$\n",
    "\n",
    "This formula is called Simpson's 1/3 rule. It converges with $O(1/n^4)$. Much faster than Trapezoid. Proving this convergence behavior is similar to how we get one for trapezoid but the algebra is a lot more involved."
   ]
  },
  {
   "cell_type": "code",
   "execution_count": null,
   "metadata": {
    "collapsed": true
   },
   "outputs": [],
   "source": []
  },
  {
   "cell_type": "markdown",
   "metadata": {},
   "source": [
    "4) Load the data in `prob4.txt`. We want to fit this data with the following function \n",
    "\n",
    "$$f(x) = a \\exp(-x) + c$$\n",
    "\n",
    "where $a$ and $c$ are parameters. \n",
    "\n",
    "Find the $a$ and $c$ that give you the \"best fit\".\n",
    "\n",
    "Make a plot to verify the answer."
   ]
  },
  {
   "cell_type": "code",
   "execution_count": 117,
   "metadata": {
    "collapsed": true
   },
   "outputs": [],
   "source": [
    "xs, ys = np.loadtxt('prob4.txt')"
   ]
  },
  {
   "cell_type": "code",
   "execution_count": 118,
   "metadata": {
    "collapsed": false
   },
   "outputs": [
    {
     "data": {
      "text/plain": [
       "[<matplotlib.lines.Line2D at 0x112787650>]"
      ]
     },
     "execution_count": 118,
     "metadata": {},
     "output_type": "execute_result"
    },
    {
     "data": {
      "image/png": "[encoded data removed]",
      "text/plain": [
       "<matplotlib.figure.Figure at 0x1120b4c10>"
      ]
     },
     "metadata": {},
     "output_type": "display_data"
    }
   ],
   "source": [
    "plt.plot(xs, ys, '.')"
   ]
  },
  {
   "cell_type": "code",
   "execution_count": 121,
   "metadata": {
    "collapsed": false
   },
   "outputs": [
    {
     "name": "stdout",
     "output_type": "stream",
     "text": [
      "Optimization terminated successfully.\n",
      "         Current function value: 0.219237\n",
      "         Iterations: 77\n",
      "         Function evaluations: 147\n",
      "[ 1.41483474  3.07838544]\n"
     ]
    },
    {
     "data": {
      "text/plain": [
       "[<matplotlib.lines.Line2D at 0x1128f5690>]"
      ]
     },
     "execution_count": 121,
     "metadata": {},
     "output_type": "execute_result"
    },
    {
     "data": {
      "image/png": "[encoded data removed]",
      "text/plain": [
       "<matplotlib.figure.Figure at 0x1127aef50>"
      ]
     },
     "metadata": {},
     "output_type": "display_data"
    }
   ],
   "source": [
    "def padAll(xs):\n",
    "    tmp = np.zeros((xs.size, 2))\n",
    "    for i in xrange(xs.size):\n",
    "        tmp[i, 0] = 1.\n",
    "        tmp[i, 1] = np.exp(-xs[i])\n",
    "    return tmp\n",
    "\n",
    "def cost(ws):\n",
    "    tmp = 0\n",
    "    for i in xrange(xs.size):\n",
    "        guess = np.sum([ws[j] * pxs[i][j] for j in xrange(len(ws))]) #(ws[0] * pxs[i][0]) + (ws[1] * pxs[i][1])\n",
    "        tmp += (ys[i] - guess)**2\n",
    "    return tmp\n",
    "\n",
    "pxs = padAll(xs)\n",
    "import scipy.optimize as opt\n",
    "res = opt.fmin(cost, [0.,1.])  \n",
    "print res\n",
    "guesses = np.dot(pxs, res)\n",
    "plt.plot(xs, guesses, 'r.')\n",
    "plt.plot(xs, ys, 'b.')"
   ]
  },
  {
   "cell_type": "code",
   "execution_count": null,
   "metadata": {
    "collapsed": true
   },
   "outputs": [],
   "source": []
  },
  {
   "cell_type": "markdown",
   "metadata": {},
   "source": [
    "5) Shipyard. ship_speed_fuel.csv and ship_speed_fuel.txt contains data for fuel consumption and ship speed. You can load them up using loadtxt like shown below.\n",
    "\n",
    "    Variable Names\n",
    "    ship_leg (1-5)\n",
    "    speed    (knots)\n",
    "    fuel     (tons/day)\n",
    "    \n",
    "The plot below show clearly that there are two kinds of ship: small ship and a big ship. \n",
    "\n",
    "Source: S.Wang, Q. Meng (2012). \"Sailing Speed Optimization for Container\n",
    "Ships in a Liner Shipping Network,\" "
   ]
  },
  {
   "cell_type": "code",
   "execution_count": 123,
   "metadata": {
    "collapsed": false
   },
   "outputs": [
    {
     "data": {
      "text/plain": [
       "[<matplotlib.lines.Line2D at 0x112b857d0>]"
      ]
     },
     "execution_count": 123,
     "metadata": {},
     "output_type": "execute_result"
    },
    {
     "data": {
      "image/png": "[encoded data removed]",
      "text/plain": [
       "<matplotlib.figure.Figure at 0x112897b50>"
      ]
     },
     "metadata": {},
     "output_type": "display_data"
    }
   ],
   "source": [
    "ship = np.loadtxt(open(\"ship_speed_fuel.csv\",\"rb\"), delimiter=',', skiprows=1)\n",
    "#try to figure out what exactly is in the ship variable\n",
    "#see ship_speed_fuel.text for the meaning of each column\n",
    "shipno = ship[:, 0]\n",
    "speed = ship[:, 1]\n",
    "fuel = ship[:, 2]\n",
    "plt.plot(speed, fuel,'.')"
   ]
  },
  {
   "cell_type": "markdown",
   "metadata": {},
   "source": [
    "5.1) Physics dictates that the bigger the ship the more power it needs to maintain a fixed speed. Figure out which ship 1,2,3,4,5 is a big ship and which ship is a small ship."
   ]
  },
  {
   "cell_type": "code",
   "execution_count": 133,
   "metadata": {
    "collapsed": false
   },
   "outputs": [],
   "source": [
    "# Separate data using k-mean\n",
    "# Find best fit line for each\n",
    "# Test each ship# data with each \"best fit line\" -> group it according to the one with less error"
   ]
  },
  {
   "cell_type": "markdown",
   "metadata": {},
   "source": [
    "5.2) The ship fuel consumption,$c$, for a given speed, $v$ can be modeled with\n",
    "\n",
    "$$c = a v^b$$\n",
    "\n",
    "where $a$ and $b$ are parameter you need to find for best fit.\n",
    "\n",
    "This relation, is however not linear. It nees some manipulation to make it linear. We can take $\\ln$ on both side and obtain\n",
    "\n",
    "$$\\ln c = b \\ln v + \\ln a$$\n",
    "\n",
    "which is a linear relation. Your job for this one is to find $a$ and $b$ for big ship and small ship. Plot to verify. (You should have two set of parameters one for big ship and one for small ship)."
   ]
  },
  {
   "cell_type": "code",
   "execution_count": null,
   "metadata": {
    "collapsed": true
   },
   "outputs": [],
   "source": []
  },
  {
   "cell_type": "markdown",
   "metadata": {},
   "source": [
    "5.3) (Optional, for fun only.) Suppose that he small ship can carry 1000 tons of good while big ship can carry 2000 tons of good. The cost of ship fuel(bunker) is about 250 Dollar per metric tons. Company normally charge about 0.10 Dollar per ton of good per mile travel.\n",
    "\n",
    "The faster your ship goes the more trip you can make the more revenue you can get. Yet, at the same time the trip will cost you more cost on fuel.\n",
    "\n",
    "Your job is to figure out what speed you need to run the ship at for maximum profit and which ship is better for you."
   ]
  },
  {
   "cell_type": "code",
   "execution_count": null,
   "metadata": {
    "collapsed": true
   },
   "outputs": [],
   "source": []
  }
 ],
 "metadata": {
  "kernelspec": {
   "display_name": "Python 2",
   "language": "python",
   "name": "python2"
  },
  "language_info": {
   "codemirror_mode": {
    "name": "ipython",
    "version": 2
   },
   "file_extension": ".py",
   "mimetype": "text/x-python",
   "name": "python",
   "nbconvert_exporter": "python",
   "pygments_lexer": "ipython2",
   "version": "2.7.10"
  }
 },
 "nbformat": 4,
 "nbformat_minor": 0
}

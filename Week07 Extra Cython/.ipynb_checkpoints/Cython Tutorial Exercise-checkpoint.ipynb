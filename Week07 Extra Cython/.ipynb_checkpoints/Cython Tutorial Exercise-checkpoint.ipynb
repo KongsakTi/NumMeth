{
 "cells": [
  {
   "cell_type": "code",
   "execution_count": 1,
   "metadata": {
    "collapsed": true
   },
   "outputs": [],
   "source": [
    "%matplotlib inline\n",
    "import numpy as np\n",
    "from matplotlib import pyplot as plt"
   ]
  },
  {
   "cell_type": "markdown",
   "metadata": {},
   "source": [
    "#Cython\n",
    "\n",
    "How to speed up your python code.\n",
    "\n",
    "http://docs.cython.org/index.html\n",
    "http://docs.cython.org/src/userguide/language_basics.html#language-basics\n",
    "http://docs.cython.org/src/tutorial/numpy.html\n",
    "http://docs.cython.org/src/tutorial/array.html\n",
    "\n",
    "One of the main reason for python slowness is that it needs to check for type all the time.\n",
    "\n",
    "For example:\n",
    "\n",
    "    a=3\n",
    "    b=4\n",
    "    c = a+b\n",
    "\n",
    "when we do the addition python check the type of `a` and `b` and call appropriate `a.__add__` function in run time. Plus, by calling function `__add__`. It needs to call `Integer.__add__`. To call `__add__` it need to do dictionary look up for the string `\"__add__\"` in the list of method from `a` among a bunch of other things.\n",
    "\n",
    "Long story short, it does a lot of wasteful moves since python allow you to do so many things. Things would be must faster/simple if python can take advantage of type declarations while maintaining the simplicity of python language.\n",
    "\n",
    "There are two ways to do that first method is Cython which allow you to write a Python-like code then cython convert it to highly optimize C/C++ code. The C code is then compiled and linked against python. So we can load it as a module to use in python code.\n",
    "\n",
    "The other way is using JIT(Just in time compiler). This allows you to just write normal python code. JIT analyze your code and figure out the type at run time to speed up the executiion. We will not cover that here."
   ]
  },
  {
   "cell_type": "code",
   "execution_count": null,
   "metadata": {
    "collapsed": false
   },
   "outputs": [],
   "source": [
    "a=3\n",
    "a.__add__(2)"
   ]
  },
  {
   "cell_type": "markdown",
   "metadata": {},
   "source": [
    "##Basic"
   ]
  },
  {
   "cell_type": "code",
   "execution_count": null,
   "metadata": {
    "collapsed": false
   },
   "outputs": [],
   "source": [
    "%load_ext Cython\n",
    "#older version may need to do %load_ext cythonmagic"
   ]
  },
  {
   "cell_type": "code",
   "execution_count": null,
   "metadata": {
    "collapsed": false
   },
   "outputs": [],
   "source": [
    "%%cython\n",
    "#anything in this cell is cython code and will be execute as such\n",
    "#Yes, for most part it's just python code\n",
    "a = 1\n",
    "b = 3\n",
    "print a+b"
   ]
  },
  {
   "cell_type": "code",
   "execution_count": null,
   "metadata": {
    "collapsed": true
   },
   "outputs": [],
   "source": [
    "%%cython\n",
    "#Let's do something more fun\n",
    "def sumsquare(n):\n",
    "    s = 0.0\n",
    "    for i in range(n):\n",
    "        s+=i**2\n",
    "    return s"
   ]
  },
  {
   "cell_type": "code",
   "execution_count": null,
   "metadata": {
    "collapsed": true
   },
   "outputs": [],
   "source": [
    "#Yes It's exactly the same\n",
    "def pysumsquare(n):\n",
    "    s = 0.0\n",
    "    for i in range(n):\n",
    "        s+=i**2\n",
    "    return s"
   ]
  },
  {
   "cell_type": "markdown",
   "metadata": {},
   "source": [
    "##timeit to measure speed."
   ]
  },
  {
   "cell_type": "code",
   "execution_count": null,
   "metadata": {
    "collapsed": false
   },
   "outputs": [],
   "source": [
    "#without changing any of our code 2x improvement\n",
    "%timeit sumsquare(1000)\n",
    "%timeit pysumsquare(1000)"
   ]
  },
  {
   "cell_type": "code",
   "execution_count": null,
   "metadata": {
    "collapsed": false
   },
   "outputs": [],
   "source": [
    "#There are many flags you can control how it measure the time. (Google up)\n",
    "%timeit -n 100 sumsquare(1000)\n",
    "%timeit -n 100 pysumsquare(1000)"
   ]
  },
  {
   "cell_type": "code",
   "execution_count": null,
   "metadata": {
    "collapsed": false
   },
   "outputs": [],
   "source": [
    "%%timeit -n 10\n",
    "#there is a block version of timeit too. Just use double percent.\n",
    "#I don't really like this one but it's good for quick test\n",
    "a=0\n",
    "for i in range(20):\n",
    "   a+=i**2\n",
    "print a,"
   ]
  },
  {
   "cell_type": "markdown",
   "metadata": {},
   "source": [
    "##Declaring Types\n",
    "\n",
    "Let us speed it up further by telling the type using cdef."
   ]
  },
  {
   "cell_type": "code",
   "execution_count": null,
   "metadata": {
    "collapsed": true
   },
   "outputs": [],
   "source": [
    "%%cython\n",
    "#the code still looks very readable.\n",
    "def sumsquare_withtype(int n): #<<<here\n",
    "    cdef float s = 0.0 #<<here\n",
    "    cdef int i = 0 #<< and here\n",
    "    for i in range(n):\n",
    "        s+=i**2\n",
    "    return s"
   ]
  },
  {
   "cell_type": "code",
   "execution_count": null,
   "metadata": {
    "collapsed": false
   },
   "outputs": [],
   "source": [
    "#another 65x. by adding couple lines.\n",
    "#So you just speed it up by 150x by adding a couple lines. Magic!!!\n",
    "%timeit sumsquare(1000)\n",
    "%timeit sumsquare_withtype(1000)\n",
    "%timeit pysumsquare(1000)"
   ]
  },
  {
   "cell_type": "markdown",
   "metadata": {},
   "source": [
    "###Pydoc\n",
    "Good code comes with doc."
   ]
  },
  {
   "cell_type": "code",
   "execution_count": null,
   "metadata": {
    "collapsed": true
   },
   "outputs": [],
   "source": [
    "def f(x,y):\n",
    "    \"\"\"\n",
    "    f(x,y) -> x+y\n",
    "    add two numbers\n",
    "    \"\"\"\n",
    "    return x+y"
   ]
  },
  {
   "cell_type": "code",
   "execution_count": null,
   "metadata": {
    "collapsed": true
   },
   "outputs": [],
   "source": [
    "#type f( and shift+tab works too\n",
    "?f"
   ]
  },
  {
   "cell_type": "code",
   "execution_count": null,
   "metadata": {
    "collapsed": true
   },
   "outputs": [],
   "source": [
    "%%cython\n",
    "def cyf(int x,int y):\n",
    "    \"\"\"\n",
    "    cyf(x,y)\n",
    "    add two numbers\n",
    "    \"\"\"\n",
    "    return x+y"
   ]
  },
  {
   "cell_type": "code",
   "execution_count": null,
   "metadata": {
    "collapsed": true
   },
   "outputs": [],
   "source": [
    "#there\n",
    "?cyf"
   ]
  },
  {
   "cell_type": "markdown",
   "metadata": {},
   "source": [
    "###Annotations\n",
    "Let us learn how to write a good cython code using annotations. By adding -a to %%cython, it generates a nice html for us to see what kind of C code. It's generated. The color code is <span style=\"color:GoldenRod\">Python call</span> in yellow, and white means good C code. Our goal is to get as much white as possible especially in the tight loop. You can also click on each line to see what C code it generated.\n",
    "\n",
    "The yellow in the first and the last line we can't do anything with it."
   ]
  },
  {
   "cell_type": "code",
   "execution_count": null,
   "metadata": {
    "collapsed": false
   },
   "outputs": [],
   "source": [
    "%%cython -a\n",
    "#Let's do something more fun\n",
    "def sumsquare(n):\n",
    "    s = 0.0\n",
    "    for i in range(n):\n",
    "        s+=i**2\n",
    "    return s"
   ]
  },
  {
   "cell_type": "code",
   "execution_count": null,
   "metadata": {
    "collapsed": false
   },
   "outputs": [],
   "source": [
    "%%cython -a\n",
    "#Let's do something more fun\n",
    "def sumsquare_withtype(int n): #<<<here\n",
    "    cdef float s = 0.0 #<<here\n",
    "    cdef int i = 0 #<< and here\n",
    "    for i in range(n):\n",
    "        s+=i**2\n",
    "    return s"
   ]
  },
  {
   "cell_type": "markdown",
   "metadata": {},
   "source": [
    "####Exercise \n",
    "1) write py_isPrime(x)"
   ]
  },
  {
   "cell_type": "code",
   "execution_count": null,
   "metadata": {
    "collapsed": true
   },
   "outputs": [],
   "source": [
    "import math\n",
    "def py_isPrime(x):\n",
    "    l = int(math.ceil(math.sqrt(x)))\n",
    "    if x%2==0:\n",
    "        return False\n",
    "    for i in range(3,l+1,2): #from 3,5,7...to sqrt(x)\n",
    "        if x%i == 0:\n",
    "            return False\n",
    "    return True"
   ]
  },
  {
   "cell_type": "markdown",
   "metadata": {},
   "source": [
    "2) Now write a cython version. (Note the annotation is a guideline. Some yellow is unavoidable)"
   ]
  },
  {
   "cell_type": "code",
   "execution_count": null,
   "metadata": {
    "collapsed": false
   },
   "outputs": [],
   "source": [
    "%%cython -a\n",
    "from libc.math cimport ceil, sqrt #use libc math not python math\n",
    "def cy_isPrime(int x):\n",
    "    cdef int l = <int>sqrt(x)\n",
    "    cdef int i = 0\n",
    "    if x%2==0:\n",
    "        return False\n",
    "    for i in range(3,l+1,2): #from 2...to sqrt(x)\n",
    "        if x%i == 0:\n",
    "            return False\n",
    "    return True"
   ]
  },
  {
   "cell_type": "code",
   "execution_count": null,
   "metadata": {
    "collapsed": false
   },
   "outputs": [],
   "source": [
    "print cy_isPrime(3)"
   ]
  },
  {
   "cell_type": "code",
   "execution_count": null,
   "metadata": {
    "collapsed": false
   },
   "outputs": [],
   "source": [
    "%timeit -n 100 py_isPrime(999983)\n",
    "%timeit -n 100 cy_isPrime(999983)"
   ]
  },
  {
   "cell_type": "markdown",
   "metadata": {},
   "source": [
    "###Profiling\n",
    "Let us write nPrimes which return prime up to n and let us see what is the bottle neck with %prun."
   ]
  },
  {
   "cell_type": "code",
   "execution_count": null,
   "metadata": {
    "collapsed": false
   },
   "outputs": [],
   "source": [
    "import math\n",
    "def py_isPrime(x):\n",
    "    l = int(math.ceil(math.sqrt(x)))\n",
    "    if x==2:\n",
    "        return True\n",
    "    elif x%2==0:\n",
    "        return False\n",
    "    \n",
    "    for i in range(3,l+1,2): #from 3,5,7...to sqrt(x)\n",
    "        if x%i == 0:\n",
    "            return False\n",
    "    return True\n",
    "\n",
    "def py_primeCount(n):\n",
    "    count = 0\n",
    "    if n>=2:\n",
    "        count +=1\n",
    "    for i in range(3,n+1,2):\n",
    "        if py_isPrime(i):\n",
    "            count+=1\n",
    "    return count"
   ]
  },
  {
   "cell_type": "code",
   "execution_count": null,
   "metadata": {
    "collapsed": false
   },
   "outputs": [],
   "source": [
    "print py_isPrime(2)\n",
    "print py_isPrime(3)"
   ]
  },
  {
   "cell_type": "code",
   "execution_count": null,
   "metadata": {
    "collapsed": true
   },
   "outputs": [],
   "source": []
  },
  {
   "cell_type": "code",
   "execution_count": null,
   "metadata": {
    "collapsed": false
   },
   "outputs": [],
   "source": [
    "print py_primeCount(10000)"
   ]
  },
  {
   "cell_type": "code",
   "execution_count": null,
   "metadata": {
    "collapsed": false
   },
   "outputs": [],
   "source": [
    "%timeit py_primeCount(10000)"
   ]
  },
  {
   "cell_type": "code",
   "execution_count": null,
   "metadata": {
    "collapsed": false
   },
   "outputs": [],
   "source": [
    "%prun py_primeCount(10000)"
   ]
  },
  {
   "cell_type": "code",
   "execution_count": null,
   "metadata": {
    "collapsed": true
   },
   "outputs": [],
   "source": [
    "#you can see the the bottle neck is in isPrime it's called a lot and takes a lot of time"
   ]
  },
  {
   "cell_type": "markdown",
   "metadata": {},
   "source": [
    "Let us use cython version of isPrime. You can see that the time is cut by a half.\n",
    "If I'm in rush, I'd just stop here."
   ]
  },
  {
   "cell_type": "code",
   "execution_count": null,
   "metadata": {
    "collapsed": true
   },
   "outputs": [],
   "source": [
    "def py_primeCount2(n):\n",
    "    count = 0\n",
    "    if n>=2:\n",
    "        count +=1\n",
    "    for i in range(3,n+1,2):\n",
    "        if cy_isPrime(i):\n",
    "            count+=1\n",
    "    return count  "
   ]
  },
  {
   "cell_type": "code",
   "execution_count": null,
   "metadata": {
    "collapsed": false
   },
   "outputs": [],
   "source": [
    "%timeit py_primeCount2(10000)"
   ]
  },
  {
   "cell_type": "code",
   "execution_count": null,
   "metadata": {
    "collapsed": false
   },
   "outputs": [],
   "source": [
    "%prun py_primeCount2(10000)"
   ]
  },
  {
   "cell_type": "markdown",
   "metadata": {},
   "source": [
    "###function declaration def cdef cpdef"
   ]
  },
  {
   "cell_type": "markdown",
   "metadata": {},
   "source": [
    "How about using both function as cython. There are three ways to do it: def cdef cpdef.\n",
    "\n",
    "`def` is just for normal python function.\n",
    "\n",
    "`cdef` is like declaring a c function. So other function in cython doesn't have to do name look up. This however has some restriction like return type etc and the function can't be called from python.\n",
    "\n",
    "`cpdef` generates both `def` and `cdef` version. Cython takes care of calling the appropriate one."
   ]
  },
  {
   "cell_type": "code",
   "execution_count": null,
   "metadata": {
    "collapsed": false
   },
   "outputs": [],
   "source": [
    "%%cython -a\n",
    "from libc.math cimport ceil, sqrt #use libc math not python math\n",
    "def cy_isPrime(int x):\n",
    "    cdef int l = <int>sqrt(x)\n",
    "    cdef int i = 0\n",
    "    if x==2:\n",
    "        return True\n",
    "    elif x%2==0:\n",
    "        return False\n",
    "    \n",
    "    for i in range(3,l+1,2): #from 2...to sqrt(x)\n",
    "        if x%i == 0:\n",
    "            return False\n",
    "    return True\n",
    "\n",
    "def cy_primeCount(int n):\n",
    "    cdef int count = 0\n",
    "    cdef int i\n",
    "    if n>=2:\n",
    "        count +=1\n",
    "    for i in range(3,n+1,2):\n",
    "        if cy_isPrime(i):\n",
    "            count+=1\n",
    "    return count"
   ]
  },
  {
   "cell_type": "code",
   "execution_count": null,
   "metadata": {
    "collapsed": false
   },
   "outputs": [],
   "source": [
    "%timeit cy_primeCount(10000)"
   ]
  },
  {
   "cell_type": "markdown",
   "metadata": {},
   "source": [
    "Python function is very expensive since it has to do name lookup for appropriate function. Unlike C, Python doesn't just jump to specific function which was determine at run time. Python look up the name findout where is the funtion at runtime. This is necessary since you can keep redifining function at run time."
   ]
  },
  {
   "cell_type": "code",
   "execution_count": null,
   "metadata": {
    "collapsed": false
   },
   "outputs": [],
   "source": [
    "%%cython -a\n",
    "from libc.math cimport ceil, sqrt #use libc math not python math\n",
    "cdef bint cy_cdef_isPrime(int x):\n",
    "    cdef int l = <int>sqrt(x)\n",
    "    cdef int i = 0\n",
    "    if x%2==0:\n",
    "        return False\n",
    "    for i in range(3,l+1,2): #from 2...to sqrt(x)\n",
    "        if x%i == 0:\n",
    "            return False\n",
    "    return True\n",
    "\n",
    "def cy_cdef_primeCount(int n):\n",
    "    cdef int count = 0\n",
    "    cdef int i\n",
    "    if n>=2:\n",
    "        count +=1\n",
    "    for i in range(3,n+1,2):\n",
    "        if cy_cdef_isPrime(i):\n",
    "            count+=1\n",
    "    return count"
   ]
  },
  {
   "cell_type": "code",
   "execution_count": null,
   "metadata": {
    "collapsed": false
   },
   "outputs": [],
   "source": [
    "%timeit cy_cdef_primeCount(10000)"
   ]
  },
  {
   "cell_type": "code",
   "execution_count": null,
   "metadata": {
    "collapsed": false
   },
   "outputs": [],
   "source": [
    "#however cdef function is not defined outside\n",
    "#uncomment this line it will say the function is undefined.\n",
    "#cy_cdef_isPrime"
   ]
  },
  {
   "cell_type": "code",
   "execution_count": null,
   "metadata": {
    "collapsed": false
   },
   "outputs": [],
   "source": [
    "%%cython -a\n",
    "import math\n",
    "from libc.math cimport ceil, sqrt #use libc math not python math\n",
    "cpdef bint cy_cpdef_isPrime(int x):\n",
    "    cdef int l = <int>sqrt(x)\n",
    "    cdef int i = 0\n",
    "    if x%2==0:\n",
    "        return False\n",
    "    for i in range(3,l+1,2): #from 2...to sqrt(x)\n",
    "        if x%i == 0:\n",
    "            return False\n",
    "    return True\n",
    "\n",
    "def cy_cpdef_primeCount(int n):\n",
    "    cdef int count = 0\n",
    "    cdef int i\n",
    "    if n>=2:\n",
    "        count +=1\n",
    "    for i in range(3,n+1,2):\n",
    "        if cy_cpdef_isPrime(i):\n",
    "            count+=1\n",
    "    return count"
   ]
  },
  {
   "cell_type": "code",
   "execution_count": null,
   "metadata": {
    "collapsed": false
   },
   "outputs": [],
   "source": [
    "%timeit cy_cpdef_primeCount(10000)"
   ]
  },
  {
   "cell_type": "code",
   "execution_count": null,
   "metadata": {
    "collapsed": false
   },
   "outputs": [],
   "source": [
    "#and the function is defined outside\n",
    "cy_cpdef_isPrime(999983)"
   ]
  },
  {
   "cell_type": "code",
   "execution_count": null,
   "metadata": {
    "collapsed": false
   },
   "outputs": [],
   "source": [
    "#35x speed up\n",
    "print 10e-3/279e-6"
   ]
  },
  {
   "cell_type": "markdown",
   "metadata": {},
   "source": [
    "###List, Array Vector etc.\n",
    "\n",
    "Having a good compiler is not an excuse for writing a crappy algorithm. You may have notice that when we look for prime we only need to check for the divisibility of the previous prime."
   ]
  },
  {
   "cell_type": "code",
   "execution_count": null,
   "metadata": {
    "collapsed": true
   },
   "outputs": [],
   "source": [
    "from math import sqrt\n",
    "def goodPrimeCount(n):\n",
    "    count = 0\n",
    "    prime_so_far = [2]\n",
    "    if n>=2:\n",
    "        count +=1\n",
    "    for i in range(3,n,2):\n",
    "        found_prime = True\n",
    "        sqrti = math.sqrt(i)\n",
    "        for p in prime_so_far:\n",
    "            if i%p==0:\n",
    "                found_prime = False\n",
    "                break #for p\n",
    "            if p>sqrti:\n",
    "                break #for p\n",
    "        if found_prime:\n",
    "            prime_so_far.append(i)\n",
    "            count+=1\n",
    "    return count       "
   ]
  },
  {
   "cell_type": "code",
   "execution_count": null,
   "metadata": {
    "collapsed": false
   },
   "outputs": [],
   "source": [
    "%timeit py_primeCount(10000)\n",
    "%timeit py_primeCount2(10000)\n",
    "%timeit cy_cpdef_primeCount(10000)\n",
    "%timeit goodPrimeCount(10000)"
   ]
  },
  {
   "cell_type": "code",
   "execution_count": null,
   "metadata": {
    "collapsed": false
   },
   "outputs": [],
   "source": [
    "print py_primeCount(10000)\n",
    "print py_primeCount2(10000)\n",
    "print cy_cpdef_primeCount(10000)\n",
    "print goodPrimeCount(10000)"
   ]
  },
  {
   "cell_type": "code",
   "execution_count": null,
   "metadata": {
    "collapsed": false
   },
   "outputs": [],
   "source": [
    "%%cython -a\n",
    "from libc.math cimport sqrt\n",
    "\n",
    "def cy_goodPrimeCount_withlist(int n):\n",
    "    cdef int count = 0\n",
    "    cdef list prime_so_far = [2]\n",
    "    cdef int i, p\n",
    "    if n>=2:\n",
    "        count +=1\n",
    "    for i in range(3,n,2):\n",
    "        found_prime = True\n",
    "        sqrti = sqrt(i)\n",
    "        for p in prime_so_far:\n",
    "            if i%p==0:\n",
    "                found_prime = False\n",
    "                break #for p\n",
    "            if p>sqrti:\n",
    "                break #for p\n",
    "        if found_prime:\n",
    "            prime_so_far.append(i)\n",
    "            count+=1\n",
    "    return count   "
   ]
  },
  {
   "cell_type": "code",
   "execution_count": null,
   "metadata": {
    "collapsed": false
   },
   "outputs": [],
   "source": [
    "%timeit goodPrimeCount(10000)\n",
    "%timeit cy_goodPrimeCount_withlist(10000)"
   ]
  },
  {
   "cell_type": "markdown",
   "metadata": {},
   "source": [
    "###Exercise\n",
    "\n",
    "Euler conjecture. You probably have seen this one before.\n",
    "http://www.ams.org/journals/bull/1966-72-06/S0002-9904-1966-11654-3/S0002-9904-1966-11654-3.pdf\n",
    "\n",
    "Optimize this and cythonize the code"
   ]
  },
  {
   "cell_type": "code",
   "execution_count": null,
   "metadata": {
    "collapsed": true
   },
   "outputs": [],
   "source": [
    "#Python version\n",
    "#a^5 + b^5 + c^5 + d^5 = e^5 \n",
    "def euler_conjecture():\n",
    "    for a in range(1,200):\n",
    "        a5 = a**5\n",
    "        print a,\n",
    "        for b in range(a,200):\n",
    "            b5 = b**5\n",
    "            for c in range(b,200):\n",
    "                c5 = c**5\n",
    "                for d in range(c,200):\n",
    "                    d5= d**5\n",
    "                    tmp = a5 + b5 + c5 + d5  \n",
    "                    for e in range(d,200):\n",
    "                        e5=e**5\n",
    "                        if e5==tmp:\n",
    "                            return a,b,c,d,e\n",
    "                        if e5>tmp:\n",
    "                            break\n",
    "    return False          "
   ]
  },
  {
   "cell_type": "code",
   "execution_count": null,
   "metadata": {
    "collapsed": false
   },
   "outputs": [],
   "source": [
    "#Protips: Kernel Interrupt to stop it\n",
    "euler_conjecture()"
   ]
  },
  {
   "cell_type": "code",
   "execution_count": null,
   "metadata": {
    "collapsed": false
   },
   "outputs": [],
   "source": [
    "%%cython -a\n",
    "def cy_euler_conjecture():\n",
    "    cdef long a,b,c,d,e,a5,b5,c5,d5,e5\n",
    "    for a in range(1,200):\n",
    "        a5 = a**5\n",
    "        print a,\n",
    "        for b in range(a,200):\n",
    "            b5 = b**5\n",
    "            for c in range(b,200):\n",
    "                c5 = c**5\n",
    "                for d in range(c,200):\n",
    "                    d5= d**5\n",
    "                    tmp = a5 + b5 + c5 + d5  \n",
    "                    for e in range(d,200):\n",
    "                        e5=e**5\n",
    "                        if e5==tmp:\n",
    "                            return a,b,c,d,e\n",
    "                        if e5>tmp:\n",
    "                            break\n",
    "    return False    \n"
   ]
  },
  {
   "cell_type": "code",
   "execution_count": null,
   "metadata": {
    "collapsed": false,
    "scrolled": false
   },
   "outputs": [],
   "source": [
    "cy_euler_conjecture()"
   ]
  },
  {
   "cell_type": "markdown",
   "metadata": {},
   "source": [
    "###C++ vector\n",
    "Python list is usually quite slow. If you need dynamic array, you are normally better off with C++ vector and such.\n",
    "\n",
    "For static size, use numpy or c array. C++ stdlib has stuff like stack, que, map, etc.\n",
    "\n",
    "http://docs.cython.org/src/userguide/wrapping_CPlusPlus.html#standard-library\n",
    "\n",
    "http://docs.cython.org/src/reference/compilation.html"
   ]
  },
  {
   "cell_type": "code",
   "execution_count": null,
   "metadata": {
    "collapsed": false
   },
   "outputs": [],
   "source": [
    "%%cython -a --cplus\n",
    "#cython: cdivision=True\n",
    "#notice you need --cplus flag to use it with c++ library\n",
    "#the thing in cython is called compiler directive for example the\n",
    "#cdivision=True force the usage of C division without checking for zero\n",
    "#doesn't really worth it though.\n",
    "\n",
    "from libc.math cimport sqrt\n",
    "from libcpp.vector cimport vector\n",
    "def cy_goodPrimeCount_withvector(int n):\n",
    "    cdef int count = 0\n",
    "    cdef vector[int] prime_so_far\n",
    "    cdef int i, p\n",
    "    prime_so_far.push_back(2) #add 2 to the list\n",
    "    if n>=2:\n",
    "        count +=1\n",
    "    for i in range(3,n,2):\n",
    "        found_prime = True\n",
    "        sqrti = sqrt(i)\n",
    "        for p in prime_so_far:\n",
    "            if i%p==0:\n",
    "                found_prime = False\n",
    "                break #for p\n",
    "            if p>sqrti:\n",
    "                break #for p\n",
    "        if found_prime:\n",
    "            prime_so_far.push_back(i) #<<< vector use push_back\n",
    "            count+=1\n",
    "    return count "
   ]
  },
  {
   "cell_type": "code",
   "execution_count": null,
   "metadata": {
    "collapsed": false
   },
   "outputs": [],
   "source": [
    "print goodPrimeCount(10000)\n",
    "print cy_goodPrimeCount_withlist(10000)\n",
    "print cy_goodPrimeCount_withvector(10000)"
   ]
  },
  {
   "cell_type": "code",
   "execution_count": null,
   "metadata": {
    "collapsed": false
   },
   "outputs": [],
   "source": [
    "%timeit py_primeCount(10000)\n",
    "%timeit py_primeCount2(10000)\n",
    "%timeit cy_cpdef_primeCount(10000)\n",
    "%timeit goodPrimeCount(10000)\n",
    "%timeit cy_goodPrimeCount_withlist(10000)\n",
    "%timeit cy_goodPrimeCount_withvector(10000)"
   ]
  },
  {
   "cell_type": "markdown",
   "metadata": {},
   "source": [
    "###Numpy array\n",
    "\n",
    "More often than not when we do signal processing or data analysis we work with numpy array. "
   ]
  },
  {
   "cell_type": "code",
   "execution_count": null,
   "metadata": {
    "collapsed": false
   },
   "outputs": [],
   "source": [
    "import numpy as np\n",
    "n = 1000\n",
    "a = np.arange(n**2,dtype=float).reshape(n,n)\n",
    "print a\n"
   ]
  },
  {
   "cell_type": "code",
   "execution_count": null,
   "metadata": {
    "collapsed": false
   },
   "outputs": [],
   "source": [
    "def py_sumall(a):\n",
    "    s = 0.\n",
    "    nrow, ncol = a.shape\n",
    "    for irow in range(nrow):\n",
    "        for icol in range(ncol):\n",
    "            s+=a[irow, icol]\n",
    "    return s"
   ]
  },
  {
   "cell_type": "code",
   "execution_count": null,
   "metadata": {
    "collapsed": false
   },
   "outputs": [],
   "source": [
    "%timeit py_sumall(a)"
   ]
  },
  {
   "cell_type": "code",
   "execution_count": null,
   "metadata": {
    "collapsed": false
   },
   "outputs": [],
   "source": [
    "%%cython -a\n",
    "def cy_sumall(double[:,:] a): #numpy float is cython double. Yep....\n",
    "    cdef double s = 0.\n",
    "    cdef size_t nrow, ncol #yah you would have imagine int but you need size_t\n",
    "    cdef int irow, icol\n",
    "    cdef double t\n",
    "    nrow = a.shape[0]\n",
    "    ncol = a.shape[1]\n",
    "    for irow in range(nrow):\n",
    "        for icol in range(ncol):\n",
    "            t = a[irow, icol]\n",
    "            s+=t\n",
    "    return s\n",
    "\n",
    "#remember cache miss from system programming?\n",
    "#numpy put these numbers in contiguous array\n",
    "def cy_sumall2(double[:,:] a): #numpy float is cython double. Yep....\n",
    "    cdef double s = 0.\n",
    "    cdef size_t nrow, ncol #yah you would have imagine int but you need size_t\n",
    "    cdef int irow, icol\n",
    "    cdef double t\n",
    "    nrow = a.shape[0]\n",
    "    ncol = a.shape[1]\n",
    "    for icol in range(ncol):\n",
    "        for irow in range(nrow):\n",
    "            t = a[irow, icol]\n",
    "            s+=t\n",
    "    return s"
   ]
  },
  {
   "cell_type": "code",
   "execution_count": null,
   "metadata": {
    "collapsed": false
   },
   "outputs": [],
   "source": [
    "%timeit py_sumall(a)\n",
    "%timeit cy_sumall(a)\n",
    "%timeit cy_sumall2(a)\n",
    "%timeit np.sum(a)\n",
    "#2-3 times np.sum not bad."
   ]
  },
  {
   "cell_type": "code",
   "execution_count": null,
   "metadata": {
    "collapsed": false
   },
   "outputs": [],
   "source": [
    "%%cython -a\n",
    "import numpy as np\n",
    "# \"cimport\" is used to import special compile-time information\n",
    "# about the numpy module (this is stored in a file numpy.pxd which is\n",
    "# currently part of the Cython distribution).\n",
    "cimport numpy as np\n",
    "#replace some of numpy stuff with optimized version\n",
    "\n",
    "def cy_sumall3(np.ndarray a): #without the type information numpy is not so good with index\n",
    "    cdef double s = 0.\n",
    "    cdef size_t nrow, ncol #yah you would have imagine int but you need size_t\n",
    "    cdef int irow, icol\n",
    "\n",
    "    nrow = a.shape[0]\n",
    "    ncol = a.shape[1]\n",
    "    for irow in range(nrow):\n",
    "        for icol in range(ncol):\n",
    "            s += a[irow, icol]\n",
    "    return s\n",
    "\n",
    "def cy_sumall4(np.ndarray[np.float64_t, ndim=2] a):\n",
    "    cdef double s = 0.\n",
    "    cdef size_t nrow, ncol #yah you would have imagine int but you need size_t\n",
    "    cdef int irow, icol\n",
    "\n",
    "    nrow = a.shape[0]\n",
    "    ncol = a.shape[1]\n",
    "    for irow in range(nrow):\n",
    "        for icol in range(ncol):\n",
    "            s += a[irow, icol]\n",
    "    return s\n"
   ]
  },
  {
   "cell_type": "code",
   "execution_count": null,
   "metadata": {
    "collapsed": false
   },
   "outputs": [],
   "source": [
    "%timeit cy_sumall3(a) #almost as bad as python one\n",
    "%timeit cy_sumall4(a)"
   ]
  },
  {
   "cell_type": "markdown",
   "metadata": {},
   "source": [
    "###Build a new Array\n"
   ]
  },
  {
   "cell_type": "code",
   "execution_count": null,
   "metadata": {
    "collapsed": false
   },
   "outputs": [],
   "source": [
    "%%cython -a\n",
    "import numpy as np\n",
    "cimport numpy as np\n",
    "def cy_cdf(np.ndarray[np.float64_t, ndim=2] a):\n",
    "    cdef double s = 0.\n",
    "    cdef size_t nrow, ncol #yah you would have imagine int but you need size_t\n",
    "    cdef int irow, icol\n",
    "    nrow = a.shape[0]\n",
    "    ncol = a.shape[1]\n",
    "    cdef np.ndarray[np.float64_t, ndim=2] ret = np.zeros((nrow, ncol))\n",
    "\n",
    "    \n",
    "    for irow in range(nrow):\n",
    "        for icol in range(ncol):\n",
    "            s += a[irow, icol]\n",
    "            ret[irow,icol] = s\n",
    "    return ret"
   ]
  },
  {
   "cell_type": "code",
   "execution_count": null,
   "metadata": {
    "collapsed": false
   },
   "outputs": [],
   "source": [
    "cy_cdf(a)"
   ]
  },
  {
   "cell_type": "markdown",
   "metadata": {},
   "source": [
    "###pyximport\n",
    "pyximport is also a very good way to keep your work readable. You can write a module outside and import it back in."
   ]
  },
  {
   "cell_type": "code",
   "execution_count": null,
   "metadata": {
    "collapsed": false
   },
   "outputs": [],
   "source": [
    "import pyximport; pyximport.install(reload_support=True)\n",
    "import numpy as np\n",
    "pyximport.install(setup_args={'include_dirs': np.get_include()},\n",
    "                  reload_support=True)\n",
    "import mylib #there is no mylib.py just mylib.pyx\n",
    "#if you need to reload/recompile your lib do reload(mylib)\n",
    "#reload(mylib)"
   ]
  },
  {
   "cell_type": "code",
   "execution_count": null,
   "metadata": {
    "collapsed": false
   },
   "outputs": [],
   "source": [
    "mylib.cy_cdf(a)"
   ]
  },
  {
   "cell_type": "markdown",
   "metadata": {},
   "source": [
    "###Error Message\n",
    "\n",
    "cython magic comes with a super lousy error message.(Some how emitting line directive isn't the default). If you are free dig their code and submit a pull request. This can be workaround using pyximport."
   ]
  },
  {
   "cell_type": "code",
   "execution_count": null,
   "metadata": {
    "collapsed": false
   },
   "outputs": [],
   "source": [
    "%%cython\n",
    "def aa():\n",
    "    print 1/0."
   ]
  },
  {
   "cell_type": "code",
   "execution_count": null,
   "metadata": {
    "collapsed": false
   },
   "outputs": [],
   "source": [
    "aa() #Useless :("
   ]
  },
  {
   "cell_type": "markdown",
   "metadata": {},
   "source": [
    "What this does is that it write out another file call xxx.pyx then it does pyximport the module back into notebook. This however make you lose the ability to do the annnotation."
   ]
  },
  {
   "cell_type": "code",
   "execution_count": null,
   "metadata": {
    "collapsed": false
   },
   "outputs": [],
   "source": [
    "%%cython_pyximport xxx\n",
    "def xxx_raiseme():\n",
    "    print 1/0."
   ]
  },
  {
   "cell_type": "code",
   "execution_count": null,
   "metadata": {
    "collapsed": false
   },
   "outputs": [],
   "source": [
    "xxx_raiseme() #Way more useful."
   ]
  },
  {
   "cell_type": "markdown",
   "metadata": {},
   "source": [
    "###Example Edge detection.\n",
    "\n",
    "Sobel."
   ]
  },
  {
   "cell_type": "code",
   "execution_count": null,
   "metadata": {
    "collapsed": false
   },
   "outputs": [],
   "source": [
    "chopper = plt.imread('chopper.png')\n",
    "print chopper.shape\n",
    "print chopper.dtype\n",
    "plt.imshow(chopper)\n"
   ]
  },
  {
   "cell_type": "code",
   "execution_count": null,
   "metadata": {
    "collapsed": false
   },
   "outputs": [],
   "source": [
    "#python code\n",
    "import numpy as np\n",
    "def diff(img, i, j, nc, ioffset, joffset):\n",
    "    d = 0\n",
    "    for ic in range(nc):\n",
    "        d +=(img[i+ioffset,j+joffset,ic] - img[i,j,ic])**2\n",
    "    return d\n",
    "\n",
    "\n",
    "def py_sobel(img):\n",
    "    nx,ny,nc = img.shape[:3]\n",
    "    ret = np.empty((nx-2,ny-2),dtype=np.float32) #get rid of the boundaries\n",
    "    for ix in range(1,nx-1):\n",
    "        print ix,\n",
    "        for iy in range(1, ny-1):\n",
    "            s=0\n",
    "            s+=diff(img, ix, iy, nc, -1, 0) #left\n",
    "            s+=diff(img, ix, iy, nc, +1, 0)#right\n",
    "            s+=diff(img, ix, iy, nc, 0, +1)#up\n",
    "            s+=diff(img, ix, iy, nc, 0, -1)#down\n",
    "            ret[ix-1,iy-1] = s\n",
    "    return ret\n"
   ]
  },
  {
   "cell_type": "code",
   "execution_count": null,
   "metadata": {
    "collapsed": false
   },
   "outputs": [],
   "source": [
    "chopper_edge = py_sobel(chopper)\n",
    "import matplotlib.cm as cm\n",
    "plt.imshow(chopper_edge, cmap=cm.gray_r)"
   ]
  },
  {
   "cell_type": "code",
   "execution_count": null,
   "metadata": {
    "collapsed": false
   },
   "outputs": [],
   "source": [
    "#try write one yourself before looking at sobel.pyx\n",
    "pyximport.install(setup_args={'include_dirs': np.get_include()},\n",
    "                  reload_support=True)\n",
    "import sobel\n",
    "x = sobel.sobel(chopper)"
   ]
  },
  {
   "cell_type": "code",
   "execution_count": null,
   "metadata": {
    "collapsed": false
   },
   "outputs": [],
   "source": [
    "import matplotlib.cm as cm\n",
    "plt.imshow(x, cmap=cm.gray_r)"
   ]
  },
  {
   "cell_type": "markdown",
   "metadata": {},
   "source": [
    "##KMean"
   ]
  },
  {
   "cell_type": "code",
   "execution_count": 2,
   "metadata": {
    "collapsed": false
   },
   "outputs": [
    {
     "name": "stdout",
     "output_type": "stream",
     "text": [
      "(15000, 2)\n"
     ]
    },
    {
     "data": {
      "image/png": "[encoded data removed]",
      "text/plain": [
       "<matplotlib.figure.Figure at 0x1048d1590>"
      ]
     },
     "metadata": {},
     "output_type": "display_data"
    },
    {
     "data": {
      "image/png": "[encoded data removed]",
      "text/plain": [
       "<matplotlib.figure.Figure at 0x105cf1f90>"
      ]
     },
     "metadata": {},
     "output_type": "display_data"
    }
   ],
   "source": [
    "mean = (1, 2)\n",
    "cov = [[1, 0], [0, 1]]\n",
    "nx = 5000\n",
    "x1,y1 = np.random.multivariate_normal(mean, cov, nx).T\n",
    "mean = (6,4)\n",
    "cov = [[1, 0.7], [0.7, 1]]\n",
    "x2,y2 = np.random.multivariate_normal(mean, cov, nx).T\n",
    "plt.plot(x1,y1,'.r')\n",
    "plt.plot(x2,y2,'.r')\n",
    "mean = (-2,6)\n",
    "cov = [[1, -0.7], [-0.7, 1]]\n",
    "x3,y3 = np.random.multivariate_normal(mean, cov, nx).T\n",
    "plt.plot(x1,y1,'.r')\n",
    "plt.plot(x2,y2,'.g')\n",
    "plt.plot(x3,y3,'.b')\n",
    "plt.figure()\n",
    "plt.plot(x1,y1,'.r')\n",
    "plt.plot(x2,y2,'.r')\n",
    "plt.plot(x3,y3,'.r')\n",
    "\n",
    "xx = np.concatenate([x1,x2,x3])\n",
    "yy = np.concatenate([y1,y2,y3])\n",
    "data = np.array([xx,yy]).T\n",
    "print data.shape"
   ]
  },
  {
   "cell_type": "markdown",
   "metadata": {},
   "source": [
    "Exercise Cythonize this"
   ]
  },
  {
   "cell_type": "code",
   "execution_count": null,
   "metadata": {
    "collapsed": false,
    "scrolled": true
   },
   "outputs": [],
   "source": [
    "%%cython -a\n",
    "import numpy as np\n",
    "cimport numpy as np\n",
    "#Write a general one yourself\n",
    "def distance(np.ndarray[np.float64_t, ndim=1] a, np.ndarray[np.float64_t, ndim=1] b):\n",
    "    cdef int i\n",
    "    cdef np.float64_t d = 0\n",
    "    for i in range(len(a)):\n",
    "        d+=(a[i]-b[i])**2\n",
    "    return d\n",
    "\n",
    "def findclus(data,r0,r1,r2):\n",
    "    c = [[],[],[]]\n",
    "    for i in range(len(data)):\n",
    "        p = data[i]\n",
    "        d0 = distance(r0,p)\n",
    "        d1 = distance(r1,p)\n",
    "        d2 = distance(r2,p)\n",
    "        iclus = np.argmin([d0,d1,d2])\n",
    "        c[iclus].append(i)\n",
    "    return c\n",
    "\n",
    "def meanpoint(data, clus):\n",
    "    nrow, ncol = data.shape\n",
    "    c = np.zeros(ncol)\n",
    "    for idata in clus:\n",
    "        for icol in range(ncol):\n",
    "            c[icol] += data[idata, icol]\n",
    "    c = c/len(clus)\n",
    "    return c\n",
    "        \n",
    "        \n",
    "def kmean3(data, r1, r2, r3):\n",
    "#     start=[(1,0),(2,4),(4,4)]\n",
    "#     r1,r2,r3 = start\n",
    "    for i in range(20):\n",
    "        c1,c2,c3 = findclus(data, r1,r2,r3)\n",
    "        r1 = meanpoint(data, c1)\n",
    "        r2 = meanpoint(data, c2)\n",
    "        r3 = meanpoint(data, c3)\n",
    "        print r1,r2,r3\n",
    "    return r1,r2,r3        "
   ]
  },
  {
   "cell_type": "code",
   "execution_count": null,
   "metadata": {
    "collapsed": false
   },
   "outputs": [],
   "source": [
    "plt.plot(data[:,0],data[:,1],'.r')\n",
    "%prun r1, r2, r3 = kmean3(data, np.array([1.,0.]), np.array([2.,4.]),np.array([4.,4.]))\n",
    "plt.plot(r1[0],r1[1],'ob')\n",
    "plt.plot(r2[0],r2[1],'ob')\n",
    "plt.plot(r3[0],r3[1],'ob')"
   ]
  },
  {
   "cell_type": "code",
   "execution_count": null,
   "metadata": {
    "collapsed": false
   },
   "outputs": [],
   "source": [
    "data"
   ]
  },
  {
   "cell_type": "code",
   "execution_count": null,
   "metadata": {
    "collapsed": true
   },
   "outputs": [],
   "source": []
  }
 ],
 "metadata": {
  "kernelspec": {
   "display_name": "Python 2",
   "language": "python",
   "name": "python2"
  },
  "language_info": {
   "codemirror_mode": {
    "name": "ipython",
    "version": 2
   },
   "file_extension": ".py",
   "mimetype": "text/x-python",
   "name": "python",
   "nbconvert_exporter": "python",
   "pygments_lexer": "ipython2",
   "version": "2.7.10"
  }
 },
 "nbformat": 4,
 "nbformat_minor": 0
}

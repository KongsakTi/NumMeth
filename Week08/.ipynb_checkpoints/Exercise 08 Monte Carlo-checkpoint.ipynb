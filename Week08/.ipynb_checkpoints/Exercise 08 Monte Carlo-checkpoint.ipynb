{
 "cells": [
  {
   "cell_type": "markdown",
   "metadata": {},
   "source": [
    "## Pseudo Random Number Generator\n",
    "\n",
    "Let us learn about how to generate a random number."
   ]
  },
  {
   "cell_type": "code",
   "execution_count": 1,
   "metadata": {
    "collapsed": true
   },
   "outputs": [],
   "source": [
    "%matplotlib inline\n",
    "from matplotlib import pyplot as plt\n",
    "import numpy as np\n",
    "import math"
   ]
  },
  {
   "cell_type": "markdown",
   "metadata": {},
   "source": [
    "#### 1) Linear Congruent\n",
    "One of the easiest way to make random number is using linear congruential.\n",
    "\n",
    "$$x_{n+1} = a x_{n} + b \\mod 2^{31}$$\n",
    "\n",
    "pick a random $a$ and $b$ then try."
   ]
  },
  {
   "cell_type": "code",
   "execution_count": 3,
   "metadata": {
    "collapsed": false
   },
   "outputs": [
    {
     "name": "stdout",
     "output_type": "stream",
     "text": [
      "5\n",
      "4\n",
      "8\n",
      "3\n",
      "1\n",
      "9\n",
      "10\n",
      "6\n",
      "0\n",
      "2\n",
      "5\n",
      "4\n",
      "8\n",
      "3\n",
      "1\n",
      "9\n",
      "10\n",
      "6\n",
      "0\n",
      "2\n",
      "5\n",
      "4\n",
      "8\n",
      "3\n",
      "1\n",
      "9\n",
      "10\n",
      "6\n",
      "0\n",
      "2\n",
      "5\n",
      "4\n",
      "8\n",
      "3\n",
      "1\n",
      "9\n",
      "10\n",
      "6\n",
      "0\n",
      "2\n",
      "5\n",
      "4\n",
      "8\n",
      "3\n",
      "1\n",
      "9\n",
      "10\n",
      "6\n",
      "0\n",
      "2\n",
      "5\n",
      "4\n",
      "8\n",
      "3\n",
      "1\n",
      "9\n",
      "10\n",
      "6\n",
      "0\n",
      "2\n",
      "5\n",
      "4\n",
      "8\n",
      "3\n",
      "1\n",
      "9\n",
      "10\n",
      "6\n",
      "0\n",
      "2\n",
      "5\n",
      "4\n",
      "8\n",
      "3\n",
      "1\n",
      "9\n",
      "10\n",
      "6\n",
      "0\n",
      "2\n",
      "5\n",
      "4\n",
      "8\n",
      "3\n",
      "1\n",
      "9\n",
      "10\n",
      "6\n",
      "0\n",
      "2\n",
      "5\n",
      "4\n",
      "8\n",
      "3\n",
      "1\n",
      "9\n",
      "10\n",
      "6\n",
      "0\n",
      "2\n",
      "5\n",
      "4\n",
      "8\n",
      "3\n",
      "1\n",
      "9\n",
      "10\n",
      "6\n",
      "0\n",
      "2\n",
      "5\n",
      "4\n",
      "8\n",
      "3\n",
      "1\n",
      "9\n",
      "10\n",
      "6\n",
      "0\n",
      "2\n",
      "5\n",
      "4\n",
      "8\n",
      "3\n",
      "1\n",
      "9\n",
      "10\n",
      "6\n",
      "0\n",
      "2\n",
      "5\n",
      "4\n",
      "8\n",
      "3\n",
      "1\n",
      "9\n",
      "10\n",
      "6\n",
      "0\n",
      "2\n",
      "5\n",
      "4\n",
      "8\n",
      "3\n",
      "1\n",
      "9\n",
      "10\n",
      "6\n",
      "0\n",
      "2\n",
      "5\n",
      "4\n",
      "8\n",
      "3\n",
      "1\n",
      "9\n",
      "10\n",
      "6\n",
      "0\n",
      "2\n",
      "5\n",
      "4\n",
      "8\n",
      "3\n",
      "1\n",
      "9\n",
      "10\n",
      "6\n",
      "0\n",
      "2\n",
      "5\n",
      "4\n",
      "8\n",
      "3\n",
      "1\n",
      "9\n",
      "10\n",
      "6\n",
      "0\n",
      "2\n",
      "5\n",
      "4\n",
      "8\n",
      "3\n",
      "1\n",
      "9\n",
      "10\n",
      "6\n",
      "0\n",
      "2\n",
      "5\n",
      "4\n",
      "8\n",
      "3\n",
      "1\n",
      "9\n",
      "10\n",
      "6\n",
      "0\n",
      "2\n",
      "5\n",
      "4\n",
      "8\n",
      "3\n",
      "1\n",
      "9\n",
      "10\n",
      "6\n",
      "0\n",
      "2\n",
      "5\n",
      "4\n",
      "8\n",
      "3\n",
      "1\n",
      "9\n",
      "10\n",
      "6\n",
      "0\n",
      "2\n",
      "5\n",
      "4\n",
      "8\n",
      "3\n",
      "1\n",
      "9\n",
      "10\n",
      "6\n",
      "0\n",
      "2\n",
      "5\n",
      "4\n",
      "8\n",
      "3\n",
      "1\n",
      "9\n",
      "10\n",
      "6\n",
      "0\n",
      "2\n",
      "5\n",
      "4\n",
      "8\n",
      "3\n",
      "1\n",
      "9\n",
      "10\n",
      "6\n",
      "0\n",
      "2\n",
      "5\n",
      "4\n",
      "8\n",
      "3\n",
      "1\n",
      "9\n",
      "10\n",
      "6\n",
      "0\n",
      "2\n",
      "5\n",
      "4\n",
      "8\n",
      "3\n",
      "1\n",
      "9\n",
      "10\n",
      "6\n",
      "0\n",
      "2\n",
      "5\n",
      "4\n",
      "8\n",
      "3\n",
      "1\n",
      "9\n",
      "10\n",
      "6\n",
      "0\n",
      "2\n",
      "5\n",
      "4\n",
      "8\n",
      "3\n",
      "1\n",
      "9\n",
      "10\n",
      "6\n",
      "0\n",
      "2\n",
      "5\n",
      "4\n",
      "8\n",
      "3\n",
      "1\n",
      "9\n",
      "10\n",
      "6\n",
      "0\n",
      "2\n",
      "5\n",
      "4\n",
      "8\n",
      "3\n",
      "1\n",
      "9\n",
      "10\n",
      "6\n",
      "0\n",
      "2\n",
      "5\n",
      "4\n",
      "8\n",
      "3\n",
      "1\n",
      "9\n",
      "10\n",
      "6\n",
      "0\n",
      "2\n",
      "5\n",
      "4\n",
      "8\n",
      "3\n",
      "1\n",
      "9\n",
      "10\n",
      "6\n",
      "0\n",
      "2\n",
      "5\n",
      "4\n",
      "8\n",
      "3\n",
      "1\n",
      "9\n",
      "10\n",
      "6\n",
      "0\n",
      "2\n",
      "5\n",
      "4\n",
      "8\n",
      "3\n",
      "1\n",
      "9\n",
      "10\n",
      "6\n",
      "0\n",
      "2\n",
      "5\n",
      "4\n",
      "8\n",
      "3\n",
      "1\n",
      "9\n",
      "10\n",
      "6\n",
      "0\n",
      "2\n",
      "5\n",
      "4\n",
      "8\n",
      "3\n",
      "1\n",
      "9\n",
      "10\n",
      "6\n",
      "0\n",
      "2\n",
      "5\n",
      "4\n",
      "8\n",
      "3\n",
      "1\n",
      "9\n",
      "10\n",
      "6\n",
      "0\n",
      "2\n",
      "5\n",
      "4\n",
      "8\n",
      "3\n",
      "1\n",
      "9\n",
      "10\n",
      "6\n",
      "0\n",
      "2\n",
      "5\n",
      "4\n",
      "8\n",
      "3\n",
      "1\n",
      "9\n",
      "10\n",
      "6\n",
      "0\n",
      "2\n",
      "5\n",
      "4\n",
      "8\n",
      "3\n",
      "1\n",
      "9\n",
      "10\n",
      "6\n",
      "0\n",
      "2\n",
      "5\n",
      "4\n",
      "8\n",
      "3\n",
      "1\n",
      "9\n",
      "10\n",
      "6\n",
      "0\n",
      "2\n",
      "5\n",
      "4\n",
      "8\n",
      "3\n",
      "1\n",
      "9\n",
      "10\n",
      "6\n",
      "0\n",
      "2\n",
      "5\n",
      "4\n",
      "8\n",
      "3\n",
      "1\n",
      "9\n",
      "10\n",
      "6\n",
      "0\n",
      "2\n",
      "5\n",
      "4\n",
      "8\n",
      "3\n",
      "1\n",
      "9\n",
      "10\n",
      "6\n",
      "0\n",
      "2\n",
      "5\n",
      "4\n",
      "8\n",
      "3\n",
      "1\n",
      "9\n",
      "10\n",
      "6\n",
      "0\n",
      "2\n",
      "5\n",
      "4\n",
      "8\n",
      "3\n",
      "1\n",
      "9\n",
      "10\n",
      "6\n",
      "0\n",
      "2\n",
      "5\n",
      "4\n",
      "8\n",
      "3\n",
      "1\n",
      "9\n",
      "10\n",
      "6\n",
      "0\n",
      "2\n",
      "5\n",
      "4\n",
      "8\n",
      "3\n",
      "1\n",
      "9\n",
      "10\n",
      "6\n",
      "0\n",
      "2\n",
      "5\n",
      "4\n",
      "8\n",
      "3\n",
      "1\n",
      "9\n",
      "10\n",
      "6\n",
      "0\n",
      "2\n",
      "5\n",
      "4\n",
      "8\n",
      "3\n",
      "1\n",
      "9\n",
      "10\n",
      "6\n",
      "0\n",
      "2\n",
      "5\n",
      "4\n",
      "8\n",
      "3\n",
      "1\n",
      "9\n",
      "10\n",
      "6\n",
      "0\n",
      "2\n",
      "5\n",
      "4\n",
      "8\n",
      "3\n",
      "1\n",
      "9\n",
      "10\n",
      "6\n",
      "0\n",
      "2\n",
      "5\n",
      "4\n",
      "8\n",
      "3\n",
      "1\n",
      "9\n",
      "10\n",
      "6\n",
      "0\n",
      "2\n",
      "5\n",
      "4\n",
      "8\n",
      "3\n",
      "1\n",
      "9\n",
      "10\n",
      "6\n",
      "0\n",
      "2\n",
      "5\n",
      "4\n",
      "8\n",
      "3\n",
      "1\n",
      "9\n",
      "10\n",
      "6\n",
      "0\n",
      "2\n",
      "5\n",
      "4\n",
      "8\n",
      "3\n",
      "1\n",
      "9\n",
      "10\n",
      "6\n",
      "0\n",
      "2\n",
      "5\n",
      "4\n",
      "8\n",
      "3\n",
      "1\n",
      "9\n",
      "10\n",
      "6\n",
      "0\n",
      "2\n",
      "5\n",
      "4\n",
      "8\n",
      "3\n",
      "1\n",
      "9\n",
      "10\n",
      "6\n",
      "0\n",
      "2\n",
      "5\n",
      "4\n",
      "8\n",
      "3\n",
      "1\n",
      "9\n",
      "10\n",
      "6\n",
      "0\n",
      "2\n",
      "5\n",
      "4\n",
      "8\n",
      "3\n",
      "1\n",
      "9\n",
      "10\n",
      "6\n",
      "0\n",
      "2\n",
      "5\n",
      "4\n",
      "8\n",
      "3\n",
      "1\n",
      "9\n",
      "10\n",
      "6\n",
      "0\n"
     ]
    }
   ],
   "source": [
    "a = 7\n",
    "b = 13\n",
    "n = 619\n",
    "\n",
    "x = 2\n",
    "\n",
    "for i in xrange(n):\n",
    "    x = (a * x + b) % 11\n",
    "    print x"
   ]
  },
  {
   "cell_type": "markdown",
   "metadata": {},
   "source": [
    "#### 2) Cycle Problem\n",
    "\n",
    "One of the problem with linear congruent is short cycle length. For example,\n",
    "\n",
    "$$x_{n+1} =  ax_{n} + b \\mod 11$$\n",
    "\n",
    "No matter what value you give $a$ and $b$. Your cycle length will be at most 11."
   ]
  },
  {
   "cell_type": "code",
   "execution_count": null,
   "metadata": {
    "collapsed": true
   },
   "outputs": [],
   "source": []
  },
  {
   "cell_type": "markdown",
   "metadata": {},
   "source": [
    "#### 3) Fixing Cycle problem\n",
    "\n",
    "One way to do it is to generate it with a better cycle and then mod 11."
   ]
  },
  {
   "cell_type": "code",
   "execution_count": null,
   "metadata": {
    "collapsed": true
   },
   "outputs": [],
   "source": []
  },
  {
   "cell_type": "markdown",
   "metadata": {},
   "source": [
    "#### 4) Some available random number from numpy/python\n",
    "\n",
    "`np.random.random` for random a float uniformly between 0 and 1.\n",
    "\n",
    "`np.random.randint` for random integer uniformly in some range.\n",
    "\n",
    "`np.random.randn` for random float from normal distribution with mean 0 and standard deviation 1."
   ]
  },
  {
   "cell_type": "code",
   "execution_count": 13,
   "metadata": {
    "collapsed": false
   },
   "outputs": [
    {
     "data": {
      "image/png": "[encoded data removed]",
      "text/plain": [
       "<matplotlib.figure.Figure at 0x1107f8850>"
      ]
     },
     "metadata": {},
     "output_type": "display_data"
    }
   ],
   "source": [
    "x = np.random.randn(100000)\n",
    "plt.hist(x, bins=100);"
   ]
  },
  {
   "cell_type": "markdown",
   "metadata": {},
   "source": [
    "#### 5) Manipulating random number to get desired behavior.\n",
    "\n",
    "Random a float from 0 to 5.\n",
    "\n",
    "Random a float from -1 to 1.\n",
    "\n",
    "Random a float form normal distribution with mean 5 and std dev 1.\n",
    "\n",
    "Random a float form normal distribution with mean 2 and std dev 10."
   ]
  },
  {
   "cell_type": "code",
   "execution_count": null,
   "metadata": {
    "collapsed": true
   },
   "outputs": [],
   "source": []
  },
  {
   "cell_type": "markdown",
   "metadata": {},
   "source": [
    "6) What does np.random.seed do?"
   ]
  },
  {
   "cell_type": "code",
   "execution_count": null,
   "metadata": {
    "collapsed": true
   },
   "outputs": [],
   "source": []
  },
  {
   "cell_type": "markdown",
   "metadata": {},
   "source": [
    "### Monte Carlo Integration"
   ]
  },
  {
   "cell_type": "markdown",
   "metadata": {},
   "source": [
    "#### 1) Let integrate\n",
    "$$ \\iiint \\limits_{C} x^2(y-1)^2(z-2)^2\\exp(xyz) \\; dx \\; dy \\; dz$$\n",
    "Over a cube $x \\in [-1,1], y\\in [-1,1], z\\in [-1,1]$"
   ]
  },
  {
   "cell_type": "code",
   "execution_count": null,
   "metadata": {
    "collapsed": true
   },
   "outputs": [],
   "source": []
  },
  {
   "cell_type": "markdown",
   "metadata": {},
   "source": [
    "#### 2) Evaluate\n",
    "$$ \\iiint \\limits_{C} x^2(y-1)^2(z-2)^2\\exp(xyz) \\; dx \\; dy \\; dz$$\n",
    "Over a sphere of radius 1 centered at the origin."
   ]
  },
  {
   "cell_type": "code",
   "execution_count": 15,
   "metadata": {
    "collapsed": false
   },
   "outputs": [
    {
     "name": "stdout",
     "output_type": "stream",
     "text": [
      "496976.012571\n"
     ]
    }
   ],
   "source": [
    "n = 1e6\n",
    "r2 = 1.\n",
    "\n",
    "s=0.\n",
    "\n",
    "for i in xrange(int(n)):\n",
    "    x,y,z = np.random.rand(3)*2-1\n",
    "    t = x**2 + y**2 + z**2\n",
    "    if t < r2:\n",
    "        s += x**2 * (y-1)**2 * (z-2)**2 * np.exp(x * y * z)\n",
    "print s"
   ]
  },
  {
   "cell_type": "code",
   "execution_count": 18,
   "metadata": {
    "collapsed": false
   },
   "outputs": [
    {
     "data": {
      "text/plain": [
       "3.9758081005715846"
      ]
     },
     "execution_count": 18,
     "metadata": {},
     "output_type": "execute_result"
    }
   ],
   "source": [
    "s*8./n"
   ]
  },
  {
   "cell_type": "markdown",
   "metadata": {},
   "source": [
    "3) Do we guarantee to get the same answer when we repeat the experiment?"
   ]
  },
  {
   "cell_type": "code",
   "execution_count": null,
   "metadata": {
    "collapsed": true
   },
   "outputs": [],
   "source": []
  },
  {
   "cell_type": "markdown",
   "metadata": {},
   "source": [
    "4) What do we need to do to guarantee the same answer?"
   ]
  },
  {
   "cell_type": "code",
   "execution_count": null,
   "metadata": {
    "collapsed": true
   },
   "outputs": [],
   "source": []
  },
  {
   "cell_type": "markdown",
   "metadata": {},
   "source": [
    "5) How do we defind the convergence and how fast is the convergence for monte carlo integration?"
   ]
  },
  {
   "cell_type": "code",
   "execution_count": null,
   "metadata": {
    "collapsed": true
   },
   "outputs": [],
   "source": []
  },
  {
   "cell_type": "markdown",
   "metadata": {},
   "source": [
    "## Monte Carlo Simulations"
   ]
  },
  {
   "cell_type": "markdown",
   "metadata": {},
   "source": [
    "### Loaded Die.\n",
    "\n",
    "<table>\n",
    "<tr style=\"text-align:center\">\n",
    "    <td>Number</td>\n",
    "    <td>1</td>\n",
    "    <td>2</td>\n",
    "    <td>3</td>\n",
    "    <td>4</td>\n",
    "    <td>5</td>\n",
    "    <td>6</td>\n",
    "</tr>\n",
    "<tr style=\"text-align:center\">\n",
    "    <td>Probability</td>\n",
    "    <td>0.3</td>\n",
    "    <td>0.2</td>\n",
    "    <td>0.1</td>\n",
    "    <td>0.2</td>\n",
    "    <td>0.1</td>\n",
    "    <td>0.1</td>\n",
    "</tr>\n",
    "</table>"
   ]
  },
  {
   "cell_type": "markdown",
   "metadata": {},
   "source": [
    "#### 1) Simulating the dice.\n",
    "\n",
    "Simulate the dice result such that it has the given probability distribution."
   ]
  },
  {
   "cell_type": "code",
   "execution_count": 25,
   "metadata": {
    "collapsed": false
   },
   "outputs": [],
   "source": [
    "def getNum(x):\n",
    "    if x <= 0.3:\n",
    "        return 1\n",
    "    if x <= 0.5:\n",
    "        return 2\n",
    "    if x <= 0.6:\n",
    "        return 3\n",
    "    if x <= 0.8:\n",
    "        return 4\n",
    "    if x <= 0.9:\n",
    "        return 5\n",
    "    if x <= 1.:\n",
    "        return 6\n",
    "n = int(1e4)\n",
    "res = np.array([ getNum(x) for x in np.random.rand(n)])"
   ]
  },
  {
   "cell_type": "code",
   "execution_count": 26,
   "metadata": {
    "collapsed": false
   },
   "outputs": [
    {
     "data": {
      "text/plain": [
       "array([1, 1, 2, ..., 3, 4, 1])"
      ]
     },
     "execution_count": 26,
     "metadata": {},
     "output_type": "execute_result"
    }
   ],
   "source": [
    "res"
   ]
  },
  {
   "cell_type": "code",
   "execution_count": 29,
   "metadata": {
    "collapsed": false
   },
   "outputs": [
    {
     "data": {
      "image/png": "[encoded data removed]",
      "text/plain": [
       "<matplotlib.figure.Figure at 0x11134b350>"
      ]
     },
     "metadata": {},
     "output_type": "display_data"
    }
   ],
   "source": [
    "plt.hist(res, bins=6);"
   ]
  },
  {
   "cell_type": "markdown",
   "metadata": {},
   "source": [
    "#### 2) Expected Value.\n",
    "\n",
    "What is the expected value of dice result? Try both simulation and analytical formula."
   ]
  },
  {
   "cell_type": "code",
   "execution_count": 31,
   "metadata": {
    "collapsed": false
   },
   "outputs": [
    {
     "name": "stdout",
     "output_type": "stream",
     "text": [
      "2.9156\n"
     ]
    }
   ],
   "source": [
    "n = int(1e4)\n",
    "mean = np.mean(np.array([ getNum(x) for x in np.random.rand(n)]))\n",
    "print mean"
   ]
  },
  {
   "cell_type": "markdown",
   "metadata": {},
   "source": [
    "3) What is the expected value of $A+B$ where $A$ is the result of the first dice and $B$ is the result of the second dice? Use simulation and compare with analytic answer."
   ]
  },
  {
   "cell_type": "code",
   "execution_count": null,
   "metadata": {
    "collapsed": true
   },
   "outputs": [],
   "source": []
  },
  {
   "cell_type": "markdown",
   "metadata": {},
   "source": [
    "4) What is the expected value of $AB$?"
   ]
  },
  {
   "cell_type": "code",
   "execution_count": null,
   "metadata": {
    "collapsed": true
   },
   "outputs": [],
   "source": []
  },
  {
   "cell_type": "markdown",
   "metadata": {},
   "source": [
    "5) Try the experiment 10,000 times and plot out the probability of getting each result for $AB$. (Probability is given by #of times we get the number/total number of experiment."
   ]
  },
  {
   "cell_type": "code",
   "execution_count": null,
   "metadata": {
    "collapsed": true
   },
   "outputs": [],
   "source": []
  },
  {
   "cell_type": "markdown",
   "metadata": {},
   "source": [
    "6) Now we play the games of two people. We take the product of the two dice. Whoever get more number wins. What is the probability of getting a draw."
   ]
  },
  {
   "cell_type": "code",
   "execution_count": 32,
   "metadata": {
    "collapsed": true
   },
   "outputs": [],
   "source": [
    "def rollDice():\n",
    "    x = np.random.rand()\n",
    "    if x <= 0.3:\n",
    "        return 1\n",
    "    if x <= 0.5:\n",
    "        return 2\n",
    "    if x <= 0.6:\n",
    "        return 3\n",
    "    if x <= 0.8:\n",
    "        return 4\n",
    "    if x <= 0.9:\n",
    "        return 5\n",
    "    if x <= 1.:\n",
    "        return 6"
   ]
  },
  {
   "cell_type": "code",
   "execution_count": 34,
   "metadata": {
    "collapsed": false
   },
   "outputs": [
    {
     "name": "stdout",
     "output_type": "stream",
     "text": [
      "0.0845\n"
     ]
    }
   ],
   "source": [
    "n = int(1e4)\n",
    "draw = np.mean([ rollDice() * rollDice() == rollDice() * rollDice() for x in xrange(n)])\n",
    "print draw"
   ]
  },
  {
   "cell_type": "markdown",
   "metadata": {},
   "source": [
    "7) A little bit harder: consider the game of product dice. If our first dice is 3, what is the probability of winning?"
   ]
  },
  {
   "cell_type": "code",
   "execution_count": null,
   "metadata": {
    "collapsed": true
   },
   "outputs": [],
   "source": []
  },
  {
   "cell_type": "markdown",
   "metadata": {},
   "source": [
    "### Geometric Brownian Motion.\n",
    "\n",
    "One popular way to simulate stock is using geometric brownian motion. Stockprice at $t+dt$ is related to the stock price at time $t$ by\n",
    "\n",
    "$$s(t+dt) = s(t) + s(t)(\\mu dt + \\epsilon\\sigma \\sqrt{dt}) $$\n",
    "\n",
    "where\n",
    "1. $\\mu$ is the mean rate of return. Typically quote as $\\%$ per year.\n",
    "2. $\\epsilon$ is a normally distributed random variable with mean 0 and variance of 1.\n",
    "3. $\\sigma$ is called volatility. It typically quoted as $\\%$ per $\\sqrt{\\text{year}}$. It represent how wildly stock can go.\n",
    "\n",
    "To use this formula, we need to make sure the unit for $t$ is correct. Normally just convert it to year\n",
    "\n",
    "All these number can be looked up from the internet (you can calculate one yourself from historical data too). \n",
    "\n",
    "Here is one example: google for aapl volatility.\n",
    "\n",
    "The funny unit of $\\sqrt{t}$ has to do with scaling behavior. You can read it in the lecture notes."
   ]
  },
  {
   "cell_type": "markdown",
   "metadata": {},
   "source": [
    "1) Given the volatility($\\sigma$) of $28\\%$ per $\\sqrt{\\text{year}}$ and mean rate of return $8.77\\%$. The stock today is 119.21$. Write a function to generate the price for tomorrow given the price today."
   ]
  },
  {
   "cell_type": "code",
   "execution_count": 67,
   "metadata": {
    "collapsed": true
   },
   "outputs": [],
   "source": [
    "def calPrice(p):\n",
    "    mean = 0.0877\n",
    "    volatility = 0.28\n",
    "    dt = 1/252.\n",
    "    return p + p * (mean * dt + np.random.randn() * volatility * np.sqrt(dt))"
   ]
  },
  {
   "cell_type": "markdown",
   "metadata": {},
   "source": [
    "2) Generate the price for 1 trading year(all the time we said year it actually means trading year). Have dt = 1 day. 1 Trading year is actually 252 day."
   ]
  },
  {
   "cell_type": "code",
   "execution_count": 68,
   "metadata": {
    "collapsed": false
   },
   "outputs": [],
   "source": [
    "prices = [119.21]\n",
    "for i in xrange(1, 252):\n",
    "    prices += [calPrice(prices[i - 1])]"
   ]
  },
  {
   "cell_type": "code",
   "execution_count": 69,
   "metadata": {
    "collapsed": false
   },
   "outputs": [
    {
     "data": {
      "text/plain": [
       "[<matplotlib.lines.Line2D at 0x1124fe350>]"
      ]
     },
     "execution_count": 69,
     "metadata": {},
     "output_type": "execute_result"
    },
    {
     "data": {
      "image/png": "[encoded data removed]",
      "text/plain": [
       "<matplotlib.figure.Figure at 0x1124cf0d0>"
      ]
     },
     "metadata": {},
     "output_type": "display_data"
    }
   ],
   "source": [
    "plt.plot(range(252), prices)"
   ]
  },
  {
   "cell_type": "code",
   "execution_count": 70,
   "metadata": {
    "collapsed": true
   },
   "outputs": [],
   "source": [
    "def calForYear(p):\n",
    "    prices = [p]\n",
    "    for i in xrange(1, 252):\n",
    "        prices += [calPrice(prices[i - 1])]\n",
    "    return prices"
   ]
  },
  {
   "cell_type": "code",
   "execution_count": 71,
   "metadata": {
    "collapsed": true
   },
   "outputs": [],
   "source": [
    "aapl = np.array([calForYear(119.21) for i in xrange(10000)])"
   ]
  },
  {
   "cell_type": "code",
   "execution_count": 72,
   "metadata": {
    "collapsed": false
   },
   "outputs": [
    {
     "data": {
      "image/png": "[encoded data removed]",
      "text/plain": [
       "<matplotlib.figure.Figure at 0x110b7ecd0>"
      ]
     },
     "metadata": {},
     "output_type": "display_data"
    }
   ],
   "source": [
    "for i in xrange(20):\n",
    "    plt.plot(aapl[i])"
   ]
  },
  {
   "cell_type": "markdown",
   "metadata": {},
   "source": [
    "3) What is the expected value of the stock at the end of year?"
   ]
  },
  {
   "cell_type": "code",
   "execution_count": 73,
   "metadata": {
    "collapsed": true
   },
   "outputs": [],
   "source": [
    "lastPrices = [aapl[i][-1] for i in xrange(len(aapl))]"
   ]
  },
  {
   "cell_type": "code",
   "execution_count": 79,
   "metadata": {
    "collapsed": false
   },
   "outputs": [
    {
     "name": "stdout",
     "output_type": "stream",
     "text": [
      "129.537339249\n"
     ]
    },
    {
     "data": {
      "image/png": "[encoded data removed]",
      "text/plain": [
       "<matplotlib.figure.Figure at 0x113eab5d0>"
      ]
     },
     "metadata": {},
     "output_type": "display_data"
    }
   ],
   "source": [
    "plt.figure(figsize=(10,10))\n",
    "plt.hist(lastPrices, bins=100);\n",
    "plt.axvline(np.mean(lastPrices), c = 'r', lw = 5)\n",
    "print np.mean(lastPrices)"
   ]
  },
  {
   "cell_type": "markdown",
   "metadata": {},
   "source": [
    "4) What is the variance of the stock at the end of the year?"
   ]
  },
  {
   "cell_type": "code",
   "execution_count": 80,
   "metadata": {
    "collapsed": false
   },
   "outputs": [
    {
     "name": "stdout",
     "output_type": "stream",
     "text": [
      "1369.37955874\n"
     ]
    }
   ],
   "source": [
    "print np.var(lastPrices)"
   ]
  },
  {
   "cell_type": "markdown",
   "metadata": {},
   "source": [
    "5) What is the probability that the price of the stock will dip below 70 at anytime of the year?"
   ]
  },
  {
   "cell_type": "code",
   "execution_count": 81,
   "metadata": {
    "collapsed": true
   },
   "outputs": [],
   "source": [
    "probs = []\n",
    "for year in aapl:\n",
    "    probs += [np.mean([year[i] < 70 for i in xrange(len(year))])]"
   ]
  },
  {
   "cell_type": "code",
   "execution_count": 82,
   "metadata": {
    "collapsed": false
   },
   "outputs": [
    {
     "data": {
      "text/plain": [
       "0.0050317460317460339"
      ]
     },
     "execution_count": 82,
     "metadata": {},
     "output_type": "execute_result"
    }
   ],
   "source": [
    "np.mean(probs)"
   ]
  },
  {
   "cell_type": "markdown",
   "metadata": {},
   "source": [
    "6) What is the proabability that th stock will dip below 100 and come back to 110 within a year? "
   ]
  },
  {
   "cell_type": "code",
   "execution_count": 83,
   "metadata": {
    "collapsed": true
   },
   "outputs": [],
   "source": [
    "probs = []\n",
    "for year in aapl:\n",
    "    dip = False\n",
    "    back = False\n",
    "    for day in year:\n",
    "        if day < 100:\n",
    "            dip = True\n",
    "        if dip and day > 110:\n",
    "            back = True\n",
    "            break\n",
    "    probs += [back]\n"
   ]
  },
  {
   "cell_type": "code",
   "execution_count": 84,
   "metadata": {
    "collapsed": false
   },
   "outputs": [
    {
     "data": {
      "text/plain": [
       "0.27710000000000001"
      ]
     },
     "execution_count": 84,
     "metadata": {},
     "output_type": "execute_result"
    }
   ],
   "source": [
    "np.mean(probs)"
   ]
  },
  {
   "cell_type": "markdown",
   "metadata": {},
   "source": [
    "### Hill Climbing"
   ]
  },
  {
   "cell_type": "markdown",
   "metadata": {},
   "source": [
    "### Biggest Triangle.\n",
    "Let us consider the problem of finding the triangle with maximum area from given 500 points."
   ]
  },
  {
   "cell_type": "code",
   "execution_count": 9,
   "metadata": {
    "collapsed": false
   },
   "outputs": [
    {
     "data": {
      "text/plain": [
       "[<matplotlib.lines.Line2D at 0x1060f04d0>]"
      ]
     },
     "execution_count": 9,
     "metadata": {},
     "output_type": "execute_result"
    },
    {
     "data": {
      "image/png": "[encoded data removed]",
      "text/plain": [
       "<matplotlib.figure.Figure at 0x1060fc090>"
      ]
     },
     "metadata": {},
     "output_type": "display_data"
    }
   ],
   "source": [
    "np.random.seed(13)\n",
    "n = 500\n",
    "x = np.random.randn(n)*2-1\n",
    "y = np.random.randn(n)*2-1\n",
    "plt.plot(x,y,'.r')"
   ]
  },
  {
   "cell_type": "code",
   "execution_count": 1,
   "metadata": {
    "collapsed": false
   },
   "outputs": [],
   "source": [
    "def triarea(x1,y1, x2,y2, x3,y3):\n",
    "    #shoelace formula\n",
    "    return 0.5*abs(x1*y2 + x2*y3 + x3*y1 - y1*x2 - y2*x3 - y3*x1)\n",
    "\n",
    "def triarea2(r):\n",
    "    x1,y1 = r[0]\n",
    "    x2,y2 = r[1]\n",
    "    x3,y3 = r[2]\n",
    "    return triarea(x1,y1, x2,y2, x3,y3)\n"
   ]
  },
  {
   "cell_type": "code",
   "execution_count": null,
   "metadata": {
    "collapsed": true
   },
   "outputs": [],
   "source": []
  },
  {
   "cell_type": "markdown",
   "metadata": {
    "collapsed": true
   },
   "source": [
    "### Scheduling Exam\n",
    "\n",
    "Give classes and the intersection of students. Find a decent scheduling under 15 slot for 70 classes. Number of student taking both class `i` and class `j` can be found using `student[i][j]`."
   ]
  },
  {
   "cell_type": "code",
   "execution_count": 105,
   "metadata": {
    "collapsed": false
   },
   "outputs": [
    {
     "name": "stdout",
     "output_type": "stream",
     "text": [
      "[[ 0 25 27 ..., 40  0 54]\n",
      " [25  0 64 ...,  0  0  8]\n",
      " [27 64  0 ...,  0 69 45]\n",
      " ..., \n",
      " [40  0  0 ...,  0 25 70]\n",
      " [ 0  0 69 ..., 25  0 66]\n",
      " [54  8 45 ..., 70 66  0]]\n"
     ]
    },
    {
     "data": {
      "text/plain": [
       "<matplotlib.image.AxesImage at 0x107dad490>"
      ]
     },
     "execution_count": 105,
     "metadata": {},
     "output_type": "execute_result"
    },
    {
     "data": {
      "image/png": "[encoded data removed]",
      "text/plain": [
       "<matplotlib.figure.Figure at 0x1079ce210>"
      ]
     },
     "metadata": {},
     "output_type": "display_data"
    }
   ],
   "source": [
    "nclass = 70\n",
    "student = np.random.randint(0,100,(nclass, nclass))\n",
    "\n",
    "np.random.seed(222)\n",
    "for i in range(nclass-1):\n",
    "    for j in range(i+1,nclass):\n",
    "        student[i,j] = student[j,i]\n",
    "\n",
    "for i in range(nclass):\n",
    "    student[i,i] = 0 \n",
    "    \n",
    "student[student>70] = 0\n",
    "    \n",
    "print student\n",
    "\n",
    "plt.matshow(student)"
   ]
  },
  {
   "cell_type": "code",
   "execution_count": null,
   "metadata": {
    "collapsed": true
   },
   "outputs": [],
   "source": []
  },
  {
   "cell_type": "markdown",
   "metadata": {},
   "source": [
    "### Simulated Annealing"
   ]
  },
  {
   "cell_type": "markdown",
   "metadata": {
    "collapsed": true
   },
   "source": [
    "1) What's wrong with Hill Climbing?"
   ]
  },
  {
   "cell_type": "code",
   "execution_count": null,
   "metadata": {
    "collapsed": true
   },
   "outputs": [],
   "source": []
  },
  {
   "cell_type": "markdown",
   "metadata": {},
   "source": [
    "2) What is the main idea for fixing that?"
   ]
  },
  {
   "cell_type": "code",
   "execution_count": null,
   "metadata": {
    "collapsed": true
   },
   "outputs": [],
   "source": []
  },
  {
   "cell_type": "markdown",
   "metadata": {},
   "source": [
    "3) Implement the exam scheduling again with Simulated Annealing"
   ]
  },
  {
   "cell_type": "code",
   "execution_count": null,
   "metadata": {
    "collapsed": true
   },
   "outputs": [],
   "source": []
  }
 ],
 "metadata": {
  "kernelspec": {
   "display_name": "Python 2",
   "language": "python",
   "name": "python2"
  },
  "language_info": {
   "codemirror_mode": {
    "name": "ipython",
    "version": 2
   },
   "file_extension": ".py",
   "mimetype": "text/x-python",
   "name": "python",
   "nbconvert_exporter": "python",
   "pygments_lexer": "ipython2",
   "version": "2.7.10"
  }
 },
 "nbformat": 4,
 "nbformat_minor": 0
}
